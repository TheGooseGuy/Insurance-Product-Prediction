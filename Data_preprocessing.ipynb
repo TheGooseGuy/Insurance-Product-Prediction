{
  "nbformat": 4,
  "nbformat_minor": 0,
  "metadata": {
    "colab": {
      "provenance": [],
      "collapsed_sections": [
        "B4NgxhO4a2R-",
        "kioDm_SxChQT"
      ],
      "toc_visible": true,
      "include_colab_link": true
    },
    "kernelspec": {
      "name": "python3",
      "display_name": "Python 3"
    },
    "language_info": {
      "name": "python"
    }
  },
  "cells": [
    {
      "cell_type": "markdown",
      "metadata": {
        "id": "view-in-github",
        "colab_type": "text"
      },
      "source": [
        "<a href=\"https://colab.research.google.com/github/TheGooseGuy/Insurance-Product-Prediction/blob/main/Data_preprocessing.ipynb\" target=\"_parent\"><img src=\"https://colab.research.google.com/assets/colab-badge.svg\" alt=\"Open In Colab\"/></a>"
      ]
    },
    {
      "cell_type": "markdown",
      "source": [
        "Author: Stephen Torku, Zikang Ge"
      ],
      "metadata": {
        "id": "16qnOPCL5zeL"
      }
    },
    {
      "cell_type": "code",
      "execution_count": 1,
      "metadata": {
        "id": "xgC42sEw1bCJ"
      },
      "outputs": [],
      "source": [
        "import numpy as np\n",
        "import pandas as pd\n",
        "import matplotlib.pyplot as plt\n",
        "import seaborn as sns\n",
        "import re\n",
        "\n",
        "from sklearn.model_selection import train_test_split, cross_val_score\n",
        "from sklearn.linear_model import LogisticRegression\n",
        "from sklearn.metrics import accuracy_score, confusion_matrix, classification_report\n",
        "from sklearn.metrics import roc_curve, roc_auc_score, f1_score, precision_score, recall_score, precision_recall_curve\n",
        "from sklearn.preprocessing import StandardScaler\n",
        "from statsmodels.stats.outliers_influence import variance_inflation_factor\n",
        "from sklearn.decomposition import PCA\n",
        "from sklearn.ensemble import RandomForestClassifier\n",
        "from imblearn.combine import SMOTEENN\n",
        "from sklearn.linear_model import Lasso, Ridge\n",
        "from sklearn.linear_model import LassoCV, RidgeCV\n",
        "\n",
        "pd.set_option('display.precision', 2)                     # number precision for pandas\n",
        "pd.set_option('display.max_rows', 12)\n",
        "pd.set_option('display.float_format', '{:20,.2f}'.format) # get rid of scientific notation\n",
        "plt.style.use('seaborn-v0_8')                             # pretty matplotlib plots"
      ]
    },
    {
      "cell_type": "code",
      "source": [
        "from google.colab import drive\n",
        "drive.mount('/content/drive')"
      ],
      "metadata": {
        "id": "TJPuog2WuwVA",
        "outputId": "846a087b-4d7e-467b-efa9-95a8db61f647",
        "colab": {
          "base_uri": "https://localhost:8080/"
        }
      },
      "execution_count": 2,
      "outputs": [
        {
          "output_type": "stream",
          "name": "stdout",
          "text": [
            "Mounted at /content/drive\n"
          ]
        }
      ]
    },
    {
      "cell_type": "code",
      "source": [
        "train = pd.read_excel(\"/content/drive/MyDrive/6100 Project2 DATA/Project2_Training.xlsx\") # Read training data set\n",
        "test = pd.read_excel(\"/content/drive/MyDrive/6100 Project2 DATA/Project2_Test.xlsx\") # Read testing data set"
      ],
      "metadata": {
        "id": "4t5V30gK1oWb"
      },
      "execution_count": 3,
      "outputs": []
    },
    {
      "cell_type": "code",
      "source": [
        "train_data = train.copy()\n",
        "test_data = test.copy()"
      ],
      "metadata": {
        "id": "HPxnkfpp6DIa"
      },
      "execution_count": 142,
      "outputs": []
    },
    {
      "cell_type": "markdown",
      "source": [
        "# Data Pre-processing"
      ],
      "metadata": {
        "id": "B_MBILl_2MzN"
      }
    },
    {
      "cell_type": "code",
      "source": [
        "# Rename test data columns to match train data\n",
        "test_data.rename(columns={\n",
        "    'ANNUALKM': 'ANNUAL_KM',\n",
        "    'COMMUTEDISTANCE': 'COMMUTE_DISTANCE',\n",
        "    'MARKINGSYSTEM': 'MARKING_SYSTEM',\n",
        "    'TRACKINGSYSTEM': 'TRACKING_SYSTEM',\n",
        "    'VEHICLEOWNERSHIP': 'VEHICLE_OWNERSHIP',\n",
        "    'VEHICLEVALUE': 'VEHICLE_VALUE',\n",
        "    'YEAROFBIRTH': 'YEAR_OF_BIRTH',\n",
        "    'POSTALCODE': 'POSTAL_CODE',\n",
        "    'AREACODE': 'AREA_CODE',\n",
        "    'YEARSLICENSED': 'YEARS_LICENSED',\n",
        "    'YEARSASPRINCIPALDRIVER': 'YEARS_AS_PRINCIPAL_DRIVER',\n",
        "    'MULTIPRODUCT': 'MULTI_PRODUCT',\n",
        "    'MARITALSTATUS': 'MARITAL_STATUS',\n",
        "    'CONVICTIONCOUNTMINOR3YRS': 'CONVICTION_COUNT_MINOR_3YRS',\n",
        "    'CONVICTIONCOUNTMAJOR3YRS': 'CONVICTION_COUNT_MAJOR_3YRS',\n",
        "    'CONVICTIONCOUNTCRIMINAL3YRS': 'CONVICTION_COUNT_CRIMINAL_3YRS',\n",
        "    'ASSIGNEDLOSSESPD5YRS': 'ASSIGNED_LOSSES_PD_5YRS',\n",
        "    'SUSPENSIONCOUNT': 'SUSPENSION_COUNT',}, inplace=True)"
      ],
      "metadata": {
        "id": "xzKxijOZGptC"
      },
      "execution_count": 143,
      "outputs": []
    },
    {
      "cell_type": "markdown",
      "source": [
        "## Data Cleaning & Feature Engineering"
      ],
      "metadata": {
        "id": "ZMkaFryG6u5K"
      }
    },
    {
      "cell_type": "code",
      "source": [
        "# Drop duplicate rows in train data (print number of rows)\n",
        "print(f\"Number of rows before dropping duplicates: {train_data.shape[0]}\")\n",
        "train_data = train_data.drop_duplicates()\n",
        "print(f\"Number of rows after dropping duplicates: {train_data.shape[0]}\")"
      ],
      "metadata": {
        "id": "BsFBZkNSLx1Q",
        "outputId": "2723eb0f-61d5-4951-afec-a7aebe461af6",
        "colab": {
          "base_uri": "https://localhost:8080/"
        }
      },
      "execution_count": 144,
      "outputs": [
        {
          "output_type": "stream",
          "name": "stdout",
          "text": [
            "Number of rows before dropping duplicates: 101891\n",
            "Number of rows after dropping duplicates: 101886\n"
          ]
        }
      ]
    },
    {
      "cell_type": "code",
      "source": [
        "# Combine train data and test data, will split them after data processing.\n",
        "train_data['is_train'] = 1\n",
        "test_data['is_train'] = 0\n",
        "\n",
        "combined_data = pd.concat([train_data, test_data], ignore_index=True)"
      ],
      "metadata": {
        "id": "lOVTvU1yLrYr"
      },
      "execution_count": 145,
      "outputs": []
    },
    {
      "cell_type": "code",
      "source": [
        "# Check for NA values in each column\n",
        "for column in combined_data.columns:\n",
        "    if combined_data[column].isna().sum() > 0:\n",
        "        print(f\"{column} has {combined_data[column].isna().sum()} missing values.\")"
      ],
      "metadata": {
        "colab": {
          "base_uri": "https://localhost:8080/"
        },
        "id": "65iAyDVq6Yvp",
        "outputId": "5c127ac3-e05d-4bd6-f473-9d7856348038"
      },
      "execution_count": 146,
      "outputs": [
        {
          "output_type": "stream",
          "name": "stdout",
          "text": [
            "ANNUAL_KM has 1 missing values.\n",
            "COMMUTE_DISTANCE has 40603 missing values.\n",
            "MARKING_SYSTEM has 116956 missing values.\n",
            "TRACKING_SYSTEM has 116994 missing values.\n",
            "VEHICLE_OWNERSHIP has 87945 missing values.\n",
            "VEHICLE_VALUE has 74829 missing values.\n",
            "GENDER has 5 missing values.\n",
            "YEARS_LICENSED has 11 missing values.\n",
            "YEARS_AS_PRINCIPAL_DRIVER has 116220 missing values.\n",
            "OCCUPATION has 1 missing values.\n",
            "IS_BOUND has 15114 missing values.\n"
          ]
        }
      ]
    },
    {
      "cell_type": "code",
      "source": [
        "# Drop columns that are significantly unbalanced/too many NA values\n",
        "combined_data.drop(columns=['MARKING_SYSTEM', 'TRACKING_SYSTEM', 'YEARS_AS_PRINCIPAL_DRIVER'], inplace=True)"
      ],
      "metadata": {
        "id": "JepyoJdzbqR8"
      },
      "execution_count": 147,
      "outputs": []
    },
    {
      "cell_type": "code",
      "source": [
        "# QUOTEDATE\n",
        "def get_season(month):\n",
        "    if month in [12, 1, 2]:\n",
        "        return 'Winter'\n",
        "    elif month in [3, 4, 5]:\n",
        "        return 'Spring'\n",
        "    elif month in [6, 7, 8]:\n",
        "        return 'Summer'\n",
        "    elif month in [9, 10, 11]:\n",
        "        return 'Fall'\n",
        "combined_data['VEHICLE_AGE'] = pd.to_datetime(combined_data['QUOTEDATE']).dt.year - combined_data['VEHICLEYEAR']\n",
        "combined_data['Season'] = combined_data['QUOTEDATE'].apply(get_season)\n",
        "\n",
        "# Encode 'Season' using pd.get_dummies\n",
        "combined_data = pd.get_dummies(combined_data, columns=['Season'], prefix='Season')\n",
        "combined_data = combined_data.drop(columns=['QUOTEDATE']) # Drop QUOTEDATE as no longer needed"
      ],
      "metadata": {
        "id": "-Z-HzHTe5ocm"
      },
      "execution_count": 148,
      "outputs": []
    },
    {
      "cell_type": "code",
      "source": [
        "# VEHICLEYEAR\n",
        "\n",
        "# Group by vehicle age brackets\n",
        "# The brackets are chosen to separate the column equally (approximate)\n",
        "# \"< 2005\":20324, \"2005~2010\": 36244, \">2010\": 45326\n",
        "def vehicle_age_group(year):\n",
        "    if year < 2005:\n",
        "        return 'Vintage'\n",
        "    elif year < 2010:\n",
        "        return 'Old'\n",
        "    else:\n",
        "        return 'Modern'\n",
        "\n",
        "combined_data['Vehicle_Age_Group'] = combined_data['VEHICLEYEAR'].apply(vehicle_age_group)\n",
        "combined_data = pd.get_dummies(combined_data, columns=['Vehicle_Age_Group'], prefix='Age')"
      ],
      "metadata": {
        "id": "JmnXihD_7IiR"
      },
      "execution_count": 149,
      "outputs": []
    },
    {
      "cell_type": "code",
      "source": [
        "# Vehicle_makes\n",
        "distinct_vehicle_makes = combined_data['VEHICLEMODEL'].unique()\n",
        "print(len(distinct_vehicle_makes))"
      ],
      "metadata": {
        "colab": {
          "base_uri": "https://localhost:8080/"
        },
        "id": "DXEXFCyMAjkn",
        "outputId": "29438163-42c2-4481-9c71-12ec2356f85a"
      },
      "execution_count": 150,
      "outputs": [
        {
          "output_type": "stream",
          "name": "stdout",
          "text": [
            "6099\n"
          ]
        }
      ]
    },
    {
      "cell_type": "code",
      "source": [
        "# Define regex replacements dictionary\n",
        "replacements = {\n",
        "  # Volkswagen variations\n",
        "  r'\\bVW\\b|\\bWV\\b|\\bVOLKS\\b|VOLKSWAGON|VOLGSWAGEN|VOLSWAGEN|VOLKSWAGENJAVASCRIPT:VOID\\(0\\)|VOLLKS|VOLKSWAGEN(?:\\s+TRUCK/VAN|\\s+CAMION/VA)?': 'VOLKSWAGEN',\n",
        "\n",
        "  # Honda variations\n",
        "  r'HONDA(?:\\s+TRUCK/VAN|\\s+CAMION/VAN)?|HONODA|HONDA \\s*CIVIC|HONDA \\s*ACCORD|HONDA \\s*CR-\\s*V|HONDA \\s*650|CIVIC': 'HONDA',\n",
        "\n",
        "  # Ford variations\n",
        "  r'\\bFORD\\b|\\bF150\\b|\\bF250\\b|FORD \\s*150|FORD \\s*FOCUS|FORD \\s*EDGE|FORD \\s*MUSTANG|FORD(?:\\s+TRUCK/VAN|\\s+CAMION/VAN)?|RANGER|MUSTANG': 'FORD',\n",
        "\n",
        "  # Dodge/Ram variations\n",
        "  r'RAM|DODGE|DOGDE|DODGE/RAM(?:\\s+TRUCK/VAN|\\s+CAMION/VAN)?|DODGE \\s*RAM|DODGE \\s*GRAND \\s*CARAVAN|GRAND \\s*CARAVAN|CHALLENGER|DODDGE': 'DODGE',\n",
        "\n",
        "  # Chevrolet variations\n",
        "  r'\\bCHEV\\b|CHEVY|CHEVROLET(?:\\s+TRUCK/VAN|\\s+CAMION/VAN)?|CHEVROLER|CHEVROLE|CHEVROELT|CHERVOLET|CEVROLET|CHEVRELOT|CORVETTE|EL \\s*CAMINO|ASTRO|MAILBOU|Z28|SPRINT': 'CHEVROLET',\n",
        "\n",
        "  # Toyota variations\n",
        "  r'TOYOTA(?:\\s+TRUCK/VAN|\\s+CAMION/VAN)?|TOYOATA|TOYOTO|TOTOTA|TOYTO|CORROLLA|COROLLA|CAMRY|CELICA|MATRIX|TOYOTA \\s*HIGHLANDER': 'TOYOTA',\n",
        "\n",
        "  # Mercedes variations\n",
        "  r'MERCEDES \\s*BENZ|MERCEDEZ \\s*BENZ|MECEDEZ|MERCEDES-BENZ(?:\\s+TRUCK)?|MERCEDES|E350|MERZ': 'MERCEDES-BENZ',\n",
        "\n",
        "  # Chrysler variations\n",
        "  r'CHYRSLER|CHRYSLER(?:\\s+TRUCK/VAN)?|CRYSLER|CHRYLSER|CHRSYLER': 'CHRYSLER',\n",
        "\n",
        "  # Nissan variations\n",
        "  r'NISSIAN|NISSAN(?:\\s+TRUCK/VAN|\\s+CAMION/VAN)?|NISSSAN|NISASN|ALTIMA|NISAN': 'NISSAN',\n",
        "\n",
        "  # Pontiac variations\n",
        "  r'PONTIAC(?:\\s+TRUCK/VAN)?|PONTAIC|PONTIIAC|POTIAC|PONITAC': 'PONTIAC',\n",
        "\n",
        "  # Mazda variations\n",
        "  r'MAZDA(?:\\s+TRUCK/VAN|\\s+CAMION/VAN)?|MADZA|MAZDS|MAZDA3|MAZDA \\s*3': 'MAZDA',\n",
        "\n",
        "  # Hyundai variations\n",
        "  r'HYUNDAI(?:\\s+TRUCK/VAN|\\s+CAMION/VAN)?|HYNDAI|HYUNDIA|HUNDAY|HUNDAI|HYNDEI|HYUANDAI|ELANTRA|ELANTRA \\s*GT': 'HYUNDAI',\n",
        "\n",
        "  # Infiniti variations\n",
        "  r'INFINITY|INFINTI|INFINITI(?:\\s+TRUCK/VAN)?': 'INFINITI',\n",
        "\n",
        "  # Porsche variations\n",
        "  r'PORCHE|PROSCHE|PORSCHE(?:\\s+TRUCK/VAN)?': 'PORSCHE',\n",
        "\n",
        "  # Land Rover variations\n",
        "  r'LANDROVER|RANGE \\s*ROVER|ROVER|LAND \\s*ROVER': 'LAND ROVER',\n",
        "\n",
        "  # Acura variations\n",
        "  r'ACCURA|ACURA(?:\\s+TRUCK/VAN|\\s+CAMION/VAN)?': 'ACURA',\n",
        "\n",
        "  # BMW variations\n",
        "  r'BMW(?:\\s+TRUCK/VAN)?': 'BMW',\n",
        "\n",
        "  # Cadillac variations\n",
        "  r'CADILLAC(?:\\s+TRUCK/VAN)?|CADILLIAC': 'CADILLAC',\n",
        "\n",
        "  # GMC variations\n",
        "  r'GMC(?:\\s+TRUCK/VAN)?|GMC \\s*RALLY|SIERRA \\s*2500': 'GMC',\n",
        "\n",
        "  # Other major manufacturers\n",
        "  r'BUICK(?:\\s+TRUCK/VAN)?': 'BUICK',\n",
        "  r'JEEP|JEPP|JEEP \\s*WRANGLER': 'JEEP',\n",
        "  r'SUBARU(?:\\s+TRUCK/VAN)?': 'SUBARU',\n",
        "  r'VOLVO(?:\\s+TRUCK/VAN)?': 'VOLVO',\n",
        "  r'KIA(?:\\s+TRUCK/VAN|\\s+CAMION/VAN)?': 'KIA',\n",
        "  r'LINCOLN(?:\\s+TRUCK/VAN)?': 'LINCOLN',\n",
        "  r'LEXUS(?:\\s+TRUCK/VAN|\\s+CAMION/VAN)?': 'LEXUS',\n",
        "  r'MERCURY(?:\\s+TRUCK/VAN)?': 'MERCURY',\n",
        "  r'SATURN(?:\\s+TRUCK/VAN)?|VUE': 'SATURN',\n",
        "  r'OLDSMOBILE(?:\\s+TRUCK/VAN)?|CUTLASS': 'OLDSMOBILE',\n",
        "  r'AUDI(?:\\s+TRUCK/VAN)?': 'AUDI',\n",
        "  r'MINI(?:\\s+COOPER)?': 'MINI',\n",
        "  r'SCION': 'SCION',\n",
        "  r'SUZUKI(?:\\s+TRUCK/VAN)?': 'SUZUKI',\n",
        "\n",
        "  # Luxury/Exotic Brands\n",
        "  r'MASERATI|MAZERATI': 'MASERATI',\n",
        "  r'BENTLEY': 'BENTLEY',\n",
        "  r'LAMBORGHINI|DIABLO': 'LAMBORGHINI',\n",
        "  r'FERRARI': 'FERRARI',\n",
        "  r'ALFA|ALFA \\s*ROMEO': 'ALFA ROMEO',\n",
        "  r'ASTON \\s*MARTIN': 'ASTON MARTIN',\n",
        "  r'ROLLS \\s*ROYCE': 'ROLLS ROYCE',\n",
        "  r'MCLAREN': 'MCLAREN',\n",
        "\n",
        "  # Electric/Modern\n",
        "  r'TESLA(?:\\s+TRUCK/VAN)?': 'TESLA',\n",
        "  r'FISKER': 'FISKER',\n",
        "\n",
        "  # Discontinued/Classic\n",
        "  r'PLYMOUTH(?:\\s+TRUCK/VAN)?|PLYMONTH': 'PLYMOUTH',\n",
        "  r'SAAB': 'SAAB',\n",
        "  r'JAGUAR(?:\\s+TRUCK/VAN)?': 'JAGUAR',\n",
        "  r'SMART': 'SMART',\n",
        "  r'DATSUN': 'DATSUN',\n",
        "  r'MG|MGB|MGA': 'MG',\n",
        "  r'HUMMER': 'HUMMER',\n",
        "  r'GEO(?:\\s+TRUCK/VAN)?': 'GEO',\n",
        "  r'EAGLE': 'EAGLE',\n",
        "  r'DAEWOO': 'DAEWOO',\n",
        "  r'DIHATSU': 'DAIHATSU',\n",
        "\n",
        "  # Commercial/Other\n",
        "  r'KENWORTH': 'KENWORTH',\n",
        "  r'FREIGHTLINER': 'FREIGHTLINER',\n",
        "  r'HINO': 'HINO',\n",
        "  r'INTERNATIONAL': 'INTERNATIONAL',\n",
        "  r'AM \\s*GENERAL': 'AM GENERAL',\n",
        "  r'YAMAHA': 'YAMAHA',\n",
        "  r'UNITED': 'UNITED',\n",
        "  r'ROYAL': 'ROYAL',\n",
        "  r'MONICO': 'MONACO',\n",
        "\n",
        "  # Motorcycles/Recreational\n",
        "  r'HARLEY|HARLEY \\s*DAVIDSON|STREET \\s*GLIDE \\s*SPECIAL': 'HARLEY DAVIDSON',\n",
        "  r'ARCTIC \\s*CAT|ARTCIT \\s*CAT|ARTIC \\s*CAT': 'ARCTIC CAT',\n",
        "  r'BOMBARDIER|BOMBADIER|SKI-DOO|SKIDOO': 'BOMBARDIER',\n",
        "  r'KTM': 'KTM',\n",
        "  r'KABUTO': 'KABUTO',\n",
        "  r'SCOOTTERRE': 'SCOOTTERRE',\n",
        "\n",
        "  # Generic/Unknown\n",
        "  r'CAR': 'Unknown',\n",
        "  r'UNDISCLOSED': 'Unknown',\n",
        "  r'CONVERTED': 'Unknown',\n",
        "  r'2XXXXXXXXXXXXXXXXXX': 'Unknown',\n",
        "\n",
        "\n",
        "  # Non-specific Truck/Van entries\n",
        "  r'(?:TRUCK|VAN|CAMION)': '',  # These should be removed or handled separately\n",
        "\n",
        "  # Regional Variations\n",
        "  r'GMC \\s*CAMION/VAN': 'GMC',\n",
        "  r'TOYOTA \\s*CAMION/VAN': 'TOYOTA',\n",
        "  r'HONDA \\s*CAMION/VAN': 'HONDA',\n",
        "  r'MAZDA \\s*CAMION/VAN': 'MAZDA',\n",
        "  r'VOLKSWAGEN \\s*CAMION/VA': 'VOLKSWAGEN',\n",
        "  r'MITSUBISHI \\s*CAMION/VA': 'MITSUBISHI',\n",
        "\n",
        "  # Clean up specific patterns\n",
        "  r'/.*$': '',  # Remove anything after a forward slash\n",
        "  r'\\s+': ' ',  # Standardize spaces\n",
        "  r'^\\s|\\s$': ''  # Remove leading/trailing spaces\n",
        "}\n",
        "\n",
        "combined_data['VEHICLEMAKE'] = combined_data['VEHICLEMAKE'].str.upper().str.strip()\n",
        "\n",
        "# Apply all replacements in place\n",
        "combined_data['VEHICLEMAKE'].replace(replacements, regex=True, inplace=True)\n",
        "\n",
        "# Final cleanup in place\n",
        "combined_data['VEHICLEMAKE'] = (combined_data['VEHICLEMAKE']\n",
        "                           .str.strip()\n",
        "                           .str.replace(r'\\s+', ' ', regex=True)  # Standardize spaces\n",
        "                           .str.replace(r'/.*$', '', regex=True)  # Remove anything after /\n",
        "                           )\n",
        "\n",
        "# First, apply upper case and strip whitespace\n",
        "combined_data['VEHICLEMAKE'] = combined_data['VEHICLEMAKE'].str.upper().str.strip()\n",
        "\n",
        "# Apply regex replacements iteratively in a simplified form\n",
        "for pattern, replacement in replacements.items():\n",
        "    combined_data['VEHICLEMAKE'] = combined_data['VEHICLEMAKE'].str.replace(pattern, replacement, regex=True)\n",
        "\n",
        "# Additional cleanup to standardize spaces and remove trailing info\n",
        "combined_data['VEHICLEMAKE'] = (combined_data['VEHICLEMAKE']\n",
        "                                .str.replace(r'\\s+', ' ', regex=True)  # Standardize spaces\n",
        "                                .str.replace(r'/.*$', '', regex=True)  # Remove anything after /\n",
        "                                .str.strip())  # Remove leading/trailing spaces\n",
        "\n",
        "# Grouping less common makes\n",
        "threshold = 100  # Example threshold for frequency\n",
        "top_makes = combined_data['VEHICLEMAKE'].value_counts()[combined_data['VEHICLEMAKE'].value_counts() > threshold].index\n",
        "combined_data['VEHICLEMAKE'] = combined_data['VEHICLEMAKE'].apply(lambda x: x if x in top_makes else 'Other')"
      ],
      "metadata": {
        "id": "m1HoFELnDSIs",
        "colab": {
          "base_uri": "https://localhost:8080/"
        },
        "outputId": "af6593c0-5bd1-481c-f439-8f6dbaa5d191"
      },
      "execution_count": 151,
      "outputs": [
        {
          "output_type": "stream",
          "name": "stderr",
          "text": [
            "<ipython-input-151-95f3761a077b>:149: FutureWarning: A value is trying to be set on a copy of a DataFrame or Series through chained assignment using an inplace method.\n",
            "The behavior will change in pandas 3.0. This inplace method will never work because the intermediate object on which we are setting values always behaves as a copy.\n",
            "\n",
            "For example, when doing 'df[col].method(value, inplace=True)', try using 'df.method({col: value}, inplace=True)' or df[col] = df[col].method(value) instead, to perform the operation inplace on the original object.\n",
            "\n",
            "\n",
            "  combined_data['VEHICLEMAKE'].replace(replacements, regex=True, inplace=True)\n"
          ]
        }
      ]
    },
    {
      "cell_type": "code",
      "source": [
        "# ANNUAL_KM\n",
        "combined_data['ANNUAL_KM'].fillna(combined_data['ANNUAL_KM'].median(), inplace=True)\n",
        "\n",
        "upper_threshold = combined_data['ANNUAL_KM'].quantile(0.95)\n",
        "# The upper threshold is 25000km/yr, which means 68.5 km/day ON AVERAGE.\n",
        "# Anything higher than that I don't think it's reasonably/possible.\n",
        "\n",
        "# Replace values outside 95th percentiles\n",
        "combined_data['ANNUAL_KM'] = combined_data['ANNUAL_KM'].apply(lambda x: upper_threshold if x > upper_threshold else x)"
      ],
      "metadata": {
        "id": "QYYyLjb5FCLi",
        "outputId": "b0af1afe-9f0f-48f2-dd1d-b88a13570990",
        "colab": {
          "base_uri": "https://localhost:8080/"
        }
      },
      "execution_count": 152,
      "outputs": [
        {
          "output_type": "stream",
          "name": "stderr",
          "text": [
            "<ipython-input-152-2d0612f95426>:2: FutureWarning: A value is trying to be set on a copy of a DataFrame or Series through chained assignment using an inplace method.\n",
            "The behavior will change in pandas 3.0. This inplace method will never work because the intermediate object on which we are setting values always behaves as a copy.\n",
            "\n",
            "For example, when doing 'df[col].method(value, inplace=True)', try using 'df.method({col: value}, inplace=True)' or df[col] = df[col].method(value) instead, to perform the operation inplace on the original object.\n",
            "\n",
            "\n",
            "  combined_data['ANNUAL_KM'].fillna(combined_data['ANNUAL_KM'].median(), inplace=True)\n"
          ]
        }
      ]
    },
    {
      "cell_type": "code",
      "source": [
        "# COMMUTE_DISTANCE\n",
        "quantile95 = combined_data['COMMUTE_DISTANCE'].quantile(0.95)\n",
        "filtered_below_95th = combined_data[combined_data['COMMUTE_DISTANCE'] <= quantile95]['COMMUTE_DISTANCE']\n",
        "median_below_95th = filtered_below_95th.median()\n",
        "\n",
        "# Replace values greater than or equal to 95th quantile with the median of values below 95th quantile\n",
        "combined_data['COMMUTE_DISTANCE'] = combined_data['COMMUTE_DISTANCE'].apply(\n",
        "    lambda x: median_below_95th if x >= quantile95 else x)\n",
        "\n",
        "# Replace NaN values with the median of values below 95th quantile\n",
        "combined_data['COMMUTE_DISTANCE'] = combined_data['COMMUTE_DISTANCE'].fillna(median_below_95th)"
      ],
      "metadata": {
        "id": "Prd99VzZLHg7"
      },
      "execution_count": 153,
      "outputs": []
    },
    {
      "cell_type": "code",
      "source": [
        "# VEHICLE_OWNERSHIP\n",
        "combined_data['VEHICLE_OWNERSHIP'].fillna(train_data['VEHICLE_OWNERSHIP'].mode()[0], inplace=True) # Fill with \"Owned\"\n",
        "\n",
        "combined_data = pd.get_dummies(combined_data, columns=['VEHICLE_OWNERSHIP'], prefix='Marking')"
      ],
      "metadata": {
        "collapsed": true,
        "id": "JbvctpC9O-h2",
        "colab": {
          "base_uri": "https://localhost:8080/"
        },
        "outputId": "12805add-20a3-4b23-d11e-ac16f9071409"
      },
      "execution_count": 154,
      "outputs": [
        {
          "output_type": "stream",
          "name": "stderr",
          "text": [
            "<ipython-input-154-43813452cf28>:2: FutureWarning: A value is trying to be set on a copy of a DataFrame or Series through chained assignment using an inplace method.\n",
            "The behavior will change in pandas 3.0. This inplace method will never work because the intermediate object on which we are setting values always behaves as a copy.\n",
            "\n",
            "For example, when doing 'df[col].method(value, inplace=True)', try using 'df.method({col: value}, inplace=True)' or df[col] = df[col].method(value) instead, to perform the operation inplace on the original object.\n",
            "\n",
            "\n",
            "  combined_data['VEHICLE_OWNERSHIP'].fillna(train_data['VEHICLE_OWNERSHIP'].mode()[0], inplace=True) # Fill with \"Owned\"\n"
          ]
        }
      ]
    },
    {
      "cell_type": "code",
      "source": [
        "# VEHICLE_VALUE\n",
        "# Fill missing VEHICLE_VALUE with the median value of the same VEHICLE_MAKE\n",
        "combined_data['VEHICLE_VALUE'] = combined_data.groupby('VEHICLEMAKE')['VEHICLE_VALUE'].transform(lambda value: value.fillna(value.median()))\n",
        "\n",
        "# Replace VEHICLE_VALUE below or equal to 3000 with the median value of the same VEHICLE_MAKE\n",
        "# In Canada, cheapest used vehicle usually starts from 3000 CAD.\n",
        "combined_data.loc[combined_data[\"VEHICLE_VALUE\"] <= 3000, \"VEHICLE_VALUE\"] = combined_data.groupby('VEHICLEMAKE')['VEHICLE_VALUE'].transform('median')"
      ],
      "metadata": {
        "collapsed": true,
        "id": "Y4apk-FD8vDW"
      },
      "execution_count": 155,
      "outputs": []
    },
    {
      "cell_type": "code",
      "source": [
        "# VEHICLEUSE\n",
        "\n",
        "# Map VEHICLEUSE values to \"OTHER\" except for specified categories with decent capacity\n",
        "combined_data['VEHICLEUSE'] = combined_data['VEHICLEUSE'].apply(\n",
        "    lambda x: x if x in ['Business', 'Commute', 'Pleasure'] else 'OTHER'\n",
        ")\n",
        "\n",
        "combined_data = pd.get_dummies(combined_data, columns=['VEHICLEUSE'], prefix='VEHICLEUSE')"
      ],
      "metadata": {
        "id": "iHgDay1PCeAR"
      },
      "execution_count": 156,
      "outputs": []
    },
    {
      "cell_type": "code",
      "source": [
        "# GENDER\n",
        "# Fill missing GENDER values with the mode of each VEHICLE_MAKE group\n",
        "def fill_gender_mode(group):\n",
        "    mode = group['GENDER'].mode()\n",
        "    if not mode.empty:\n",
        "        group['GENDER'] = group['GENDER'].fillna(mode[0])\n",
        "    return group\n",
        "\n",
        "combined_data = combined_data.groupby('VEHICLEMAKE').apply(fill_gender_mode)\n",
        "\n",
        "# Map GENDER values to numerical format\n",
        "combined_data['GENDER'] = combined_data['GENDER'].map({'Male': 1, 'Female': 0, 'Unknown': 0})"
      ],
      "metadata": {
        "collapsed": true,
        "id": "n7hbh7zxNfrt",
        "colab": {
          "base_uri": "https://localhost:8080/"
        },
        "outputId": "cffcf595-d163-4d02-d6bd-d5c73b34408b"
      },
      "execution_count": 157,
      "outputs": [
        {
          "output_type": "stream",
          "name": "stderr",
          "text": [
            "<ipython-input-157-81c57999c714>:9: DeprecationWarning: DataFrameGroupBy.apply operated on the grouping columns. This behavior is deprecated, and in a future version of pandas the grouping columns will be excluded from the operation. Either pass `include_groups=False` to exclude the groupings or explicitly select the grouping columns after groupby to silence this warning.\n",
            "  combined_data = combined_data.groupby('VEHICLEMAKE').apply(fill_gender_mode)\n"
          ]
        }
      ]
    },
    {
      "cell_type": "code",
      "source": [
        "\n",
        "combined_data = pd.get_dummies(combined_data, columns=['VEHICLEMAKE'], prefix='Vehicle_Make', drop_first=False)"
      ],
      "metadata": {
        "id": "YXDI4-IH5Qae"
      },
      "execution_count": 158,
      "outputs": []
    },
    {
      "cell_type": "code",
      "source": [
        "# YEAR_OF_BIRTH\n",
        "combined_data['YEAR_OF_BIRTH'] = combined_data['YEAR_OF_BIRTH'].astype(int)\n",
        "median_year_of_birth = combined_data.loc[combined_data['YEAR_OF_BIRTH'] != 9999, 'YEAR_OF_BIRTH'].median()\n",
        "combined_data['YEAR_OF_BIRTH'] = combined_data['YEAR_OF_BIRTH'].replace(9999, median_year_of_birth) # replace 375 bad observations\n",
        "\n",
        "# Brackets are selected to separate them equally (approximate)\n",
        "# \"<1960\": 22040, \"1960~1980\": 36546, \"1980~1990\": 21973, \">=1990\": 21336\n",
        "def driver_age_group(year):\n",
        "    if year < 1960:\n",
        "        return '<1960'\n",
        "    elif year < 1980:\n",
        "        return '1960-1980'\n",
        "    elif year < 1990:\n",
        "        return '1980-1990'\n",
        "    else:\n",
        "        return '>=1990'\n",
        "\n",
        "combined_data['Driver_Age_Group'] = combined_data['YEAR_OF_BIRTH'].apply(driver_age_group)\n",
        "combined_data = pd.get_dummies(combined_data, columns=['Driver_Age_Group'], prefix='Driver_Age_group')"
      ],
      "metadata": {
        "id": "cBOySHTqDhEY"
      },
      "execution_count": 159,
      "outputs": []
    },
    {
      "cell_type": "code",
      "source": [
        "# POSTAL_CODE\n",
        "combined_data['AREA'] = combined_data['POSTAL_CODE'].str[0]\n",
        "combined_data['Urban_Rural'] = combined_data['POSTAL_CODE'].str[1]\n",
        "\n",
        "combined_data['IS_URBAN'] = (combined_data['Urban_Rural'] == '1').astype(int)\n",
        "combined_data = pd.get_dummies(combined_data, columns=['AREA'], prefix='AREA')\n",
        "\n",
        "# Drop unnecessary columns\n",
        "combined_data = combined_data.drop(columns=['POSTAL_CODE','Urban_Rural', 'AREA_1', 'AREA_2', 'AREA_3', 'AREA_4', 'AREA_5', 'AREA_6', 'AREA_7', 'AREA_8', 'AREA_9'])"
      ],
      "metadata": {
        "id": "qfbJs1rezehR"
      },
      "execution_count": 160,
      "outputs": []
    },
    {
      "cell_type": "code",
      "source": [
        "# YEARS_LICENSED\n",
        "mean_years_licensed = combined_data[\"YEARS_LICENSED\"].mean()\n",
        "combined_data[\"YEARS_LICENSED\"].fillna(mean_years_licensed, inplace=True)\n",
        "\n",
        "# MARITAL_STATUS\n",
        "combined_data['MARITAL_STATUS'].fillna('Unknown', inplace=True)\n",
        "combined_data = pd.get_dummies(combined_data, columns=['MARITAL_STATUS'], prefix='MARITAL_STATUS')\n",
        "\n",
        "# MULTI_PRODUCT\n",
        "combined_data['MULTI_PRODUCT'] = combined_data['MULTI_PRODUCT'].map({'Yes': 1, 'No': 0})"
      ],
      "metadata": {
        "collapsed": true,
        "id": "AURGCiL2D9mA",
        "colab": {
          "base_uri": "https://localhost:8080/"
        },
        "outputId": "4aa1897a-de26-45fb-ce8b-bce40ecfb33c"
      },
      "execution_count": 161,
      "outputs": [
        {
          "output_type": "stream",
          "name": "stderr",
          "text": [
            "<ipython-input-161-2797d47e9d8b>:3: FutureWarning: A value is trying to be set on a copy of a DataFrame or Series through chained assignment using an inplace method.\n",
            "The behavior will change in pandas 3.0. This inplace method will never work because the intermediate object on which we are setting values always behaves as a copy.\n",
            "\n",
            "For example, when doing 'df[col].method(value, inplace=True)', try using 'df.method({col: value}, inplace=True)' or df[col] = df[col].method(value) instead, to perform the operation inplace on the original object.\n",
            "\n",
            "\n",
            "  combined_data[\"YEARS_LICENSED\"].fillna(mean_years_licensed, inplace=True)\n",
            "<ipython-input-161-2797d47e9d8b>:6: FutureWarning: A value is trying to be set on a copy of a DataFrame or Series through chained assignment using an inplace method.\n",
            "The behavior will change in pandas 3.0. This inplace method will never work because the intermediate object on which we are setting values always behaves as a copy.\n",
            "\n",
            "For example, when doing 'df[col].method(value, inplace=True)', try using 'df.method({col: value}, inplace=True)' or df[col] = df[col].method(value) instead, to perform the operation inplace on the original object.\n",
            "\n",
            "\n",
            "  combined_data['MARITAL_STATUS'].fillna('Unknown', inplace=True)\n"
          ]
        }
      ]
    },
    {
      "cell_type": "code",
      "source": [
        "# OCCUPATION\n",
        "combined_data['OCCUPATION'].fillna(\"Not Known\", inplace=True)\n",
        "combined_data['OCCUPATION'].replace('Not Known', 'UNKNOWN', inplace=True)\n",
        "\n",
        "# Replace retired and unemployed case's commute distance to 0\n",
        "combined_data.loc[combined_data['OCCUPATION'] == 'Retired', 'COMMUTE_DISTANCE'] = 0\n",
        "combined_data.loc[combined_data['OCCUPATION'] == 'Unemployed', 'COMMUTE_DISTANCE'] = 0\n",
        "\n",
        "combined_data = pd.get_dummies(combined_data, columns=['OCCUPATION'], prefix='OCCUPATION')\n",
        "combined_data.drop(columns=['OCCUPATION_UNKNOWN'], inplace=True)"
      ],
      "metadata": {
        "collapsed": true,
        "id": "dLqvQl6tF-X2",
        "colab": {
          "base_uri": "https://localhost:8080/"
        },
        "outputId": "1e4a9544-526b-4f83-e32f-a8fbc0853b39"
      },
      "execution_count": 162,
      "outputs": [
        {
          "output_type": "stream",
          "name": "stderr",
          "text": [
            "<ipython-input-162-1f44eb79195d>:2: FutureWarning: A value is trying to be set on a copy of a DataFrame or Series through chained assignment using an inplace method.\n",
            "The behavior will change in pandas 3.0. This inplace method will never work because the intermediate object on which we are setting values always behaves as a copy.\n",
            "\n",
            "For example, when doing 'df[col].method(value, inplace=True)', try using 'df.method({col: value}, inplace=True)' or df[col] = df[col].method(value) instead, to perform the operation inplace on the original object.\n",
            "\n",
            "\n",
            "  combined_data['OCCUPATION'].fillna(\"Not Known\", inplace=True)\n"
          ]
        }
      ]
    },
    {
      "cell_type": "code",
      "source": [
        "# CONVICTION_COUNT_MINOR_3YRS\n",
        "\n",
        "# Map values to bins directly\n",
        "combined_data['CONVICTION_COUNT_MINOR_3YRS'] = combined_data['CONVICTION_COUNT_MINOR_3YRS'].map(\n",
        "    lambda x: '0' if x == 0 else ('1' if x == 1 else '>=2')\n",
        ")\n",
        "combined_data = pd.get_dummies(combined_data, columns=['CONVICTION_COUNT_MINOR_3YRS'], prefix='CONVICTION_COUNT_MINOR_3YRS')"
      ],
      "metadata": {
        "id": "jchipsS7y50v"
      },
      "execution_count": 163,
      "outputs": []
    },
    {
      "cell_type": "code",
      "source": [
        "combined_data['CONVICTION_COUNT_MAJOR_3YRS'] = combined_data['CONVICTION_COUNT_MAJOR_3YRS'].map(\n",
        "    lambda x: '0' if x == 0 else '1')\n",
        "combined_data['CONVICTION_COUNT_CRIMINAL_3YRS'] = combined_data['CONVICTION_COUNT_CRIMINAL_3YRS'].map(\n",
        "    lambda x: '0' if x == 0 else '1')\n",
        "combined_data['ASSIGNED_LOSSES_PD_5YRS'] = combined_data['ASSIGNED_LOSSES_PD_5YRS'].map(\n",
        "    lambda x: '0' if x == 0 else '1')\n",
        "combined_data['SUSPENSION_COUNT'] = combined_data['SUSPENSION_COUNT'].map(\n",
        "    lambda x: '0' if x == 0 else '1')"
      ],
      "metadata": {
        "id": "RXMvXnGJzJWL"
      },
      "execution_count": 164,
      "outputs": []
    },
    {
      "cell_type": "code",
      "source": [
        "# Replace Bools with 0s and 1s\n",
        "for col in combined_data.columns:\n",
        "    if isinstance(combined_data[col], pd.Series) and combined_data[col].dtype == 'bool':\n",
        "        combined_data[col] = combined_data[col].astype(int)"
      ],
      "metadata": {
        "id": "XZ58XOhoIb_K"
      },
      "execution_count": 165,
      "outputs": []
    },
    {
      "cell_type": "code",
      "source": [
        "# Split train data and test data\n",
        "train_data = combined_data[combined_data['is_train'] == 1].drop(columns=['is_train'])\n",
        "test_data = combined_data[combined_data['is_train'] == 0].drop(columns=['is_train', 'IS_BOUND'])"
      ],
      "metadata": {
        "id": "-b4lIs1CN4dH"
      },
      "execution_count": 166,
      "outputs": []
    },
    {
      "cell_type": "code",
      "source": [
        "for i in combined_data.columns:\n",
        "    print(i)"
      ],
      "metadata": {
        "id": "DA46USlo6H_L",
        "outputId": "16b8f8ec-8e4e-4390-86c9-cdc535b0bd72",
        "colab": {
          "base_uri": "https://localhost:8080/"
        }
      },
      "execution_count": 167,
      "outputs": [
        {
          "output_type": "stream",
          "name": "stdout",
          "text": [
            "VEHICLEYEAR\n",
            "VEHICLEMODEL\n",
            "ANNUAL_KM\n",
            "COMMUTE_DISTANCE\n",
            "VEHICLE_VALUE\n",
            "GENDER\n",
            "YEAR_OF_BIRTH\n",
            "AREA_CODE\n",
            "YEARS_LICENSED\n",
            "MULTI_PRODUCT\n",
            "CONVICTION_COUNT_MAJOR_3YRS\n",
            "CONVICTION_COUNT_CRIMINAL_3YRS\n",
            "ASSIGNED_LOSSES_PD_5YRS\n",
            "SUSPENSION_COUNT\n",
            "IS_BOUND\n",
            "is_train\n",
            "VEHICLE_AGE\n",
            "Age_Modern\n",
            "Age_Old\n",
            "Age_Vintage\n",
            "Marking_Leased\n",
            "Marking_Non-owned\n",
            "Marking_Owned\n",
            "VEHICLEUSE_Business\n",
            "VEHICLEUSE_Commute\n",
            "VEHICLEUSE_OTHER\n",
            "VEHICLEUSE_Pleasure\n",
            "Vehicle_Make_ACURA\n",
            "Vehicle_Make_AUDI\n",
            "Vehicle_Make_BMW\n",
            "Vehicle_Make_BUICK\n",
            "Vehicle_Make_CADILLAC\n",
            "Vehicle_Make_CHEVROLET\n",
            "Vehicle_Make_CHRYSLER\n",
            "Vehicle_Make_DODGE\n",
            "Vehicle_Make_FIAT\n",
            "Vehicle_Make_FORD\n",
            "Vehicle_Make_GMC\n",
            "Vehicle_Make_HONDA\n",
            "Vehicle_Make_HYUNDAI\n",
            "Vehicle_Make_INFINITI\n",
            "Vehicle_Make_JAGUAR\n",
            "Vehicle_Make_JEEP\n",
            "Vehicle_Make_KIA\n",
            "Vehicle_Make_LAND ROVER\n",
            "Vehicle_Make_LEXUS\n",
            "Vehicle_Make_LINCOLN\n",
            "Vehicle_Make_MAZDA\n",
            "Vehicle_Make_MERCEDES-BENZ\n",
            "Vehicle_Make_MERCURY\n",
            "Vehicle_Make_MINI\n",
            "Vehicle_Make_MITSUBISHI\n",
            "Vehicle_Make_NISSAN\n",
            "Vehicle_Make_OLDSMOBILE\n",
            "Vehicle_Make_Other\n",
            "Vehicle_Make_PONTIAC\n",
            "Vehicle_Make_PORSCHE\n",
            "Vehicle_Make_SATURN\n",
            "Vehicle_Make_SCION\n",
            "Vehicle_Make_SUBARU\n",
            "Vehicle_Make_SUZUKI\n",
            "Vehicle_Make_TOYOTA\n",
            "Vehicle_Make_VOLKSWAGEN\n",
            "Vehicle_Make_VOLVO\n",
            "Driver_Age_group_1960-1980\n",
            "Driver_Age_group_1980-1990\n",
            "Driver_Age_group_<1960\n",
            "Driver_Age_group_>=1990\n",
            "IS_URBAN\n",
            "AREA_A\n",
            "AREA_B\n",
            "AREA_C\n",
            "AREA_E\n",
            "AREA_G\n",
            "AREA_H\n",
            "AREA_J\n",
            "AREA_K\n",
            "AREA_L\n",
            "AREA_M\n",
            "AREA_N\n",
            "AREA_P\n",
            "AREA_R\n",
            "AREA_S\n",
            "AREA_T\n",
            "AREA_U\n",
            "AREA_V\n",
            "AREA_X\n",
            "AREA_Y\n",
            "MARITAL_STATUS_Divorced\n",
            "MARITAL_STATUS_Married\n",
            "MARITAL_STATUS_Separated\n",
            "MARITAL_STATUS_Single\n",
            "MARITAL_STATUS_Unknown\n",
            "MARITAL_STATUS_Widow/Widower\n",
            "OCCUPATION_Farm/Fisher\n",
            "OCCUPATION_Government \n",
            "OCCUPATION_Homemaker\n",
            "OCCUPATION_Insurance\n",
            "OCCUPATION_Labour/Plant\n",
            "OCCUPATION_Management/Administration\n",
            "OCCUPATION_Military\n",
            "OCCUPATION_Office/Stores\n",
            "OCCUPATION_Professional/Health\n",
            "OCCUPATION_Professional/Other\n",
            "OCCUPATION_Professional/Social\n",
            "OCCUPATION_Retired\n",
            "OCCUPATION_Sales\n",
            "OCCUPATION_Service Work\n",
            "OCCUPATION_Student\n",
            "OCCUPATION_Trades\n",
            "OCCUPATION_Tradesman\n",
            "OCCUPATION_Unemployed\n",
            "CONVICTION_COUNT_MINOR_3YRS_0\n",
            "CONVICTION_COUNT_MINOR_3YRS_1\n",
            "CONVICTION_COUNT_MINOR_3YRS_>=2\n"
          ]
        }
      ]
    },
    {
      "cell_type": "markdown",
      "source": [
        "## Standardization"
      ],
      "metadata": {
        "id": "ubq582POHB3H"
      }
    },
    {
      "cell_type": "code",
      "source": [
        "scaler = StandardScaler()\n",
        "\n",
        "train_data_standardized = scaler.fit_transform(train_data.drop(columns=['IS_BOUND', 'VEHICLEMODEL', 'AREA_CODE']))\n",
        "train_data_standardized = pd.DataFrame(train_data_standardized)\n",
        "train_data_standardized['IS_BOUND'] = train_data['IS_BOUND'].values  # Reattach \"IS_BOUND\" column\n",
        "\n",
        "test_data_standardized = scaler.transform(test_data.drop(columns=['VEHICLEMODEL', 'AREA_CODE']))\n",
        "test_data_standardized = pd.DataFrame(test_data_standardized)\n",
        "\n",
        "X = train_data_standardized.drop(columns=['IS_BOUND'])\n",
        "y = train_data_standardized['IS_BOUND']"
      ],
      "metadata": {
        "id": "e4RlYDFEHD0U"
      },
      "execution_count": 168,
      "outputs": []
    },
    {
      "cell_type": "markdown",
      "source": [
        "# Modelling Method 1 - Logistic Regression"
      ],
      "metadata": {
        "id": "B29TrGWC2aQT"
      }
    },
    {
      "cell_type": "markdown",
      "source": [
        "## Logistic Regression"
      ],
      "metadata": {
        "id": "ETxYIwdOUZq5"
      }
    },
    {
      "cell_type": "code",
      "source": [
        "X = train_data_standardized.drop(columns=['IS_BOUND'])\n",
        "y = train_data_standardized['IS_BOUND']\n",
        "\n",
        "X_train, X_test, y_train, y_test = train_test_split(X, y, test_size=0.2, random_state=64)\n",
        "\n",
        "model = LogisticRegression(class_weight=\"balanced\", random_state=89, max_iter=1000)\n",
        "model.fit(X_train, y_train)\n",
        "\n",
        "y_pred = model.predict(X_test) # Prediction\n",
        "\n",
        "# Evaluate the model\n",
        "print(\"Accuracy:\", accuracy_score(y_test, y_pred))\n",
        "print(\"Confusion Matrix:\\n\", confusion_matrix(y_test, y_pred))\n",
        "print(\"Classification Report:\\n\", classification_report(y_test, y_pred))\n",
        "\n",
        "y_proba = model.predict_proba(X_test)[:, 1] # Predicted Probabilities\n",
        "\n",
        "# Calculate ROC curve values: FPR, TPR, and threshold values\n",
        "fpr, tpr, thresholds = roc_curve(y_test, y_proba)\n",
        "# Calculate AUC (Area Under the Curve)\n",
        "auc_score = roc_auc_score(y_test, y_proba)\n",
        "print(\"AUC-ROC Score:\", auc_score)\n",
        "# Calculate F1 Score\n",
        "f1 = f1_score(y_test, y_pred)\n",
        "print(\"F1 Score:\", f1)\n",
        "TN, FP = confusion_matrix(y_test, y_pred)[0]\n",
        "FN, TP = confusion_matrix(y_test, y_pred)[1]\n",
        "profit = TP * 5.5 + (FP + TP) * -1\n",
        "print(f\"Profit: {profit}\")\n",
        "\n",
        "# Plot the ROC curve\n",
        "plt.figure(figsize=(8, 6))\n",
        "plt.plot(fpr, tpr, label=f\"Logistic Regression (AUC = {auc_score:.4f})\")\n",
        "plt.plot([0, 1], [0, 1], 'k--', label=\"Random Guess\")  # Diagonal line for random guess\n",
        "plt.xlabel(\"False Positive Rate\")\n",
        "plt.ylabel(\"True Positive Rate\")\n",
        "plt.title(\"ROC Curve\")\n",
        "plt.legend()\n",
        "plt.show()"
      ],
      "metadata": {
        "colab": {
          "base_uri": "https://localhost:8080/",
          "height": 866
        },
        "id": "S5LJdEZ_2eAZ",
        "outputId": "6e700ced-b214-4f67-ea20-91732531fa89"
      },
      "execution_count": 169,
      "outputs": [
        {
          "output_type": "stream",
          "name": "stdout",
          "text": [
            "Accuracy: 0.5977524781627245\n",
            "Confusion Matrix:\n",
            " [[9404 6548]\n",
            " [1649 2777]]\n",
            "Classification Report:\n",
            "               precision    recall  f1-score   support\n",
            "\n",
            "         0.0       0.85      0.59      0.70     15952\n",
            "         1.0       0.30      0.63      0.40      4426\n",
            "\n",
            "    accuracy                           0.60     20378\n",
            "   macro avg       0.57      0.61      0.55     20378\n",
            "weighted avg       0.73      0.60      0.63     20378\n",
            "\n",
            "AUC-ROC Score: 0.6443306492568533\n",
            "F1 Score: 0.40389789833466655\n",
            "Profit: 5948.5\n"
          ]
        },
        {
          "output_type": "display_data",
          "data": {
            "text/plain": [
              "<Figure size 800x600 with 1 Axes>"
            ],
            "image/png": "[encoded data removed]"
          },
          "metadata": {}
        }
      ]
    },
    {
      "cell_type": "markdown",
      "source": [
        "## Model Tuning"
      ],
      "metadata": {
        "id": "o8WweUh2Uew5"
      }
    },
    {
      "cell_type": "code",
      "source": [
        "def log_reg(X, y):\n",
        "    X_train, X_test, y_train, y_test = train_test_split(X, y, test_size=0.2, random_state=64)\n",
        "    model = LogisticRegression(class_weight=\"balanced\", penalty='l2', random_state=89, max_iter=1000)#,solver='liblinear')\n",
        "    model.fit(X_train, y_train)\n",
        "    y_pred = model.predict(X_test)\n",
        "    y_proba = model.predict_proba(X_test)[:, 1]\n",
        "\n",
        "\n",
        "    matrix = confusion_matrix(y_test, y_pred)\n",
        "    accuracyScore = accuracy_score(y_test, y_pred)\n",
        "    auc_score = roc_auc_score(y_test, y_proba)\n",
        "    f1 = f1_score(y_test, y_pred)\n",
        "    TN, FP = matrix[0]\n",
        "    FN, TP = matrix[1]\n",
        "    profit = (TP * 5.5 + (FP + TP) * -1) / len(y_test)\n",
        "\n",
        "    # Evaluate the model\n",
        "    print(\"Accuracy:\", accuracy_score(y_test, y_pred))\n",
        "    print(\"Confusion Matrix:\\n\", confusion_matrix(y_test, y_pred))\n",
        "    print(\"Classification Report:\\n\", classification_report(y_test, y_pred))\n",
        "    print(f\"Average Profit: {profit}\")\n",
        "\n",
        "\n",
        "    y_proba = model.predict_proba(X_test)[:, 1] # Predicted Probabilities\n",
        "\n",
        "    # Calculate ROC curve values: FPR, TPR, and threshold values\n",
        "    fpr, tpr, thresholds = roc_curve(y_test, y_proba)\n",
        "    # Calculate AUC (Area Under the Curve)\n",
        "    auc_score = roc_auc_score(y_test, y_proba)\n",
        "    print(\"AUC-ROC Score:\", auc_score)\n",
        "    # Calculate F1 Score\n",
        "    f1 = f1_score(y_test, y_pred)\n",
        "    print(\"F1 Score:\", f1)\n",
        "\n",
        "    # Plot the ROC curve\n",
        "    plt.figure(figsize=(8, 6))\n",
        "    plt.plot(fpr, tpr, label=f\"Logistic Regression (AUC = {auc_score:.4f})\")\n",
        "    plt.plot([0, 1], [0, 1], 'k--', label=\"Random Guess\")  # Diagonal line for random guess\n",
        "    plt.xlabel(\"False Positive Rate\")\n",
        "    plt.ylabel(\"True Positive Rate\")\n",
        "    plt.title(\"ROC Curve\")\n",
        "    plt.legend()\n",
        "    plt.show()\n",
        "\n",
        "    return accuracyScore, auc_score, f1, profit"
      ],
      "metadata": {
        "id": "x0nu4CwPCJKy"
      },
      "execution_count": 170,
      "outputs": []
    },
    {
      "cell_type": "markdown",
      "source": [
        "### Class Resampling"
      ],
      "metadata": {
        "id": "zvVncc8b_KYe"
      }
    },
    {
      "cell_type": "code",
      "source": [
        "# Apply SMOTE and Edited Nearest Neighbors (SMOTEENN)\n",
        "X = train_data_standardized.drop(columns=['IS_BOUND'])\n",
        "y = train_data_standardized['IS_BOUND']\n",
        "smoteenn = SMOTEENN()\n",
        "X_resampled, y_resampled = smoteenn.fit_resample(X, y)"
      ],
      "metadata": {
        "id": "UVrz2HYdAC39"
      },
      "execution_count": 171,
      "outputs": []
    },
    {
      "cell_type": "code",
      "source": [
        "log_reg(X_resampled, y_resampled)"
      ],
      "metadata": {
        "id": "38HSEWfcTQlm",
        "outputId": "ef0e1343-8b6f-4de1-9d07-b45c683dbc66",
        "colab": {
          "base_uri": "https://localhost:8080/",
          "height": 884
        }
      },
      "execution_count": 172,
      "outputs": [
        {
          "output_type": "stream",
          "name": "stdout",
          "text": [
            "Accuracy: 0.682220652941496\n",
            "Confusion Matrix:\n",
            " [[4503 2276]\n",
            " [3574 8056]]\n",
            "Classification Report:\n",
            "               precision    recall  f1-score   support\n",
            "\n",
            "         0.0       0.56      0.66      0.61      6779\n",
            "         1.0       0.78      0.69      0.73     11630\n",
            "\n",
            "    accuracy                           0.68     18409\n",
            "   macro avg       0.67      0.68      0.67     18409\n",
            "weighted avg       0.70      0.68      0.69     18409\n",
            "\n",
            "Average Profit: 1.8456189907110652\n",
            "AUC-ROC Score: 0.7383624660498123\n",
            "F1 Score: 0.7336308168654949\n"
          ]
        },
        {
          "output_type": "display_data",
          "data": {
            "text/plain": [
              "<Figure size 800x600 with 1 Axes>"
            ],
            "image/png": "[encoded data removed]"
          },
          "metadata": {}
        },
        {
          "output_type": "execute_result",
          "data": {
            "text/plain": [
              "(0.682220652941496, 0.7383624660498123, 0.7336308168654949, 1.8456189907110652)"
            ]
          },
          "metadata": {},
          "execution_count": 172
        }
      ]
    },
    {
      "cell_type": "markdown",
      "source": [
        "### PCA"
      ],
      "metadata": {
        "id": "AHxSwuo8kHdi"
      }
    },
    {
      "cell_type": "code",
      "source": [
        "# Set info limit to 90%\n",
        "pca = PCA(n_components=0.90)\n",
        "X_pca = pca.fit_transform(X_resampled)\n",
        "\n",
        "print(\"Number of components:\", pca.n_components_)"
      ],
      "metadata": {
        "colab": {
          "base_uri": "https://localhost:8080/"
        },
        "id": "kN4xny5m3upS",
        "outputId": "87e7c02d-f4ca-4406-e695-3141d15cec27"
      },
      "execution_count": 64,
      "outputs": [
        {
          "output_type": "stream",
          "name": "stdout",
          "text": [
            "Number of components: 84\n"
          ]
        }
      ]
    },
    {
      "cell_type": "code",
      "source": [
        "X = X_pca\n",
        "y = y_resampled\n",
        "\n",
        "log_reg(X, y)"
      ],
      "metadata": {
        "colab": {
          "base_uri": "https://localhost:8080/",
          "height": 937
        },
        "id": "pvGN2WmPmFuf",
        "outputId": "61462762-282d-4c32-fb63-35496bff19c1"
      },
      "execution_count": 72,
      "outputs": [
        {
          "output_type": "stream",
          "name": "stdout",
          "text": [
            "Accuracy: 0.6798477019309219\n",
            "Confusion Matrix:\n",
            " [[4459 2322]\n",
            " [3564 8040]]\n",
            "Classification Report:\n",
            "               precision    recall  f1-score   support\n",
            "\n",
            "         0.0       0.56      0.66      0.60      6781\n",
            "         1.0       0.78      0.69      0.73     11604\n",
            "\n",
            "    accuracy                           0.68     18385\n",
            "   macro avg       0.67      0.68      0.67     18385\n",
            "weighted avg       0.69      0.68      0.68     18385\n",
            "\n",
            "Average Profit: 1.8416100081588251\n",
            "AUC-ROC Score: 0.7330214941976744\n",
            "F1 Score: 0.7320404261130838\n"
          ]
        },
        {
          "output_type": "display_data",
          "data": {
            "text/plain": [
              "<Figure size 800x600 with 1 Axes>"
            ],
            "image/png": "[encoded data removed]"
          },
          "metadata": {}
        },
        {
          "output_type": "execute_result",
          "data": {
            "text/plain": [
              "(0.6798477019309219,\n",
              " 0.7330214941976744,\n",
              " 0.7320404261130838,\n",
              " 1.8416100081588251)"
            ]
          },
          "metadata": {},
          "execution_count": 72
        }
      ]
    },
    {
      "cell_type": "markdown",
      "source": [
        "### Forward Selection"
      ],
      "metadata": {
        "id": "1FndphotHEpq"
      }
    },
    {
      "cell_type": "code",
      "source": [
        "X = pd.DataFrame(X_pca)\n",
        "y = y_resampled\n",
        "X_train, X_test, y_train, y_test = train_test_split(X, y, test_size=0.2, random_state=64)\n",
        "\n",
        "model = LogisticRegression(solver='liblinear')\n",
        "\n",
        "selected_features = []\n",
        "best_precision = 0\n",
        "remaining_features = list(range(X_train.shape[1]))\n",
        "\n",
        "# Iterate over the remaining features\n",
        "while remaining_features:\n",
        "    precision_scores = []\n",
        "\n",
        "    # Try adding each remaining feature and evaluate model precision on 1s\n",
        "    for feature in remaining_features:\n",
        "        features_to_test = selected_features + [feature]\n",
        "        # Use .iloc for integer-based indexing\n",
        "        X_train_subset = X_train.iloc[:, features_to_test]\n",
        "\n",
        "        # Fit the model and calculate precision on 1s (positive class)\n",
        "        model.fit(X_train_subset, y_train)\n",
        "        # Use .iloc for integer-based indexing\n",
        "        y_pred = model.predict(X_test.iloc[:, features_to_test])\n",
        "        precision = precision_score(y_test, y_pred, pos_label=1)\n",
        "\n",
        "        precision_scores.append((precision, feature))\n",
        "\n",
        "    # Select the feature that improves precision the most\n",
        "    precision_scores.sort(reverse=True, key=lambda x: x[0])  # Sort by precision\n",
        "\n",
        "    best_precision_score, best_feature = precision_scores[0]\n",
        "\n",
        "    if best_precision_score > best_precision:\n",
        "        selected_features.append(best_feature)  # Add the best feature to the selected set\n",
        "        best_precision = best_precision_score  # Update the best precision\n",
        "        remaining_features.remove(best_feature)  # Remove the selected feature from remaining features\n",
        "        print(f\"Selected Features: {selected_features}\")\n",
        "        print(f\"Best Precision: {best_precision}\")\n",
        "    else:\n",
        "        break\n",
        "\n",
        "X_train_selected = X_train.iloc[:, selected_features]\n",
        "X_test_selected = X_test.iloc[:, selected_features]\n",
        "\n",
        "model.fit(X_train_selected, y_train)\n",
        "y_pred_final = model.predict(X_test_selected)\n",
        "\n",
        "# Calculate final precision on 1s (positive class)\n",
        "final_precision = precision_score(y_test, y_pred_final, pos_label=1)\n",
        "print(f'Final precision on 1s: {final_precision}')\n",
        "print(f'Selected Features: {selected_features}')"
      ],
      "metadata": {
        "colab": {
          "base_uri": "https://localhost:8080/",
          "height": 365
        },
        "id": "RkZoMVWiapff",
        "outputId": "5cdf0061-acfb-403b-97a2-c91793e063f4"
      },
      "execution_count": 66,
      "outputs": [
        {
          "output_type": "error",
          "ename": "KeyboardInterrupt",
          "evalue": "",
          "traceback": [
            "\u001b[0;31m---------------------------------------------------------------------------\u001b[0m",
            "\u001b[0;31mKeyboardInterrupt\u001b[0m                         Traceback (most recent call last)",
            "\u001b[0;32m<ipython-input-66-cfc6056a2827>\u001b[0m in \u001b[0;36m<cell line: 12>\u001b[0;34m()\u001b[0m\n\u001b[1;32m     23\u001b[0m         \u001b[0;31m# Use .iloc for integer-based indexing\u001b[0m\u001b[0;34m\u001b[0m\u001b[0;34m\u001b[0m\u001b[0m\n\u001b[1;32m     24\u001b[0m         \u001b[0my_pred\u001b[0m \u001b[0;34m=\u001b[0m \u001b[0mmodel\u001b[0m\u001b[0;34m.\u001b[0m\u001b[0mpredict\u001b[0m\u001b[0;34m(\u001b[0m\u001b[0mX_test\u001b[0m\u001b[0;34m.\u001b[0m\u001b[0miloc\u001b[0m\u001b[0;34m[\u001b[0m\u001b[0;34m:\u001b[0m\u001b[0;34m,\u001b[0m \u001b[0mfeatures_to_test\u001b[0m\u001b[0;34m]\u001b[0m\u001b[0;34m)\u001b[0m\u001b[0;34m\u001b[0m\u001b[0;34m\u001b[0m\u001b[0m\n\u001b[0;32m---> 25\u001b[0;31m         \u001b[0mprecision\u001b[0m \u001b[0;34m=\u001b[0m \u001b[0mprecision_score\u001b[0m\u001b[0;34m(\u001b[0m\u001b[0my_test\u001b[0m\u001b[0;34m,\u001b[0m \u001b[0my_pred\u001b[0m\u001b[0;34m,\u001b[0m \u001b[0mpos_label\u001b[0m\u001b[0;34m=\u001b[0m\u001b[0;36m1\u001b[0m\u001b[0;34m)\u001b[0m\u001b[0;34m\u001b[0m\u001b[0;34m\u001b[0m\u001b[0m\n\u001b[0m\u001b[1;32m     26\u001b[0m \u001b[0;34m\u001b[0m\u001b[0m\n\u001b[1;32m     27\u001b[0m         \u001b[0mprecision_scores\u001b[0m\u001b[0;34m.\u001b[0m\u001b[0mappend\u001b[0m\u001b[0;34m(\u001b[0m\u001b[0;34m(\u001b[0m\u001b[0mprecision\u001b[0m\u001b[0;34m,\u001b[0m \u001b[0mfeature\u001b[0m\u001b[0;34m)\u001b[0m\u001b[0;34m)\u001b[0m\u001b[0;34m\u001b[0m\u001b[0;34m\u001b[0m\u001b[0m\n",
            "\u001b[0;32m/usr/local/lib/python3.10/dist-packages/sklearn/utils/_param_validation.py\u001b[0m in \u001b[0;36mwrapper\u001b[0;34m(*args, **kwargs)\u001b[0m\n\u001b[1;32m    186\u001b[0m                 \u001b[0;32mreturn\u001b[0m \u001b[0mfunc\u001b[0m\u001b[0;34m(\u001b[0m\u001b[0;34m*\u001b[0m\u001b[0margs\u001b[0m\u001b[0;34m,\u001b[0m \u001b[0;34m**\u001b[0m\u001b[0mkwargs\u001b[0m\u001b[0;34m)\u001b[0m\u001b[0;34m\u001b[0m\u001b[0;34m\u001b[0m\u001b[0m\n\u001b[1;32m    187\u001b[0m \u001b[0;34m\u001b[0m\u001b[0m\n\u001b[0;32m--> 188\u001b[0;31m             \u001b[0mfunc_sig\u001b[0m \u001b[0;34m=\u001b[0m \u001b[0msignature\u001b[0m\u001b[0;34m(\u001b[0m\u001b[0mfunc\u001b[0m\u001b[0;34m)\u001b[0m\u001b[0;34m\u001b[0m\u001b[0;34m\u001b[0m\u001b[0m\n\u001b[0m\u001b[1;32m    189\u001b[0m \u001b[0;34m\u001b[0m\u001b[0m\n\u001b[1;32m    190\u001b[0m             \u001b[0;31m# Map *args/**kwargs to the function signature\u001b[0m\u001b[0;34m\u001b[0m\u001b[0;34m\u001b[0m\u001b[0m\n",
            "\u001b[0;32m/usr/lib/python3.10/inspect.py\u001b[0m in \u001b[0;36msignature\u001b[0;34m(obj, follow_wrapped, globals, locals, eval_str)\u001b[0m\n\u001b[1;32m   3252\u001b[0m \u001b[0;32mdef\u001b[0m \u001b[0msignature\u001b[0m\u001b[0;34m(\u001b[0m\u001b[0mobj\u001b[0m\u001b[0;34m,\u001b[0m \u001b[0;34m*\u001b[0m\u001b[0;34m,\u001b[0m \u001b[0mfollow_wrapped\u001b[0m\u001b[0;34m=\u001b[0m\u001b[0;32mTrue\u001b[0m\u001b[0;34m,\u001b[0m \u001b[0mglobals\u001b[0m\u001b[0;34m=\u001b[0m\u001b[0;32mNone\u001b[0m\u001b[0;34m,\u001b[0m \u001b[0mlocals\u001b[0m\u001b[0;34m=\u001b[0m\u001b[0;32mNone\u001b[0m\u001b[0;34m,\u001b[0m \u001b[0meval_str\u001b[0m\u001b[0;34m=\u001b[0m\u001b[0;32mFalse\u001b[0m\u001b[0;34m)\u001b[0m\u001b[0;34m:\u001b[0m\u001b[0;34m\u001b[0m\u001b[0;34m\u001b[0m\u001b[0m\n\u001b[1;32m   3253\u001b[0m     \u001b[0;34m\"\"\"Get a signature object for the passed callable.\"\"\"\u001b[0m\u001b[0;34m\u001b[0m\u001b[0;34m\u001b[0m\u001b[0m\n\u001b[0;32m-> 3254\u001b[0;31m     return Signature.from_callable(obj, follow_wrapped=follow_wrapped,\n\u001b[0m\u001b[1;32m   3255\u001b[0m                                    globals=globals, locals=locals, eval_str=eval_str)\n\u001b[1;32m   3256\u001b[0m \u001b[0;34m\u001b[0m\u001b[0m\n",
            "\u001b[0;32m/usr/lib/python3.10/inspect.py\u001b[0m in \u001b[0;36mfrom_callable\u001b[0;34m(cls, obj, follow_wrapped, globals, locals, eval_str)\u001b[0m\n\u001b[1;32m   3000\u001b[0m                       follow_wrapped=True, globals=None, locals=None, eval_str=False):\n\u001b[1;32m   3001\u001b[0m         \u001b[0;34m\"\"\"Constructs Signature for the given callable object.\"\"\"\u001b[0m\u001b[0;34m\u001b[0m\u001b[0;34m\u001b[0m\u001b[0m\n\u001b[0;32m-> 3002\u001b[0;31m         return _signature_from_callable(obj, sigcls=cls,\n\u001b[0m\u001b[1;32m   3003\u001b[0m                                         \u001b[0mfollow_wrapper_chains\u001b[0m\u001b[0;34m=\u001b[0m\u001b[0mfollow_wrapped\u001b[0m\u001b[0;34m,\u001b[0m\u001b[0;34m\u001b[0m\u001b[0;34m\u001b[0m\u001b[0m\n\u001b[1;32m   3004\u001b[0m                                         globals=globals, locals=locals, eval_str=eval_str)\n",
            "\u001b[0;32m/usr/lib/python3.10/inspect.py\u001b[0m in \u001b[0;36m_signature_from_callable\u001b[0;34m(obj, follow_wrapper_chains, skip_bound_arg, globals, locals, eval_str, sigcls)\u001b[0m\n\u001b[1;32m   2410\u001b[0m         \u001b[0;31m# Unwrap until we find an explicit signature or a MethodType (which will be\u001b[0m\u001b[0;34m\u001b[0m\u001b[0;34m\u001b[0m\u001b[0m\n\u001b[1;32m   2411\u001b[0m         \u001b[0;31m# handled explicitly below).\u001b[0m\u001b[0;34m\u001b[0m\u001b[0;34m\u001b[0m\u001b[0m\n\u001b[0;32m-> 2412\u001b[0;31m         obj = unwrap(obj, stop=(lambda f: hasattr(f, \"__signature__\")\n\u001b[0m\u001b[1;32m   2413\u001b[0m                                 or isinstance(f, types.MethodType)))\n\u001b[1;32m   2414\u001b[0m         \u001b[0;32mif\u001b[0m \u001b[0misinstance\u001b[0m\u001b[0;34m(\u001b[0m\u001b[0mobj\u001b[0m\u001b[0;34m,\u001b[0m \u001b[0mtypes\u001b[0m\u001b[0;34m.\u001b[0m\u001b[0mMethodType\u001b[0m\u001b[0;34m)\u001b[0m\u001b[0;34m:\u001b[0m\u001b[0;34m\u001b[0m\u001b[0;34m\u001b[0m\u001b[0m\n",
            "\u001b[0;32m/usr/lib/python3.10/inspect.py\u001b[0m in \u001b[0;36munwrap\u001b[0;34m(func, stop)\u001b[0m\n\u001b[1;32m    610\u001b[0m \u001b[0;31m# -------------------------------------------------------- function helpers\u001b[0m\u001b[0;34m\u001b[0m\u001b[0;34m\u001b[0m\u001b[0m\n\u001b[1;32m    611\u001b[0m \u001b[0;34m\u001b[0m\u001b[0m\n\u001b[0;32m--> 612\u001b[0;31m \u001b[0;32mdef\u001b[0m \u001b[0munwrap\u001b[0m\u001b[0;34m(\u001b[0m\u001b[0mfunc\u001b[0m\u001b[0;34m,\u001b[0m \u001b[0;34m*\u001b[0m\u001b[0;34m,\u001b[0m \u001b[0mstop\u001b[0m\u001b[0;34m=\u001b[0m\u001b[0;32mNone\u001b[0m\u001b[0;34m)\u001b[0m\u001b[0;34m:\u001b[0m\u001b[0;34m\u001b[0m\u001b[0;34m\u001b[0m\u001b[0m\n\u001b[0m\u001b[1;32m    613\u001b[0m     \"\"\"Get the object wrapped by *func*.\n\u001b[1;32m    614\u001b[0m \u001b[0;34m\u001b[0m\u001b[0m\n",
            "\u001b[0;31mKeyboardInterrupt\u001b[0m: "
          ]
        }
      ]
    },
    {
      "cell_type": "markdown",
      "source": [
        "### Hyperparameter Tuning"
      ],
      "metadata": {
        "id": "p34v7sUxVh49"
      }
    },
    {
      "cell_type": "code",
      "source": [
        "from sklearn.linear_model import LogisticRegression\n",
        "from sklearn.model_selection import GridSearchCV\n",
        "from sklearn.metrics import precision_score\n",
        "\n",
        "X = X_resampled\n",
        "y = y_resampled\n",
        "\n",
        "X_train, X_test, y_train, y_test = train_test_split(X, y, test_size=0.2, random_state=64)\n",
        "param_grid = {'C': [0.01, 0.1, 1, 10, 100]}  # You can extend or modify this range\n",
        "\n",
        "# Step 2: Create a Logistic Regression model\n",
        "log_reg = LogisticRegression(solver='liblinear')\n",
        "\n",
        "# Step 3: Perform Grid Search with cross-validation\n",
        "grid_search = GridSearchCV(estimator=log_reg, param_grid=param_grid, cv=5, scoring='precision', n_jobs=-1)\n",
        "\n",
        "# Step 4: Fit the GridSearchCV to the data\n",
        "grid_search.fit(X_train, y_train)\n",
        "\n",
        "# Step 5: Get the best C value and corresponding model\n",
        "best_C = grid_search.best_params_['C']\n",
        "print(f\"Best C Value: {best_C}\")\n",
        "\n",
        "# Step 6: Train the Logistic Regression model with the best C value\n",
        "log_reg_best = LogisticRegression(C=best_C, solver='liblinear')\n",
        "log_reg_best.fit(X_train, y_train)\n",
        "\n",
        "# Step 7: Make predictions and evaluate the model\n",
        "y_pred = log_reg_best.predict(X_test)\n",
        "\n",
        "# Evaluate precision on positive class\n",
        "precision = precision_score(y_test, y_pred)\n",
        "print(f\"Precision on 1s (Positive Class): {precision}\")\n",
        "\n",
        "# Optionally: You can also check the best score from GridSearchCV\n",
        "print(f\"Best Grid Search Score: {grid_search.best_score_}\")"
      ],
      "metadata": {
        "colab": {
          "base_uri": "https://localhost:8080/"
        },
        "id": "0LkHektOVnDK",
        "outputId": "cd360a65-97f2-4d3a-9942-9d785ab7baf7"
      },
      "execution_count": 90,
      "outputs": [
        {
          "output_type": "stream",
          "name": "stdout",
          "text": [
            "Best C Value: 100\n",
            "Precision on 1s (Positive Class): 0.726759944326423\n",
            "Best Grid Search Score: 0.7286460744535708\n"
          ]
        }
      ]
    },
    {
      "cell_type": "markdown",
      "source": [
        "### Threshold"
      ],
      "metadata": {
        "id": "kioDm_SxChQT"
      }
    },
    {
      "cell_type": "code",
      "source": [
        "X = X_resampled#_pca[:, selected_features]\n",
        "y = y_resampled\n",
        "\n",
        "X_train, X_test, y_train, y_test = train_test_split(X, y, test_size=0.2, random_state=64)\n",
        "\n",
        "model = LogisticRegression(class_weight=\"balanced\", C = 0.1, random_state=89, max_iter=1000)\n",
        "model.fit(X_train, y_train)\n",
        "\n",
        "y_pred = model.predict(X_test) # Prediction\n",
        "\n",
        "# Evaluate the model\n",
        "print(\"Accuracy:\", accuracy_score(y_test, y_pred))\n",
        "print(\"Confusion Matrix:\\n\", confusion_matrix(y_test, y_pred))\n",
        "print(\"Classification Report:\\n\", classification_report(y_test, y_pred))\n",
        "\n",
        "y_proba = model.predict_proba(X_test)[:, 1] # Predicted Probabilities\n",
        "\n",
        "\n",
        "precision, recall, thresholds = precision_recall_curve(y_test, y_proba)\n",
        "plt.plot(thresholds, precision[:-1], 'b-', label='Precision')\n",
        "plt.plot(thresholds, recall[:-1], 'g-', label='Recall')\n",
        "plt.xlabel('Threshold')\n",
        "plt.ylabel('Score')\n",
        "plt.title('Precision-Recall vs Threshold')\n",
        "plt.legend(loc='best')\n",
        "plt.show()"
      ],
      "metadata": {
        "colab": {
          "base_uri": "https://localhost:8080/",
          "height": 774
        },
        "id": "LOguSNVmECK6",
        "outputId": "9f2e1a07-4d6d-4ac6-c7dc-020e8f6115ea"
      },
      "execution_count": 85,
      "outputs": [
        {
          "output_type": "stream",
          "name": "stdout",
          "text": [
            "Accuracy: 0.6872048205852017\n",
            "Confusion Matrix:\n",
            " [[4581 2230]\n",
            " [3532 8078]]\n",
            "Classification Report:\n",
            "               precision    recall  f1-score   support\n",
            "\n",
            "         0.0       0.56      0.67      0.61      6811\n",
            "         1.0       0.78      0.70      0.74     11610\n",
            "\n",
            "    accuracy                           0.69     18421\n",
            "   macro avg       0.67      0.68      0.68     18421\n",
            "weighted avg       0.70      0.69      0.69     18421\n",
            "\n"
          ]
        },
        {
          "output_type": "display_data",
          "data": {
            "text/plain": [
              "<Figure size 800x550 with 1 Axes>"
            ],
            "image/png": "[encoded data removed]"
          },
          "metadata": {}
        }
      ]
    },
    {
      "cell_type": "code",
      "source": [
        "from sklearn.metrics import f1_score\n",
        "\n",
        "# Initialize variables to track the best threshold and its F1 score\n",
        "best_threshold = 0\n",
        "best_f1 = 0\n",
        "\n",
        "# Iterate through the thresholds\n",
        "for threshold in thresholds:\n",
        "    y_pred_threshold = (y_proba >= threshold).astype(int)  # Apply threshold\n",
        "    f1 = f1_score(y_test, y_pred_threshold)  # Calculate F1 score\n",
        "    if f1 > best_f1:\n",
        "        best_f1 = f1\n",
        "        best_threshold = threshold\n",
        "\n",
        "print(f\"Best Threshold: {best_threshold}, Best F1 Score: {best_f1}\")\n"
      ],
      "metadata": {
        "colab": {
          "base_uri": "https://localhost:8080/"
        },
        "id": "KKQZoKKLotEu",
        "outputId": "22b0ece1-f7cf-481e-cded-c6ca79f5b5ad"
      },
      "execution_count": 86,
      "outputs": [
        {
          "output_type": "stream",
          "name": "stdout",
          "text": [
            "Best Threshold: 0.28806041349814404, Best F1 Score: 0.796887159533074\n"
          ]
        }
      ]
    },
    {
      "cell_type": "code",
      "source": [
        "# Example: Find threshold with recall >= 0.8 and highest precision\n",
        "target_recall = 0.7\n",
        "best_threshold = 0\n",
        "max_precision = 0\n",
        "\n",
        "for p, r, t in zip(precision[:-1], recall[:-1], thresholds):\n",
        "    if r >= target_recall and p > max_precision:\n",
        "        max_precision = p\n",
        "        best_threshold = t\n",
        "\n",
        "print(f\"Best Threshold: {best_threshold} for Recall >= {target_recall} and Precision: {max_precision}\")\n"
      ],
      "metadata": {
        "colab": {
          "base_uri": "https://localhost:8080/"
        },
        "id": "Je3QzyErovQZ",
        "outputId": "bbbac366-e20c-4237-977c-f5eb278cbeec"
      },
      "execution_count": 87,
      "outputs": [
        {
          "output_type": "stream",
          "name": "stdout",
          "text": [
            "Best Threshold: 0.49547468082548407 for Recall >= 0.7 and Precision: 0.7818566211800884\n"
          ]
        }
      ]
    },
    {
      "cell_type": "code",
      "source": [
        "f1_scores = []\n",
        "for threshold in thresholds:\n",
        "    y_pred_threshold = (y_proba >= threshold).astype(int)\n",
        "    f1_scores.append(f1_score(y_test, y_pred_threshold))\n",
        "\n",
        "plt.plot(thresholds, f1_scores, 'r-', label='F1 Score')\n",
        "plt.xlabel('Threshold')\n",
        "plt.ylabel('F1 Score')\n",
        "plt.title('F1 Score vs Threshold')\n",
        "plt.legend(loc='best')\n",
        "plt.show()\n"
      ],
      "metadata": {
        "colab": {
          "base_uri": "https://localhost:8080/",
          "height": 544
        },
        "id": "HkyrnVy7owkj",
        "outputId": "aedfc8f9-6894-4d01-9575-34a7a50c085d"
      },
      "execution_count": null,
      "outputs": [
        {
          "output_type": "display_data",
          "data": {
            "text/plain": [
              "<Figure size 800x550 with 1 Axes>"
            ],
            "image/png": "[encoded data removed]"
          },
          "metadata": {}
        }
      ]
    },
    {
      "cell_type": "markdown",
      "source": [
        "## Final Model"
      ],
      "metadata": {
        "id": "OmD34NmgVvpb"
      }
    },
    {
      "cell_type": "code",
      "source": [
        "optimal_threshold = 0.4\n",
        "model = LogisticRegression(class_weight=\"balanced\", penalty='l1', random_state=89, max_iter=1000,solver='liblinear', C = 100)\n",
        "model.fit(X_resampled, y_resampled)\n",
        "# Predict probabilities for the test set\n",
        "\n",
        "X_test = test_data_standardized\n",
        "y_proba = model.predict_proba(X_test)[:, 1]\n",
        "\n",
        "# Apply the optimal threshold\n",
        "y_pred_optimal = (y_proba >= optimal_threshold).astype(int)\n",
        "\n",
        "list_predictions =y_pred_optimal.tolist()\n",
        "rounded_list_predictions = [int(x) for x in list_predictions]\n",
        "print(rounded_list_predictions)"
      ],
      "metadata": {
        "colab": {
          "base_uri": "https://localhost:8080/",
          "height": 418
        },
        "id": "D8PgcqKI6Po2",
        "outputId": "7f77d5e0-6e4a-4884-d955-5024bf63c875"
      },
      "execution_count": 174,
      "outputs": [
        {
          "output_type": "error",
          "ename": "KeyboardInterrupt",
          "evalue": "",
          "traceback": [
            "\u001b[0;31m---------------------------------------------------------------------------\u001b[0m",
            "\u001b[0;31mKeyboardInterrupt\u001b[0m                         Traceback (most recent call last)",
            "\u001b[0;32m<ipython-input-174-86c6b8075785>\u001b[0m in \u001b[0;36m<cell line: 3>\u001b[0;34m()\u001b[0m\n\u001b[1;32m      1\u001b[0m \u001b[0moptimal_threshold\u001b[0m \u001b[0;34m=\u001b[0m \u001b[0;36m0.4\u001b[0m\u001b[0;34m\u001b[0m\u001b[0;34m\u001b[0m\u001b[0m\n\u001b[1;32m      2\u001b[0m \u001b[0mmodel\u001b[0m \u001b[0;34m=\u001b[0m \u001b[0mLogisticRegression\u001b[0m\u001b[0;34m(\u001b[0m\u001b[0mclass_weight\u001b[0m\u001b[0;34m=\u001b[0m\u001b[0;34m\"balanced\"\u001b[0m\u001b[0;34m,\u001b[0m \u001b[0mpenalty\u001b[0m\u001b[0;34m=\u001b[0m\u001b[0;34m'l1'\u001b[0m\u001b[0;34m,\u001b[0m \u001b[0mrandom_state\u001b[0m\u001b[0;34m=\u001b[0m\u001b[0;36m89\u001b[0m\u001b[0;34m,\u001b[0m \u001b[0mmax_iter\u001b[0m\u001b[0;34m=\u001b[0m\u001b[0;36m1000\u001b[0m\u001b[0;34m,\u001b[0m\u001b[0msolver\u001b[0m\u001b[0;34m=\u001b[0m\u001b[0;34m'liblinear'\u001b[0m\u001b[0;34m,\u001b[0m \u001b[0mC\u001b[0m \u001b[0;34m=\u001b[0m \u001b[0;36m100\u001b[0m\u001b[0;34m)\u001b[0m\u001b[0;34m\u001b[0m\u001b[0;34m\u001b[0m\u001b[0m\n\u001b[0;32m----> 3\u001b[0;31m \u001b[0mmodel\u001b[0m\u001b[0;34m.\u001b[0m\u001b[0mfit\u001b[0m\u001b[0;34m(\u001b[0m\u001b[0mX_resampled\u001b[0m\u001b[0;34m,\u001b[0m \u001b[0my_resampled\u001b[0m\u001b[0;34m)\u001b[0m\u001b[0;34m\u001b[0m\u001b[0;34m\u001b[0m\u001b[0m\n\u001b[0m\u001b[1;32m      4\u001b[0m \u001b[0;31m# Predict probabilities for the test set\u001b[0m\u001b[0;34m\u001b[0m\u001b[0;34m\u001b[0m\u001b[0m\n\u001b[1;32m      5\u001b[0m \u001b[0;34m\u001b[0m\u001b[0m\n",
            "\u001b[0;32m/usr/local/lib/python3.10/dist-packages/sklearn/base.py\u001b[0m in \u001b[0;36mwrapper\u001b[0;34m(estimator, *args, **kwargs)\u001b[0m\n\u001b[1;32m   1471\u001b[0m                 )\n\u001b[1;32m   1472\u001b[0m             ):\n\u001b[0;32m-> 1473\u001b[0;31m                 \u001b[0;32mreturn\u001b[0m \u001b[0mfit_method\u001b[0m\u001b[0;34m(\u001b[0m\u001b[0mestimator\u001b[0m\u001b[0;34m,\u001b[0m \u001b[0;34m*\u001b[0m\u001b[0margs\u001b[0m\u001b[0;34m,\u001b[0m \u001b[0;34m**\u001b[0m\u001b[0mkwargs\u001b[0m\u001b[0;34m)\u001b[0m\u001b[0;34m\u001b[0m\u001b[0;34m\u001b[0m\u001b[0m\n\u001b[0m\u001b[1;32m   1474\u001b[0m \u001b[0;34m\u001b[0m\u001b[0m\n\u001b[1;32m   1475\u001b[0m         \u001b[0;32mreturn\u001b[0m \u001b[0mwrapper\u001b[0m\u001b[0;34m\u001b[0m\u001b[0;34m\u001b[0m\u001b[0m\n",
            "\u001b[0;32m/usr/local/lib/python3.10/dist-packages/sklearn/linear_model/_logistic.py\u001b[0m in \u001b[0;36mfit\u001b[0;34m(self, X, y, sample_weight)\u001b[0m\n\u001b[1;32m   1274\u001b[0m                     \u001b[0;34m\" = {}.\"\u001b[0m\u001b[0;34m.\u001b[0m\u001b[0mformat\u001b[0m\u001b[0;34m(\u001b[0m\u001b[0meffective_n_jobs\u001b[0m\u001b[0;34m(\u001b[0m\u001b[0mself\u001b[0m\u001b[0;34m.\u001b[0m\u001b[0mn_jobs\u001b[0m\u001b[0;34m)\u001b[0m\u001b[0;34m)\u001b[0m\u001b[0;34m\u001b[0m\u001b[0;34m\u001b[0m\u001b[0m\n\u001b[1;32m   1275\u001b[0m                 )\n\u001b[0;32m-> 1276\u001b[0;31m             self.coef_, self.intercept_, self.n_iter_ = _fit_liblinear(\n\u001b[0m\u001b[1;32m   1277\u001b[0m                 \u001b[0mX\u001b[0m\u001b[0;34m,\u001b[0m\u001b[0;34m\u001b[0m\u001b[0;34m\u001b[0m\u001b[0m\n\u001b[1;32m   1278\u001b[0m                 \u001b[0my\u001b[0m\u001b[0;34m,\u001b[0m\u001b[0;34m\u001b[0m\u001b[0;34m\u001b[0m\u001b[0m\n",
            "\u001b[0;32m/usr/local/lib/python3.10/dist-packages/sklearn/svm/_base.py\u001b[0m in \u001b[0;36m_fit_liblinear\u001b[0;34m(X, y, C, fit_intercept, intercept_scaling, class_weight, penalty, dual, verbose, max_iter, tol, random_state, multi_class, loss, epsilon, sample_weight)\u001b[0m\n\u001b[1;32m   1213\u001b[0m \u001b[0;34m\u001b[0m\u001b[0m\n\u001b[1;32m   1214\u001b[0m     \u001b[0msolver_type\u001b[0m \u001b[0;34m=\u001b[0m \u001b[0m_get_liblinear_solver_type\u001b[0m\u001b[0;34m(\u001b[0m\u001b[0mmulti_class\u001b[0m\u001b[0;34m,\u001b[0m \u001b[0mpenalty\u001b[0m\u001b[0;34m,\u001b[0m \u001b[0mloss\u001b[0m\u001b[0;34m,\u001b[0m \u001b[0mdual\u001b[0m\u001b[0;34m)\u001b[0m\u001b[0;34m\u001b[0m\u001b[0;34m\u001b[0m\u001b[0m\n\u001b[0;32m-> 1215\u001b[0;31m     raw_coef_, n_iter_ = liblinear.train_wrap(\n\u001b[0m\u001b[1;32m   1216\u001b[0m         \u001b[0mX\u001b[0m\u001b[0;34m,\u001b[0m\u001b[0;34m\u001b[0m\u001b[0;34m\u001b[0m\u001b[0m\n\u001b[1;32m   1217\u001b[0m         \u001b[0my_ind\u001b[0m\u001b[0;34m,\u001b[0m\u001b[0;34m\u001b[0m\u001b[0;34m\u001b[0m\u001b[0m\n",
            "\u001b[0;31mKeyboardInterrupt\u001b[0m: "
          ]
        }
      ]
    },
    {
      "cell_type": "code",
      "source": [
        "print(len(rounded_list_predictions))\n",
        "print(len(test_data_standardized))"
      ],
      "metadata": {
        "id": "TSEFHey5X6i3",
        "outputId": "6a4f2b7e-367b-4f96-b8ed-e79bc346dc91",
        "colab": {
          "base_uri": "https://localhost:8080/"
        }
      },
      "execution_count": 171,
      "outputs": [
        {
          "output_type": "stream",
          "name": "stdout",
          "text": [
            "15114\n",
            "15114\n"
          ]
        }
      ]
    },
    {
      "cell_type": "markdown",
      "source": [
        "# Modelling Method 2 - Random Forests"
      ],
      "metadata": {
        "id": "PvXduNOqxTJl"
      }
    },
    {
      "cell_type": "code",
      "source": [
        "from sklearn.model_selection import train_test_split\n",
        "\n",
        "X_train, X_test, y_train, y_test = train_test_split(X, y, train_size=0.5, test_size=0.5, random_state=42)"
      ],
      "metadata": {
        "id": "tNxcFak4Ylda"
      },
      "execution_count": null,
      "outputs": []
    },
    {
      "cell_type": "markdown",
      "source": [
        "## Random Forest"
      ],
      "metadata": {
        "id": "qaYVB9e1ctem"
      }
    },
    {
      "cell_type": "markdown",
      "source": [
        "## Fitting Original Model"
      ],
      "metadata": {
        "id": "6CLaBR_t99tU"
      }
    },
    {
      "cell_type": "code",
      "source": [
        "from sklearn.ensemble import RandomForestClassifier\n",
        "from sklearn.model_selection import train_test_split\n",
        "from sklearn.metrics import accuracy_score, roc_curve, roc_auc_score\n",
        "import matplotlib.pyplot as plt\n",
        "\n",
        "# Split data with important features into training and testing sets\n",
        "X_train, X_test, y_train, y_test = train_test_split(X, y, test_size=0.2, random_state=42)\n",
        "\n",
        "# Initialize a new RandomForestClassifier\n",
        "rf_model = RandomForestClassifier(n_estimators=100, random_state=42, min_samples_split=5, min_samples_leaf=1, max_depth=10)\n",
        "\n",
        "# Train the model on the training data\n",
        "rf_model.fit(X_train, y_train)\n",
        "\n",
        "# Predict on the test set\n",
        "y_pred = rf_model.predict(X_test)\n",
        "\n",
        "# Evaluate the model accuracy\n",
        "accuracy = accuracy_score(y_test, y_pred)\n",
        "print(\"Accuracy:\", accuracy)\n",
        "\n",
        "# Calculate ROC curve and AUC\n",
        "y_pred_proba = rf_model.predict_proba(X_test)[:, 1]\n",
        "fpr, tpr, thresholds = roc_curve(y_test, y_pred_proba)\n",
        "roc_auc = roc_auc_score(y_test, y_pred_proba)\n",
        "\n",
        "# Plot the ROC curve\n",
        "plt.figure()\n",
        "plt.plot(fpr, tpr, label='Random Forest (AUC = %0.2f)' % roc_auc)\n",
        "plt.plot([0, 1], [0, 1], 'k--')\n",
        "plt.xlim([0.0, 1.0])\n",
        "plt.ylim([0.0, 1.05])\n",
        "plt.xlabel('False Positive Rate')\n",
        "plt.ylabel('True Positive Rate')\n",
        "plt.title('Receiver Operating Characteristic (ROC)')\n",
        "plt.legend(loc=\"lower right\")\n",
        "plt.show()"
      ],
      "metadata": {
        "id": "djAtAns4f7F7",
        "outputId": "798ce7a7-2c5d-47bb-c128-16bf546fb760",
        "colab": {
          "base_uri": "https://localhost:8080/",
          "height": 562
        }
      },
      "execution_count": null,
      "outputs": [
        {
          "output_type": "stream",
          "name": "stdout",
          "text": [
            "Accuracy: 0.7382112866286922\n"
          ]
        },
        {
          "output_type": "display_data",
          "data": {
            "text/plain": [
              "<Figure size 800x550 with 1 Axes>"
            ],
            "image/png": "[encoded data removed]"
          },
          "metadata": {}
        }
      ]
    },
    {
      "cell_type": "code",
      "source": [
        "from sklearn.ensemble import RandomForestRegressor\n",
        "from sklearn.metrics import mean_squared_error\n",
        "\n",
        "mean_squared_error(y_test, y_pred)"
      ],
      "metadata": {
        "id": "8RBQsu4QcsHp",
        "outputId": "4251d2f3-d31c-44b0-fe6b-fd25ee71f28f",
        "colab": {
          "base_uri": "https://localhost:8080/"
        }
      },
      "execution_count": null,
      "outputs": [
        {
          "output_type": "execute_result",
          "data": {
            "text/plain": [
              "0.26178871337130777"
            ]
          },
          "metadata": {},
          "execution_count": 67
        }
      ]
    },
    {
      "cell_type": "markdown",
      "source": [
        "## Prediction Analysis"
      ],
      "metadata": {
        "id": "wwTg5jLb9I-m"
      }
    },
    {
      "cell_type": "code",
      "source": [
        "def plot_prediction_analysis(y_test, y_pred):\n",
        "    # Calculate R-squared\n",
        "    r2 = np.corrcoef(y_test, y_pred)[0,1]**2\n",
        "\n",
        "    # Create figure\n",
        "    plt.figure(figsize=(10, 6))\n",
        "\n",
        "    # Create regression plot\n",
        "    sns.regplot(x=y_pred, y=y_test, scatter_kws={'alpha':0.5})\n",
        "\n",
        "    # Add perfect prediction line\n",
        "    plt.plot([y_test.min(), y_test.max()],\n",
        "             [y_test.min(), y_test.max()],\n",
        "             'r--', lw=2, label='Perfect Prediction')\n",
        "\n",
        "    # Add labels and title\n",
        "    plt.xlabel('Predicted Values')\n",
        "    plt.ylabel('Actual Values')\n",
        "    plt.title(f'Predicted vs Actual Values (R² = {r2:.3f})')\n",
        "    plt.legend()\n",
        "\n",
        "    plt.tight_layout()\n",
        "    plt.show()\n",
        "\n",
        "# Use it like this:\n",
        "plot_prediction_analysis(y_test, y_pred)"
      ],
      "metadata": {
        "id": "I9cid-Qyc-3e",
        "outputId": "6886aa7a-c606-42d1-f25a-a4cd665c8422",
        "colab": {
          "base_uri": "https://localhost:8080/",
          "height": 627
        }
      },
      "execution_count": null,
      "outputs": [
        {
          "output_type": "display_data",
          "data": {
            "text/plain": [
              "<Figure size 1000x600 with 1 Axes>"
            ],
            "image/png": "[encoded data removed]"
          },
          "metadata": {}
        }
      ]
    },
    {
      "cell_type": "code",
      "source": [
        "insurance_rf = RandomForestRegressor(max_features=6, random_state=42, n_estimators=100)\n",
        "insurance_rf.fit(X_train, y_train)\n",
        "\n",
        "y_pred = insurance_rf.predict(X_test)\n",
        "\n",
        "mean_squared_error(y_test, y_pred)"
      ],
      "metadata": {
        "id": "rJH8pDindBiq",
        "outputId": "729198d4-ecd0-480d-d692-96b16a04f5f3",
        "colab": {
          "base_uri": "https://localhost:8080/"
        }
      },
      "execution_count": null,
      "outputs": [
        {
          "output_type": "execute_result",
          "data": {
            "text/plain": [
              "0.07764743085325033"
            ]
          },
          "metadata": {},
          "execution_count": 69
        }
      ]
    },
    {
      "cell_type": "markdown",
      "source": [
        "## Model Tuning"
      ],
      "metadata": {
        "id": "tKIPQOLuEL1s"
      }
    },
    {
      "cell_type": "markdown",
      "source": [
        "### Important Features"
      ],
      "metadata": {
        "id": "Dqz5Q_Ij9O7C"
      }
    },
    {
      "cell_type": "code",
      "source": [
        "def plot_feature_importances(model, feature_names, x_tick_rotation=45, threshold=0.01):\n",
        "    # Get feature importances\n",
        "    importances = pd.Series(model.feature_importances_, index=feature_names)\n",
        "\n",
        "    # Filter features above threshold\n",
        "    importances = importances[importances >= threshold]\n",
        "\n",
        "    # Sort in descending order\n",
        "    importances = importances.sort_values(ascending=False)\n",
        "\n",
        "    # Create figure\n",
        "    plt.figure(figsize=(10, 6))\n",
        "\n",
        "    # Create bar plot\n",
        "    importances.plot(kind='bar')\n",
        "\n",
        "    # Add labels and title\n",
        "    plt.title(f'Feature Importances (threshold >= {threshold})')\n",
        "    plt.xlabel('Features')\n",
        "    plt.ylabel('Importance')\n",
        "\n",
        "    # Rotate x-axis labels\n",
        "    plt.xticks(rotation=x_tick_rotation, ha='right')\n",
        "\n",
        "    # Adjust layout to prevent label cutoff\n",
        "    plt.tight_layout()\n",
        "\n",
        "    plt.show()\n",
        "\n",
        "    # Print sorted importances\n",
        "    print(\"\\nFeature Importances:\")\n",
        "    for name, importance in importances.items():\n",
        "        print(f\"{name}: {importance:.4f}\")\n",
        "\n",
        "# Use it like this:\n",
        "plot_feature_importances(rfi_model, X.columns, x_tick_rotation=45, threshold=0.01)"
      ],
      "metadata": {
        "id": "wZXpBsZ6d3Am",
        "outputId": "af1955fc-86bb-40ef-9e2f-22e2ccb2fb34",
        "colab": {
          "base_uri": "https://localhost:8080/",
          "height": 199
        }
      },
      "execution_count": null,
      "outputs": [
        {
          "output_type": "error",
          "ename": "NameError",
          "evalue": "name 'rfi_model' is not defined",
          "traceback": [
            "\u001b[0;31m---------------------------------------------------------------------------\u001b[0m",
            "\u001b[0;31mNameError\u001b[0m                                 Traceback (most recent call last)",
            "\u001b[0;32m<ipython-input-76-e3f4c448849a>\u001b[0m in \u001b[0;36m<cell line: 36>\u001b[0;34m()\u001b[0m\n\u001b[1;32m     34\u001b[0m \u001b[0;34m\u001b[0m\u001b[0m\n\u001b[1;32m     35\u001b[0m \u001b[0;31m# Use it like this:\u001b[0m\u001b[0;34m\u001b[0m\u001b[0;34m\u001b[0m\u001b[0m\n\u001b[0;32m---> 36\u001b[0;31m \u001b[0mplot_feature_importances\u001b[0m\u001b[0;34m(\u001b[0m\u001b[0mrfi_model\u001b[0m\u001b[0;34m,\u001b[0m \u001b[0mX\u001b[0m\u001b[0;34m.\u001b[0m\u001b[0mcolumns\u001b[0m\u001b[0;34m,\u001b[0m \u001b[0mx_tick_rotation\u001b[0m\u001b[0;34m=\u001b[0m\u001b[0;36m45\u001b[0m\u001b[0;34m,\u001b[0m \u001b[0mthreshold\u001b[0m\u001b[0;34m=\u001b[0m\u001b[0;36m0.01\u001b[0m\u001b[0;34m)\u001b[0m\u001b[0;34m\u001b[0m\u001b[0;34m\u001b[0m\u001b[0m\n\u001b[0m",
            "\u001b[0;31mNameError\u001b[0m: name 'rfi_model' is not defined"
          ]
        }
      ]
    },
    {
      "cell_type": "code",
      "source": [
        "# Get important features (e.g., those with importance > threshold)\n",
        "threshold = 0.01  # adjust this based on your needs\n",
        "important_features = pd.Series(insurance_rf.feature_importances_, index=X.columns)\n",
        "important_features = important_features[important_features > threshold].index\n",
        "\n",
        "# Create new dataset with only important features\n",
        "X_important = X[important_features]\n",
        "\n",
        "# # Train new model with important features only\n",
        "# model_important = rfi(random_state=42)  # or your chosen model\n",
        "# model_important.fit(X_important, y)"
      ],
      "metadata": {
        "id": "D5UpMuAud3zO"
      },
      "execution_count": null,
      "outputs": []
    },
    {
      "cell_type": "markdown",
      "source": [
        "### Fitting Feature Selected Model"
      ],
      "metadata": {
        "id": "sgO7Tbci-Dvb"
      }
    },
    {
      "cell_type": "code",
      "source": [
        "#rom sklearn.ensemble import RandomForestClassifier\n",
        "from sklearn.model_selection import train_test_split\n",
        "from sklearn.metrics import accuracy_score, roc_curve, roc_auc_score\n",
        "import matplotlib.pyplot as plt\n",
        "\n",
        "# Split data with important features into training and testing sets\n",
        "X_train, X_test, y_train, y_test = train_test_split(X_important, y, test_size=0.2, random_state=42)\n",
        "\n",
        "# Initialize a new RandomForestClassifier\n",
        "rfi_model = RandomForestClassifier(n_estimators=100, random_state=42, min_samples_split=5, min_samples_leaf=1, max_depth=10)\n",
        "\n",
        "# Train the model on the training data\n",
        "rfi_model.fit(X_train, y_train)\n",
        "\n",
        "# Predict on the test set\n",
        "y_pred = rfi_model.predict(X_test)\n",
        "\n",
        "# Evaluate the model accuracy\n",
        "accuracy = accuracy_score(y_test, y_pred)\n",
        "print(\"Accuracy:\", accuracy)\n",
        "\n",
        "# Calculate ROC curve and AUC\n",
        "y_pred_proba = rfi_model.predict_proba(X_test)[:, 1]\n",
        "fpr, tpr, thresholds = roc_curve(y_test, y_pred_proba)\n",
        "roc_auc = roc_auc_score(y_test, y_pred_proba)\n",
        "\n",
        "# Plot the ROC curve\n",
        "plt.figure()\n",
        "plt.plot(fpr, tpr, label='Random Forest (AUC = %0.2f)' % roc_auc)\n",
        "plt.plot([0, 1], [0, 1], 'k--')\n",
        "plt.xlim([0.0, 1.0])\n",
        "plt.ylim([0.0, 1.05])\n",
        "plt.xlabel('False Positive Rate')\n",
        "plt.ylabel('True Positive Rate')\n",
        "plt.title('Receiver Operating Characteristic (ROC)')\n",
        "plt.legend(loc=\"lower right\")\n",
        "plt.show()"
      ],
      "metadata": {
        "id": "13yoZnbu-Cho"
      },
      "execution_count": null,
      "outputs": []
    },
    {
      "cell_type": "markdown",
      "source": [
        "### Cross-Validation"
      ],
      "metadata": {
        "id": "Ssg5k7PM9uxi"
      }
    },
    {
      "cell_type": "code",
      "source": [
        "from sklearn.model_selection import cross_val_score\n",
        "\n",
        "# Original model performance\n",
        "scores_original = cross_val_score(rf_model, X, y, cv=5)\n",
        "\n",
        "# New model performance with important features only\n",
        "scores_important = cross_val_score(rfi_model, X_important, y, cv=5)\n",
        "\n",
        "print(\"Original model CV scores:\", scores_original.mean(), \"±\", scores_original.std())\n",
        "print(\"Important features model CV scores:\", scores_important.mean(), \"±\", scores_important.std())"
      ],
      "metadata": {
        "id": "IsbXUIRGeiM7"
      },
      "execution_count": null,
      "outputs": []
    },
    {
      "cell_type": "code",
      "source": [
        "# if len(important_features) >= 2:\n",
        "#     top_2_features = important_features[:2]\n",
        "#     X_important[f'{top_2_features[0]}_x_{top_2_features[1]}'] = (\n",
        "#         X_important[top_2_features[0]] * X_important[top_2_features[1]]\n",
        "#     )"
      ],
      "metadata": {
        "id": "4_8PkTufelKh"
      },
      "execution_count": null,
      "outputs": []
    },
    {
      "cell_type": "markdown",
      "source": [
        "### Hyper-Parameter Tuning"
      ],
      "metadata": {
        "id": "I1c1xgCr-adz"
      }
    },
    {
      "cell_type": "code",
      "source": [
        "# prompt: use RandomizedSearchCV for hyperparamter tuning\n",
        "\n",
        "from sklearn.model_selection import RandomizedSearchCV\n",
        "\n",
        "# Define the parameter grid to search\n",
        "param_grid = {\n",
        "    'n_estimators': [50, 100, 200],\n",
        "    'max_depth': [None, 10, 20],\n",
        "    'min_samples_split': [2, 5, 10],\n",
        "    'min_samples_leaf': [1, 2, 4]\n",
        "}\n",
        "\n",
        "# Create a RandomizedSearchCV object\n",
        "random_search = RandomizedSearchCV(estimator=rfi_model, param_distributions=param_grid, n_iter=10, cv=5, scoring='accuracy', n_jobs=-1, random_state=42)\n",
        "\n",
        "# Fit the RandomizedSearchCV object to the training data\n",
        "random_search.fit(X_train, y_train)\n",
        "\n",
        "# Print the best parameters and the best score\n",
        "print(\"Best parameters:\", random_search.best_params_)\n",
        "print(\"Best score:\", random_search.best_score_)\n",
        "\n",
        "# Use the best model for prediction\n",
        "best_rf_model = random_search.best_estimator_\n",
        "y_pred = best_rf_model.predict(X_test)\n",
        "\n",
        "# Evaluate the model\n",
        "accuracy = accuracy_score(y_test, y_pred)\n",
        "print(\"Accuracy:\", accuracy)"
      ],
      "metadata": {
        "id": "eoK87g0B-v86"
      },
      "execution_count": null,
      "outputs": []
    },
    {
      "cell_type": "markdown",
      "source": [
        "### Adjusting Threshold for Revenue Maximizing"
      ],
      "metadata": {
        "id": "AA1eogoHF64F"
      }
    },
    {
      "cell_type": "code",
      "source": [
        "import numpy as np\n",
        "import matplotlib.pyplot as plt\n",
        "from sklearn.metrics import confusion_matrix\n",
        "\n",
        "# Predict probabilities for the positive class\n",
        "y_probs = best_rf_model.predict_proba(X_test)[:, 1]\n",
        "\n",
        "# Define a range of thresholds\n",
        "thresholds = np.arange(0.0, 1.0, 0.01)\n",
        "false_positive_rates = []\n",
        "false_negative_rates = []\n",
        "revenues = []\n",
        "\n",
        "# Calculate FPR, FNR, and revenue for each threshold\n",
        "for threshold in thresholds:\n",
        "    y_pred = (y_probs >= threshold).astype(int)\n",
        "\n",
        "    # Calculate confusion matrix components\n",
        "    tn, fp, fn, tp = confusion_matrix(y_test[:len(y_pred)], y_pred).ravel()\n",
        "\n",
        "    # Calculate false positive rate and false negative rate\n",
        "    fpr = fp / (fp + tn) if (fp + tn) > 0 else 0\n",
        "    fnr = fn / (fn + tp) if (fn + tp) > 0 else 0\n",
        "\n",
        "    # Append FPR and FNR to lists\n",
        "    false_positive_rates.append(fpr)\n",
        "    false_negative_rates.append(fnr)\n",
        "\n",
        "    # Calculate revenue: (5.5 * True Positives) - (1 * Predicted Positives)\n",
        "    revenue = (5.5 * tp) - (1 * (tp + fp))\n",
        "    revenues.append(revenue)\n",
        "\n",
        "# Plotting FPR and FNR against thresholds\n",
        "fig, ax1 = plt.subplots(figsize=(10, 6))\n",
        "\n",
        "# Plot false positive and false negative rates\n",
        "ax1.plot(thresholds, false_positive_rates, label=\"Probability of False Positives (FP)\", color=\"green\")\n",
        "ax1.plot(thresholds, false_negative_rates, label=\"Probability of False Negatives (FN)\", color=\"blue\")\n",
        "ax1.set_xlabel(\"Threshold\")\n",
        "ax1.set_ylabel(\"Probability\")\n",
        "ax1.set_title(\"Probability of False Negatives (FN), False Positives (FP), and Revenue by Threshold\")\n",
        "ax1.grid()\n",
        "ax1.legend(loc=\"upper left\")\n",
        "\n",
        "# Plot revenue on a secondary y-axis\n",
        "ax2 = ax1.twinx()\n",
        "ax2.plot(thresholds, revenues, label=\"Revenue\", color=\"orange\")\n",
        "ax2.set_ylabel(\"Revenue ($)\")\n",
        "ax2.legend(loc=\"upper right\")\n",
        "\n",
        "# Mark the Equal Error Point (EEP) where FP and FN rates intersect\n",
        "equal_error_point = thresholds[np.argmin(np.abs(np.array(false_positive_rates) - np.array(false_negative_rates)))]\n",
        "ax1.axvline(equal_error_point, color=\"red\", linestyle=\"--\", label=\"Equal Error Point (EEP)\")\n",
        "ax1.legend(loc=\"upper left\")\n",
        "\n",
        "plt.show()\n",
        "\n",
        "print(f\"Equal Error Point (EEP) Threshold: {equal_error_point}\")\n"
      ],
      "metadata": {
        "id": "3h4H6WrIF5Jc"
      },
      "execution_count": null,
      "outputs": []
    },
    {
      "cell_type": "markdown",
      "source": [
        "### Predicting with Final Model"
      ],
      "metadata": {
        "id": "KxjpPLPBGest"
      }
    },
    {
      "cell_type": "markdown",
      "source": [
        "This model has an advertising revenue of 12 on the leaderboard"
      ],
      "metadata": {
        "id": "0-pckEhdHpbW"
      }
    },
    {
      "cell_type": "code",
      "source": [
        "\n",
        "# Align test data columns with training data\n",
        "test_data_standardized = test_data_standardized.reindex(columns=X.columns, fill_value=0)\n",
        "\n",
        "# Get probabilities for the positive class (ISBOUND=1)\n",
        "probabilities = rf_model.predict_proba(test_data_standardized)[:, 1]\n",
        "\n",
        "# Apply the EEP threshold\n",
        "threshold = 0.21\n",
        "predictions = (probabilities >= threshold).astype(int)\n",
        "\n",
        "# Convert predictions to a list\n",
        "list_predictions = predictions.tolist()\n",
        "rounded_list_predictions = [int(x) for x in list_predictions]\n",
        "\n",
        "# Output predictions\n",
        "print(\"Predictions:\", rounded_list_predictions)\n",
        "print(\"Number of predictions:\", len(rounded_list_predictions))\n"
      ],
      "metadata": {
        "id": "WkLmY-v5Gd4x"
      },
      "execution_count": null,
      "outputs": []
    }
  ]
}