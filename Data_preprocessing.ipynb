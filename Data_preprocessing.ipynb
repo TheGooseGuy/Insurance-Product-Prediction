{
  "nbformat": 4,
  "nbformat_minor": 0,
  "metadata": {
    "colab": {
      "provenance": [],
      "collapsed_sections": [
        "B4NgxhO4a2R-",
        "kioDm_SxChQT"
      ],
      "toc_visible": true,
      "include_colab_link": true
    },
    "kernelspec": {
      "name": "python3",
      "display_name": "Python 3"
    },
    "language_info": {
      "name": "python"
    }
  },
  "cells": [
    {
      "cell_type": "markdown",
      "metadata": {
        "id": "view-in-github",
        "colab_type": "text"
      },
      "source": [
        "<a href=\"https://colab.research.google.com/github/TheGooseGuy/Insurance-Product-Prediction/blob/main/Data_preprocessing.ipynb\" target=\"_parent\"><img src=\"https://colab.research.google.com/assets/colab-badge.svg\" alt=\"Open In Colab\"/></a>"
      ]
    },
    {
      "cell_type": "markdown",
      "source": [
        "Author: Stephen Torku, Zikang Ge"
      ],
      "metadata": {
        "id": "16qnOPCL5zeL"
      }
    },
    {
      "cell_type": "code",
      "execution_count": 2,
      "metadata": {
        "id": "xgC42sEw1bCJ"
      },
      "outputs": [],
      "source": [
        "import numpy as np\n",
        "import pandas as pd\n",
        "import matplotlib.pyplot as plt\n",
        "import seaborn as sns\n",
        "import re\n",
        "\n",
        "from sklearn.model_selection import train_test_split, cross_val_score\n",
        "from sklearn.linear_model import LogisticRegression\n",
        "from sklearn.metrics import accuracy_score, confusion_matrix, classification_report\n",
        "from sklearn.metrics import roc_curve, roc_auc_score, f1_score, precision_score, recall_score, precision_recall_curve\n",
        "from sklearn.preprocessing import StandardScaler\n",
        "from statsmodels.stats.outliers_influence import variance_inflation_factor\n",
        "from sklearn.decomposition import PCA\n",
        "from sklearn.ensemble import RandomForestClassifier\n",
        "from imblearn.combine import SMOTEENN\n",
        "from sklearn.linear_model import Lasso, Ridge\n",
        "from sklearn.linear_model import LassoCV, RidgeCV\n",
        "\n",
        "pd.set_option('display.precision', 2)                     # number precision for pandas\n",
        "pd.set_option('display.max_rows', 12)\n",
        "pd.set_option('display.float_format', '{:20,.2f}'.format) # get rid of scientific notation\n",
        "plt.style.use('seaborn-v0_8')                             # pretty matplotlib plots"
      ]
    },
    {
      "cell_type": "code",
      "source": [
        "from google.colab import drive\n",
        "drive.mount('/content/drive')"
      ],
      "metadata": {
        "id": "TJPuog2WuwVA",
        "outputId": "00f4d13f-2d1d-4a7a-af96-2f3ff04a663e",
        "colab": {
          "base_uri": "https://localhost:8080/"
        }
      },
      "execution_count": 3,
      "outputs": [
        {
          "output_type": "stream",
          "name": "stdout",
          "text": [
            "Mounted at /content/drive\n"
          ]
        }
      ]
    },
    {
      "cell_type": "code",
      "source": [
        "train = pd.read_excel(\"/content/drive/MyDrive/6100 Project2 DATA/Project2_Training.xlsx\") # Read training data set\n",
        "test = pd.read_excel(\"/content/drive/MyDrive/6100 Project2 DATA/Project2_Test.xlsx\") # Read testing data set"
      ],
      "metadata": {
        "id": "4t5V30gK1oWb"
      },
      "execution_count": 4,
      "outputs": []
    },
    {
      "cell_type": "code",
      "source": [
        "train_data = train.copy()\n",
        "test_data = test.copy()"
      ],
      "metadata": {
        "id": "HPxnkfpp6DIa"
      },
      "execution_count": 204,
      "outputs": []
    },
    {
      "cell_type": "markdown",
      "source": [
        "# Data Pre-processing"
      ],
      "metadata": {
        "id": "B_MBILl_2MzN"
      }
    },
    {
      "cell_type": "code",
      "source": [
        "# Rename test data columns to match train data\n",
        "test_data.rename(columns={\n",
        "    'ANNUALKM': 'ANNUAL_KM',\n",
        "    'COMMUTEDISTANCE': 'COMMUTE_DISTANCE',\n",
        "    'MARKINGSYSTEM': 'MARKING_SYSTEM',\n",
        "    'TRACKINGSYSTEM': 'TRACKING_SYSTEM',\n",
        "    'VEHICLEOWNERSHIP': 'VEHICLE_OWNERSHIP',\n",
        "    'VEHICLEVALUE': 'VEHICLE_VALUE',\n",
        "    'YEAROFBIRTH': 'YEAR_OF_BIRTH',\n",
        "    'POSTALCODE': 'POSTAL_CODE',\n",
        "    'AREACODE': 'AREA_CODE',\n",
        "    'YEARSLICENSED': 'YEARS_LICENSED',\n",
        "    'YEARSASPRINCIPALDRIVER': 'YEARS_AS_PRINCIPAL_DRIVER',\n",
        "    'MULTIPRODUCT': 'MULTI_PRODUCT',\n",
        "    'MARITALSTATUS': 'MARITAL_STATUS',\n",
        "    'CONVICTIONCOUNTMINOR3YRS': 'CONVICTION_COUNT_MINOR_3YRS',\n",
        "    'CONVICTIONCOUNTMAJOR3YRS': 'CONVICTION_COUNT_MAJOR_3YRS',\n",
        "    'CONVICTIONCOUNTCRIMINAL3YRS': 'CONVICTION_COUNT_CRIMINAL_3YRS',\n",
        "    'ASSIGNEDLOSSESPD5YRS': 'ASSIGNED_LOSSES_PD_5YRS',\n",
        "    'SUSPENSIONCOUNT': 'SUSPENSION_COUNT',}, inplace=True)"
      ],
      "metadata": {
        "id": "xzKxijOZGptC"
      },
      "execution_count": 205,
      "outputs": []
    },
    {
      "cell_type": "code",
      "source": [
        "# Check for NA values in each column\n",
        "for column in train_data.columns:\n",
        "    if train_data[column].isna().sum() > 0:\n",
        "        print(f\"{column} has {train_data[column].isna().sum()} missing values.\")\n",
        "print(\"\")\n",
        "for column in test_data.columns:\n",
        "    if test_data[column].isna().sum() > 0:\n",
        "        print(f\"{column} has {test_data[column].isna().sum()} missing values.\")"
      ],
      "metadata": {
        "colab": {
          "base_uri": "https://localhost:8080/"
        },
        "id": "65iAyDVq6Yvp",
        "outputId": "7e1c292c-50f3-4c37-de8e-e7cd94c380a7"
      },
      "execution_count": 206,
      "outputs": [
        {
          "output_type": "stream",
          "name": "stdout",
          "text": [
            "ANNUAL_KM has 1 missing values.\n",
            "COMMUTE_DISTANCE has 35413 missing values.\n",
            "MARKING_SYSTEM has 101866 missing values.\n",
            "TRACKING_SYSTEM has 101887 missing values.\n",
            "VEHICLE_OWNERSHIP has 76450 missing values.\n",
            "VEHICLE_VALUE has 64673 missing values.\n",
            "GENDER has 5 missing values.\n",
            "YEARS_LICENSED has 8 missing values.\n",
            "YEARS_AS_PRINCIPAL_DRIVER has 101279 missing values.\n",
            "OCCUPATION has 1 missing values.\n",
            "\n",
            "COMMUTE_DISTANCE has 5191 missing values.\n",
            "MARKING_SYSTEM has 15095 missing values.\n",
            "TRACKING_SYSTEM has 15112 missing values.\n",
            "VEHICLE_OWNERSHIP has 11500 missing values.\n",
            "VEHICLE_VALUE has 10159 missing values.\n",
            "YEARS_LICENSED has 3 missing values.\n",
            "YEARS_AS_PRINCIPAL_DRIVER has 14946 missing values.\n"
          ]
        }
      ]
    },
    {
      "cell_type": "markdown",
      "source": [
        "## Data Cleaning & Feature Engineering"
      ],
      "metadata": {
        "id": "ZMkaFryG6u5K"
      }
    },
    {
      "cell_type": "code",
      "source": [
        "# Combine train data and test data, will split them in the end\n",
        "train_data['is_train'] = 1\n",
        "test_data['is_train'] = 0\n",
        "\n",
        "combined_data = pd.concat([train_data, test_data], ignore_index=True)"
      ],
      "metadata": {
        "id": "lOVTvU1yLrYr"
      },
      "execution_count": 207,
      "outputs": []
    },
    {
      "cell_type": "code",
      "source": [
        "# Drop significantly unbalanced columns\n",
        "combined_data.drop(columns=['MARKING_SYSTEM', 'TRACKING_SYSTEM'], inplace=True)"
      ],
      "metadata": {
        "id": "JepyoJdzbqR8"
      },
      "execution_count": 208,
      "outputs": []
    },
    {
      "cell_type": "code",
      "source": [
        "# QUOTEDATE\n",
        "def get_season(month):\n",
        "    if month in [12, 1, 2]:\n",
        "        return 'Winter'\n",
        "    elif month in [3, 4, 5]:\n",
        "        return 'Spring'\n",
        "    elif month in [6, 7, 8]:\n",
        "        return 'Summer'\n",
        "    elif month in [9, 10, 11]:\n",
        "        return 'Fall'\n",
        "combined_data['VEHICLE_AGE'] = pd.to_datetime(combined_data['QUOTEDATE']).dt.year - combined_data['VEHICLEYEAR']\n",
        "combined_data['Season'] = combined_data['QUOTEDATE'].apply(get_season)\n",
        "\n",
        "# Encode 'Season' using pd.get_dummies\n",
        "combined_data = pd.get_dummies(combined_data, columns=['Season'], prefix='Season')\n",
        "\n",
        "# Drop 'Quote_Month' if you no longer need it\n",
        "combined_data = combined_data.drop(columns=['QUOTEDATE'])"
      ],
      "metadata": {
        "id": "-Z-HzHTe5ocm"
      },
      "execution_count": 209,
      "outputs": []
    },
    {
      "cell_type": "code",
      "source": [
        "# VEHICLEYEAR\n",
        "\n",
        "# Group by vehicle age brackets\n",
        "def vehicle_age_group(year):\n",
        "    if year < 2000:\n",
        "        return 'Vintage'\n",
        "    elif year < 2010:\n",
        "        return 'Old'\n",
        "    else:\n",
        "        return 'Modern'\n",
        "\n",
        "combined_data['Vehicle_Age_Group'] = combined_data['VEHICLEYEAR'].apply(vehicle_age_group)\n",
        "combined_data = pd.get_dummies(combined_data, columns=['Vehicle_Age_Group'], prefix='Age')"
      ],
      "metadata": {
        "id": "JmnXihD_7IiR"
      },
      "execution_count": 210,
      "outputs": []
    },
    {
      "cell_type": "code",
      "source": [
        "# Vehicle_makes\n",
        "distinct_vehicle_makes = train_data['VEHICLEMODEL'].unique()\n",
        "print(distinct_vehicle_makes)\n",
        "\n",
        "print(\"\")\n",
        "\n",
        "distinct_vehicle_makes = test_data['VEHICLEMAKE'].unique()\n",
        "print(distinct_vehicle_makes)"
      ],
      "metadata": {
        "colab": {
          "base_uri": "https://localhost:8080/"
        },
        "id": "DXEXFCyMAjkn",
        "outputId": "142762ac-e581-4597-efb3-5a771872be0b"
      },
      "execution_count": 211,
      "outputs": [
        {
          "output_type": "stream",
          "name": "stdout",
          "text": [
            "['JETTA 2.5 4P' 'ELANTRA GL 4DR' 'SILVERADO 2500 HD LT CREW CAB 4WD' ...\n",
            " 'SILVERADO 1500 LS DOUBLE CAB 2WD' '500 SPORT 2P' '2.3CL 2DR']\n",
            "\n",
            "['HONDA' 'FORD TRUCK/VAN' 'DODGE/RAM TRUCK/VAN' 'FORD'\n",
            " 'CHEVROLET TRUCK/VAN' 'GMC TRUCK/VAN' 'BMW TRUCK/VAN' 'ACURA' 'TOYOTA'\n",
            " 'TOYOTA TRUCK/VAN' 'CHRYSLER' 'KIA' 'MAZDA TRUCK/VAN' 'CHEVROLET' 'MAZDA'\n",
            " 'NISSAN TRUCK/VAN' 'MITSUBISHI' 'HYUNDAI TRUCK/VAN' 'PONTIAC'\n",
            " 'KIA TRUCK/VAN' 'NISSAN' 'LEXUS TRUCK/VAN' 'MERCEDES-BENZ TRUCK'\n",
            " 'VOLKSWAGEN TRUCK/VAN' 'BUICK' 'VOLKSWAGEN' 'VOLVO' 'MERCEDES-BENZ'\n",
            " 'HONDA TRUCK/VAN' 'HYUNDAI' 'BMW' 'INFINITI TRUCK/VAN'\n",
            " 'CADILLAC TRUCK/VAN' 'JEEP' 'HYUNDAI CAMION/VAN' 'MITSUBISHI TRUCK/VAN'\n",
            " 'BUICK TRUCK/VAN' 'SUBARU' 'FORD CAMION/VAN' 'MERZ' 'LINCOLN TRUCK/VAN'\n",
            " 'CHRYSLER TRUCK/VAN' 'DODGE' 'PONTIAC TRUCK/VAN' 'LEXUS' 'MERCURY'\n",
            " 'SATURN TRUCK/VAN' 'OLDSMOBILE' 'AUDI' 'PORSCHE TRUCK/VAN' 'MASERATI'\n",
            " 'CADILLAC' 'VOLVO TRUCK/VAN' 'AUDI TRUCK/VAN' 'MINI' 'LAND ROVER'\n",
            " 'ACURA TRUCK/VAN' 'LEXUS CAMION/VAN' 'INFINITI' 'FIAT' 'SUZUKI TRUCK/VAN'\n",
            " 'SCION' 'HUMMER' 'SATURN' 'MINI COOPER' 'SUZUKI' 'CHEV'\n",
            " 'NISSAN CAMION/VAN' 'LINCOLN' 'TOYOTA CAMION/VAN' 'GMC' 'PORSCHE'\n",
            " 'CHALLENGER' 'SUBARU TRUCK/VAN' 'ACURA CAMION/VAN' 'VOLKSWAGON' 'DODDGE'\n",
            " 'PORCHE' 'PLYMOUTH' 'SAAB' 'JAGUAR' 'VOLLKS' 'KIA CAMION/VAN' 'DODGE/RAM'\n",
            " 'SMART' 'MITSUBISHI CAMION/VA' 'INTERNATIONAL' 'DATSUN' 'MGB' 'PLYMONTH'\n",
            " 'NISAN' 'MAZDA CAMION/VAN' 'JAGUAR TRUCK/VAN' 'BENTLEY'\n",
            " 'DODGE/RAM CAMION/VAN' 'PLYMOUTH TRUCK/VAN' 'AM GENERAL' 'PONITAC'\n",
            " 'MCLAREN' 'TESLA' 'TOYOTO' 'CHEVROLET CAMION/VAN' 'DIABLO' 'NISSSAN'\n",
            " 'CAR' 'DIHATSU' 'HYNDAI' 'ROLLS ROYCE' 'FISKER' 'RANGE ROVER' 'DODGE RAM'\n",
            " 'MERCURY TRUCK/VAN' 'MONICO' 'YAMAHA' 'HONDA CAMION/VAN'\n",
            " 'OLDSMOBILE TRUCK/VAN' 'ASTON MARTIN' 'MAZERATI' 'MERCEDES'\n",
            " 'GEO TRUCK/VAN' 'ALFA ROMEO' 'UNITED' 'TESLA TRUCK/VAN' 'ROYAL' 'CIVIC']\n"
          ]
        }
      ]
    },
    {
      "cell_type": "code",
      "source": [
        "# Define your regex replacements dictionary\n",
        "replacements = {\n",
        "  # Volkswagen variations\n",
        "  r'\\bVW\\b|\\bWV\\b|\\bVOLKS\\b|VOLKSWAGON|VOLGSWAGEN|VOLSWAGEN|VOLKSWAGENJAVASCRIPT:VOID\\(0\\)|VOLLKS|VOLKSWAGEN(?:\\s+TRUCK/VAN|\\s+CAMION/VA)?': 'VOLKSWAGEN',\n",
        "\n",
        "  # Honda variations\n",
        "  r'HONDA(?:\\s+TRUCK/VAN|\\s+CAMION/VAN)?|HONODA|HONDA \\s*CIVIC|HONDA \\s*ACCORD|HONDA \\s*CR-\\s*V|HONDA \\s*650|CIVIC': 'HONDA',\n",
        "\n",
        "  # Ford variations\n",
        "  r'\\bFORD\\b|\\bF150\\b|\\bF250\\b|FORD \\s*150|FORD \\s*FOCUS|FORD \\s*EDGE|FORD \\s*MUSTANG|FORD(?:\\s+TRUCK/VAN|\\s+CAMION/VAN)?|RANGER|MUSTANG': 'FORD',\n",
        "\n",
        "  # Dodge/Ram variations\n",
        "  r'RAM|DODGE|DOGDE|DODGE/RAM(?:\\s+TRUCK/VAN|\\s+CAMION/VAN)?|DODGE \\s*RAM|DODGE \\s*GRAND \\s*CARAVAN|GRAND \\s*CARAVAN|CHALLENGER|DODDGE': 'DODGE',\n",
        "\n",
        "  # Chevrolet variations\n",
        "  r'\\bCHEV\\b|CHEVY|CHEVROLET(?:\\s+TRUCK/VAN|\\s+CAMION/VAN)?|CHEVROLER|CHEVROLE|CHEVROELT|CHERVOLET|CEVROLET|CHEVRELOT|CORVETTE|EL \\s*CAMINO|ASTRO|MAILBOU|Z28|SPRINT': 'CHEVROLET',\n",
        "\n",
        "  # Toyota variations\n",
        "  r'TOYOTA(?:\\s+TRUCK/VAN|\\s+CAMION/VAN)?|TOYOATA|TOYOTO|TOTOTA|TOYTO|CORROLLA|COROLLA|CAMRY|CELICA|MATRIX|TOYOTA \\s*HIGHLANDER': 'TOYOTA',\n",
        "\n",
        "  # Mercedes variations\n",
        "  r'MERCEDES \\s*BENZ|MERCEDEZ \\s*BENZ|MECEDEZ|MERCEDES-BENZ(?:\\s+TRUCK)?|MERCEDES|E350|MERZ': 'MERCEDES-BENZ',\n",
        "\n",
        "  # Chrysler variations\n",
        "  r'CHYRSLER|CHRYSLER(?:\\s+TRUCK/VAN)?|CRYSLER|CHRYLSER|CHRSYLER': 'CHRYSLER',\n",
        "\n",
        "  # Nissan variations\n",
        "  r'NISSIAN|NISSAN(?:\\s+TRUCK/VAN|\\s+CAMION/VAN)?|NISSSAN|NISASN|ALTIMA|NISAN': 'NISSAN',\n",
        "\n",
        "  # Pontiac variations\n",
        "  r'PONTIAC(?:\\s+TRUCK/VAN)?|PONTAIC|PONTIIAC|POTIAC|PONITAC': 'PONTIAC',\n",
        "\n",
        "  # Mazda variations\n",
        "  r'MAZDA(?:\\s+TRUCK/VAN|\\s+CAMION/VAN)?|MADZA|MAZDS|MAZDA3|MAZDA \\s*3': 'MAZDA',\n",
        "\n",
        "  # Hyundai variations\n",
        "  r'HYUNDAI(?:\\s+TRUCK/VAN|\\s+CAMION/VAN)?|HYNDAI|HYUNDIA|HUNDAY|HUNDAI|HYNDEI|HYUANDAI|ELANTRA|ELANTRA \\s*GT': 'HYUNDAI',\n",
        "\n",
        "  # Infiniti variations\n",
        "  r'INFINITY|INFINTI|INFINITI(?:\\s+TRUCK/VAN)?': 'INFINITI',\n",
        "\n",
        "  # Porsche variations\n",
        "  r'PORCHE|PROSCHE|PORSCHE(?:\\s+TRUCK/VAN)?': 'PORSCHE',\n",
        "\n",
        "  # Land Rover variations\n",
        "  r'LANDROVER|RANGE \\s*ROVER|ROVER|LAND \\s*ROVER': 'LAND ROVER',\n",
        "\n",
        "  # Acura variations\n",
        "  r'ACCURA|ACURA(?:\\s+TRUCK/VAN|\\s+CAMION/VAN)?': 'ACURA',\n",
        "\n",
        "  # BMW variations\n",
        "  r'BMW(?:\\s+TRUCK/VAN)?': 'BMW',\n",
        "\n",
        "  # Cadillac variations\n",
        "  r'CADILLAC(?:\\s+TRUCK/VAN)?|CADILLIAC': 'CADILLAC',\n",
        "\n",
        "  # GMC variations\n",
        "  r'GMC(?:\\s+TRUCK/VAN)?|GMC \\s*RALLY|SIERRA \\s*2500': 'GMC',\n",
        "\n",
        "  # Other major manufacturers\n",
        "  r'BUICK(?:\\s+TRUCK/VAN)?': 'BUICK',\n",
        "  r'JEEP|JEPP|JEEP \\s*WRANGLER': 'JEEP',\n",
        "  r'SUBARU(?:\\s+TRUCK/VAN)?': 'SUBARU',\n",
        "  r'VOLVO(?:\\s+TRUCK/VAN)?': 'VOLVO',\n",
        "  r'KIA(?:\\s+TRUCK/VAN|\\s+CAMION/VAN)?': 'KIA',\n",
        "  r'LINCOLN(?:\\s+TRUCK/VAN)?': 'LINCOLN',\n",
        "  r'LEXUS(?:\\s+TRUCK/VAN|\\s+CAMION/VAN)?': 'LEXUS',\n",
        "  r'MERCURY(?:\\s+TRUCK/VAN)?': 'MERCURY',\n",
        "  r'SATURN(?:\\s+TRUCK/VAN)?|VUE': 'SATURN',\n",
        "  r'OLDSMOBILE(?:\\s+TRUCK/VAN)?|CUTLASS': 'OLDSMOBILE',\n",
        "  r'AUDI(?:\\s+TRUCK/VAN)?': 'AUDI',\n",
        "  r'MINI(?:\\s+COOPER)?': 'MINI',\n",
        "  r'SCION': 'SCION',\n",
        "  r'SUZUKI(?:\\s+TRUCK/VAN)?': 'SUZUKI',\n",
        "\n",
        "  # Luxury/Exotic Brands\n",
        "  r'MASERATI|MAZERATI': 'MASERATI',\n",
        "  r'BENTLEY': 'BENTLEY',\n",
        "  r'LAMBORGHINI|DIABLO': 'LAMBORGHINI',\n",
        "  r'FERRARI': 'FERRARI',\n",
        "  r'ALFA|ALFA \\s*ROMEO': 'ALFA ROMEO',\n",
        "  r'ASTON \\s*MARTIN': 'ASTON MARTIN',\n",
        "  r'ROLLS \\s*ROYCE': 'ROLLS ROYCE',\n",
        "  r'MCLAREN': 'MCLAREN',\n",
        "\n",
        "  # Electric/Modern\n",
        "  r'TESLA(?:\\s+TRUCK/VAN)?': 'TESLA',\n",
        "  r'FISKER': 'FISKER',\n",
        "\n",
        "  # Discontinued/Classic\n",
        "  r'PLYMOUTH(?:\\s+TRUCK/VAN)?|PLYMONTH': 'PLYMOUTH',\n",
        "  r'SAAB': 'SAAB',\n",
        "  r'JAGUAR(?:\\s+TRUCK/VAN)?': 'JAGUAR',\n",
        "  r'SMART': 'SMART',\n",
        "  r'DATSUN': 'DATSUN',\n",
        "  r'MG|MGB|MGA': 'MG',\n",
        "  r'HUMMER': 'HUMMER',\n",
        "  r'GEO(?:\\s+TRUCK/VAN)?': 'GEO',\n",
        "  r'EAGLE': 'EAGLE',\n",
        "  r'DAEWOO': 'DAEWOO',\n",
        "  r'DIHATSU': 'DAIHATSU',\n",
        "\n",
        "  # Commercial/Other\n",
        "  r'KENWORTH': 'KENWORTH',\n",
        "  r'FREIGHTLINER': 'FREIGHTLINER',\n",
        "  r'HINO': 'HINO',\n",
        "  r'INTERNATIONAL': 'INTERNATIONAL',\n",
        "  r'AM \\s*GENERAL': 'AM GENERAL',\n",
        "  r'YAMAHA': 'YAMAHA',\n",
        "  r'UNITED': 'UNITED',\n",
        "  r'ROYAL': 'ROYAL',\n",
        "  r'MONICO': 'MONACO',\n",
        "\n",
        "  # Motorcycles/Recreational\n",
        "  r'HARLEY|HARLEY \\s*DAVIDSON|STREET \\s*GLIDE \\s*SPECIAL': 'HARLEY DAVIDSON',\n",
        "  r'ARCTIC \\s*CAT|ARTCIT \\s*CAT|ARTIC \\s*CAT': 'ARCTIC CAT',\n",
        "  r'BOMBARDIER|BOMBADIER|SKI-DOO|SKIDOO': 'BOMBARDIER',\n",
        "  r'KTM': 'KTM',\n",
        "  r'KABUTO': 'KABUTO',\n",
        "  r'SCOOTTERRE': 'SCOOTTERRE',\n",
        "\n",
        "  # Generic/Unknown\n",
        "  r'CAR': 'Unknown',\n",
        "  r'UNDISCLOSED': 'Unknown',\n",
        "  r'CONVERTED': 'Unknown',\n",
        "  r'2XXXXXXXXXXXXXXXXXX': 'Unknown',\n",
        "\n",
        "\n",
        "  # Non-specific Truck/Van entries\n",
        "  r'(?:TRUCK|VAN|CAMION)': '',  # These should be removed or handled separately\n",
        "\n",
        "  # Regional Variations\n",
        "  r'GMC \\s*CAMION/VAN': 'GMC',\n",
        "  r'TOYOTA \\s*CAMION/VAN': 'TOYOTA',\n",
        "  r'HONDA \\s*CAMION/VAN': 'HONDA',\n",
        "  r'MAZDA \\s*CAMION/VAN': 'MAZDA',\n",
        "  r'VOLKSWAGEN \\s*CAMION/VA': 'VOLKSWAGEN',\n",
        "  r'MITSUBISHI \\s*CAMION/VA': 'MITSUBISHI',\n",
        "\n",
        "  # Clean up specific patterns\n",
        "  r'/.*$': '',  # Remove anything after a forward slash\n",
        "  r'\\s+': ' ',  # Standardize spaces\n",
        "  r'^\\s|\\s$': ''  # Remove leading/trailing spaces\n",
        "}\n",
        "\n",
        "combined_data['VEHICLEMAKE'] = combined_data['VEHICLEMAKE'].str.upper().str.strip()\n",
        "\n",
        "# Apply all replacements in place\n",
        "combined_data['VEHICLEMAKE'].replace(replacements, regex=True, inplace=True)\n",
        "\n",
        "# Final cleanup in place\n",
        "combined_data['VEHICLEMAKE'] = (combined_data['VEHICLEMAKE']\n",
        "                           .str.strip()\n",
        "                           .str.replace(r'\\s+', ' ', regex=True)  # Standardize spaces\n",
        "                           .str.replace(r'/.*$', '', regex=True)  # Remove anything after /\n",
        "                           )\n",
        "\n",
        "# First, apply upper case and strip whitespace\n",
        "combined_data['VEHICLEMAKE'] = combined_data['VEHICLEMAKE'].str.upper().str.strip()\n",
        "\n",
        "# Apply regex replacements iteratively in a simplified form\n",
        "for pattern, replacement in replacements.items():\n",
        "    combined_data['VEHICLEMAKE'] = combined_data['VEHICLEMAKE'].str.replace(pattern, replacement, regex=True)\n",
        "\n",
        "# Additional cleanup to standardize spaces and remove trailing info\n",
        "combined_data['VEHICLEMAKE'] = (combined_data['VEHICLEMAKE']\n",
        "                                .str.replace(r'\\s+', ' ', regex=True)  # Standardize spaces\n",
        "                                .str.replace(r'/.*$', '', regex=True)  # Remove anything after /\n",
        "                                .str.strip())  # Remove leading/trailing spaces\n",
        "\n",
        "# Grouping less common makes\n",
        "threshold = 100  # Example threshold for frequency\n",
        "top_makes = combined_data['VEHICLEMAKE'].value_counts()[combined_data['VEHICLEMAKE'].value_counts() > threshold].index\n",
        "combined_data['VEHICLEMAKE'] = combined_data['VEHICLEMAKE'].apply(lambda x: x if x in top_makes else 'Other')\n",
        "\n",
        "# One-hot encoding\n",
        "combined_data = pd.get_dummies(combined_data, columns=['VEHICLEMAKE'], prefix='Vehicle_Make')\n"
      ],
      "metadata": {
        "id": "m1HoFELnDSIs",
        "colab": {
          "base_uri": "https://localhost:8080/"
        },
        "outputId": "4b5df5f9-4dcb-4625-e720-8f471bd95ec8"
      },
      "execution_count": 212,
      "outputs": [
        {
          "output_type": "stream",
          "name": "stderr",
          "text": [
            "<ipython-input-212-679b336b864f>:149: FutureWarning: A value is trying to be set on a copy of a DataFrame or Series through chained assignment using an inplace method.\n",
            "The behavior will change in pandas 3.0. This inplace method will never work because the intermediate object on which we are setting values always behaves as a copy.\n",
            "\n",
            "For example, when doing 'df[col].method(value, inplace=True)', try using 'df.method({col: value}, inplace=True)' or df[col] = df[col].method(value) instead, to perform the operation inplace on the original object.\n",
            "\n",
            "\n",
            "  combined_data['VEHICLEMAKE'].replace(replacements, regex=True, inplace=True)\n"
          ]
        }
      ]
    },
    {
      "cell_type": "code",
      "source": [
        "# ANNUAL_KM\n",
        "combined_data = combined_data[~combined_data['ANNUAL_KM'].isna()]\n",
        "\n",
        "lower_threshold = combined_data['ANNUAL_KM'].quantile(0.01)\n",
        "upper_threshold = combined_data['ANNUAL_KM'].quantile(0.99)\n",
        "\n",
        "# Replace values outside the 1st and 99th percentiles\n",
        "combined_data['ANNUAL_KM'] = combined_data['ANNUAL_KM'].apply(\n",
        "    lambda x: lower_threshold if x < lower_threshold else (upper_threshold if x > upper_threshold else x))"
      ],
      "metadata": {
        "id": "QYYyLjb5FCLi"
      },
      "execution_count": 213,
      "outputs": []
    },
    {
      "cell_type": "code",
      "source": [
        "# COMMUTE_DISTANCE\n",
        "filtered_below_60 = combined_data[combined_data['COMMUTE_DISTANCE'] <= 60]['COMMUTE_DISTANCE']\n",
        "median_below_60 = filtered_below_60.median()\n",
        "\n",
        "# Replace values greater than or equal to 60 with the median of values below 60\n",
        "combined_data['COMMUTE_DISTANCE'] = combined_data['COMMUTE_DISTANCE'].apply(\n",
        "    lambda x: median_below_60 if x >= 60 else x)\n",
        "\n",
        "# Replace NaN values with the median of values below 60\n",
        "combined_data['COMMUTE_DISTANCE'] = combined_data['COMMUTE_DISTANCE'].fillna(median_below_60)"
      ],
      "metadata": {
        "id": "Prd99VzZLHg7"
      },
      "execution_count": 214,
      "outputs": []
    },
    {
      "cell_type": "code",
      "source": [
        "# VEHICLE_OWNERSHIP\n",
        "combined_data['VEHICLE_OWNERSHIP'].fillna(train_data['VEHICLE_OWNERSHIP'].mode()[0], inplace=True)\n",
        "\n",
        "combined_data = pd.get_dummies(combined_data, columns=['VEHICLE_OWNERSHIP'], prefix='Marking')"
      ],
      "metadata": {
        "collapsed": true,
        "id": "JbvctpC9O-h2",
        "colab": {
          "base_uri": "https://localhost:8080/"
        },
        "outputId": "2da71a4b-d20c-43ee-fbac-93f5cce1cd2c"
      },
      "execution_count": 215,
      "outputs": [
        {
          "output_type": "stream",
          "name": "stderr",
          "text": [
            "<ipython-input-215-e134d4629409>:2: FutureWarning: A value is trying to be set on a copy of a DataFrame or Series through chained assignment using an inplace method.\n",
            "The behavior will change in pandas 3.0. This inplace method will never work because the intermediate object on which we are setting values always behaves as a copy.\n",
            "\n",
            "For example, when doing 'df[col].method(value, inplace=True)', try using 'df.method({col: value}, inplace=True)' or df[col] = df[col].method(value) instead, to perform the operation inplace on the original object.\n",
            "\n",
            "\n",
            "  combined_data['VEHICLE_OWNERSHIP'].fillna(train_data['VEHICLE_OWNERSHIP'].mode()[0], inplace=True)\n"
          ]
        }
      ]
    },
    {
      "cell_type": "code",
      "source": [
        "# VEHICLE_VALUE\n",
        "median_vehicle_value = combined_data[combined_data[\"VEHICLE_VALUE\"]>5000][\"VEHICLE_VALUE\"].median()\n",
        "combined_data[\"VEHICLE_VALUE\"].fillna(median_vehicle_value, inplace=True)\n",
        "combined_data.loc[combined_data[\"VEHICLE_VALUE\"] < 5000, \"VEHICLE_VALUE\"] = median_vehicle_value"
      ],
      "metadata": {
        "collapsed": true,
        "id": "Y4apk-FD8vDW",
        "colab": {
          "base_uri": "https://localhost:8080/"
        },
        "outputId": "986b715b-10fe-4d9a-a1e7-53caa7040613"
      },
      "execution_count": 216,
      "outputs": [
        {
          "output_type": "stream",
          "name": "stderr",
          "text": [
            "<ipython-input-216-b5b758ab94af>:3: FutureWarning: A value is trying to be set on a copy of a DataFrame or Series through chained assignment using an inplace method.\n",
            "The behavior will change in pandas 3.0. This inplace method will never work because the intermediate object on which we are setting values always behaves as a copy.\n",
            "\n",
            "For example, when doing 'df[col].method(value, inplace=True)', try using 'df.method({col: value}, inplace=True)' or df[col] = df[col].method(value) instead, to perform the operation inplace on the original object.\n",
            "\n",
            "\n",
            "  combined_data[\"VEHICLE_VALUE\"].fillna(median_vehicle_value, inplace=True)\n"
          ]
        }
      ]
    },
    {
      "cell_type": "code",
      "source": [
        "# VEHICLEUSE\n",
        "combined_data = pd.get_dummies(combined_data, columns=['VEHICLEUSE'], prefix='VEHICLEUSE')\n",
        "combined_data.drop(columns=['VEHICLEUSE_Courtesy Car', 'VEHICLEUSE_Driver Training', 'VEHICLEUSE_Fire Department -  Non-Emergency', 'VEHICLEUSE_Fire Department - Emergency', 'VEHICLEUSE_Fisherman', 'VEHICLEUSE_Police Emergency/Patrol', 'VEHICLEUSE_Rally'], inplace=True)"
      ],
      "metadata": {
        "id": "iHgDay1PCeAR"
      },
      "execution_count": 217,
      "outputs": []
    },
    {
      "cell_type": "code",
      "source": [
        "# GENDER\n",
        "combined_data['GENDER'].fillna(combined_data['GENDER'].mode()[0], inplace=True)\n",
        "combined_data['GENDER'] = combined_data['GENDER'].map({'Male': 1, 'Female': 0, 'Unknown': 0})"
      ],
      "metadata": {
        "collapsed": true,
        "id": "n7hbh7zxNfrt",
        "colab": {
          "base_uri": "https://localhost:8080/"
        },
        "outputId": "7571e1bc-5c5c-4be0-866a-aa5c64286a07"
      },
      "execution_count": 218,
      "outputs": [
        {
          "output_type": "stream",
          "name": "stderr",
          "text": [
            "<ipython-input-218-f838d710921d>:2: FutureWarning: A value is trying to be set on a copy of a DataFrame or Series through chained assignment using an inplace method.\n",
            "The behavior will change in pandas 3.0. This inplace method will never work because the intermediate object on which we are setting values always behaves as a copy.\n",
            "\n",
            "For example, when doing 'df[col].method(value, inplace=True)', try using 'df.method({col: value}, inplace=True)' or df[col] = df[col].method(value) instead, to perform the operation inplace on the original object.\n",
            "\n",
            "\n",
            "  combined_data['GENDER'].fillna(combined_data['GENDER'].mode()[0], inplace=True)\n"
          ]
        }
      ]
    },
    {
      "cell_type": "code",
      "source": [
        "# YEAR_OF_BIRTH\n",
        "combined_data['YEAR_OF_BIRTH'] = combined_data['YEAR_OF_BIRTH'].astype(int)\n",
        "median_year_of_birth = combined_data.loc[combined_data['YEAR_OF_BIRTH'] != 9999, 'YEAR_OF_BIRTH'].median()\n",
        "combined_data['YEAR_OF_BIRTH'] = combined_data['YEAR_OF_BIRTH'].replace(9999, median_year_of_birth)\n",
        "\n",
        "\n",
        "def driver_age_group(year):\n",
        "    if year < 1960:\n",
        "        return '<1960'\n",
        "    elif year < 1980:\n",
        "        return '1960-1980'\n",
        "    elif year < 1990:\n",
        "        return '1980-1990'\n",
        "    else:\n",
        "        return '>1990'\n",
        "\n",
        "combined_data['Driver_Age_Group'] = combined_data['YEAR_OF_BIRTH'].apply(driver_age_group)\n",
        "combined_data = pd.get_dummies(combined_data, columns=['Driver_Age_Group'], prefix='Age_group')"
      ],
      "metadata": {
        "id": "cBOySHTqDhEY"
      },
      "execution_count": 219,
      "outputs": []
    },
    {
      "cell_type": "code",
      "source": [
        "# POSTAL_CODE\n",
        "combined_data['AREA'] = combined_data['POSTAL_CODE'].str[0]\n",
        "combined_data['Urban_Rural'] = combined_data['POSTAL_CODE'].str[1]\n",
        "\n",
        "combined_data['IS_URBAN'] = (combined_data['Urban_Rural'] == '1').astype(int)\n",
        "combined_data = pd.get_dummies(combined_data, columns=['AREA'], prefix='AREA')\n",
        "combined_data = pd.get_dummies(combined_data, columns=['IS_URBAN'], prefix='IS_URBAN')\n",
        "\n",
        "combined_data = combined_data.drop(columns=['POSTAL_CODE','Urban_Rural', 'IS_URBAN_0', 'AREA_1', 'AREA_2', 'AREA_3', 'AREA_4', 'AREA_5', 'AREA_6', 'AREA_7', 'AREA_8', 'AREA_9'])"
      ],
      "metadata": {
        "id": "qfbJs1rezehR"
      },
      "execution_count": 220,
      "outputs": []
    },
    {
      "cell_type": "code",
      "source": [
        "# YEARS_LICENSED\n",
        "mean_years_licensed = combined_data[\"YEARS_LICENSED\"].mean()\n",
        "combined_data[\"YEARS_LICENSED\"].fillna(mean_years_licensed, inplace=True)"
      ],
      "metadata": {
        "collapsed": true,
        "id": "AURGCiL2D9mA",
        "colab": {
          "base_uri": "https://localhost:8080/"
        },
        "outputId": "2cd1223a-9f7b-45d3-c191-487f81b9d04c"
      },
      "execution_count": 221,
      "outputs": [
        {
          "output_type": "stream",
          "name": "stderr",
          "text": [
            "<ipython-input-221-bb567306eb84>:3: FutureWarning: A value is trying to be set on a copy of a DataFrame or Series through chained assignment using an inplace method.\n",
            "The behavior will change in pandas 3.0. This inplace method will never work because the intermediate object on which we are setting values always behaves as a copy.\n",
            "\n",
            "For example, when doing 'df[col].method(value, inplace=True)', try using 'df.method({col: value}, inplace=True)' or df[col] = df[col].method(value) instead, to perform the operation inplace on the original object.\n",
            "\n",
            "\n",
            "  combined_data[\"YEARS_LICENSED\"].fillna(mean_years_licensed, inplace=True)\n"
          ]
        }
      ]
    },
    {
      "cell_type": "code",
      "source": [
        "# YEARS_AS_PRINCIPAL_DRIVER\n",
        "combined_data['YEARS_AS_PRINCIPAL_DRIVER'] = pd.to_numeric(combined_data['YEARS_AS_PRINCIPAL_DRIVER'], errors='coerce')\n",
        "\n",
        "# Calculate the mean, ignoring NaN values\n",
        "mean_yapd = combined_data['YEARS_AS_PRINCIPAL_DRIVER'].mean()\n",
        "\n",
        "# Replace NaN values with the mean\n",
        "combined_data['YEARS_AS_PRINCIPAL_DRIVER'] = combined_data['YEARS_AS_PRINCIPAL_DRIVER'].fillna(mean_yapd)"
      ],
      "metadata": {
        "id": "cAaQiGLKTVi4"
      },
      "execution_count": 222,
      "outputs": []
    },
    {
      "cell_type": "code",
      "source": [
        "# MARITAL_STATUS\n",
        "combined_data['MARITAL_STATUS'].fillna('Unknown', inplace=True)\n",
        "combined_data = pd.get_dummies(combined_data, columns=['MARITAL_STATUS'], prefix='MARITAL_STATUS')\n",
        "\n",
        "# MULTI_PRODUCT\n",
        "combined_data['MULTI_PRODUCT'] = combined_data['MULTI_PRODUCT'].map({'Yes': 1, 'No': 0})"
      ],
      "metadata": {
        "id": "iGyCto1QFByc",
        "colab": {
          "base_uri": "https://localhost:8080/"
        },
        "outputId": "754c1c61-0ed7-4f6a-8495-55c67cddf694"
      },
      "execution_count": 223,
      "outputs": [
        {
          "output_type": "stream",
          "name": "stderr",
          "text": [
            "<ipython-input-223-511f19c44db6>:2: FutureWarning: A value is trying to be set on a copy of a DataFrame or Series through chained assignment using an inplace method.\n",
            "The behavior will change in pandas 3.0. This inplace method will never work because the intermediate object on which we are setting values always behaves as a copy.\n",
            "\n",
            "For example, when doing 'df[col].method(value, inplace=True)', try using 'df.method({col: value}, inplace=True)' or df[col] = df[col].method(value) instead, to perform the operation inplace on the original object.\n",
            "\n",
            "\n",
            "  combined_data['MARITAL_STATUS'].fillna('Unknown', inplace=True)\n"
          ]
        }
      ]
    },
    {
      "cell_type": "code",
      "source": [
        "# OCCUPATION\n",
        "combined_data['OCCUPATION'].fillna(\"Not Known\", inplace=True)\n",
        "combined_data['OCCUPATION'].replace('Not Known', 'UNKNOWN', inplace=True)\n",
        "combined_data = pd.get_dummies(combined_data, columns=['OCCUPATION'], prefix='OCCUPATION')\n",
        "combined_data.drop(columns=['OCCUPATION_UNKNOWN'], inplace=True)"
      ],
      "metadata": {
        "collapsed": true,
        "id": "dLqvQl6tF-X2",
        "colab": {
          "base_uri": "https://localhost:8080/"
        },
        "outputId": "8be6a4b9-823c-4296-e9a1-e36be6e50074"
      },
      "execution_count": 224,
      "outputs": [
        {
          "output_type": "stream",
          "name": "stderr",
          "text": [
            "<ipython-input-224-d94aae4dcf2e>:2: FutureWarning: A value is trying to be set on a copy of a DataFrame or Series through chained assignment using an inplace method.\n",
            "The behavior will change in pandas 3.0. This inplace method will never work because the intermediate object on which we are setting values always behaves as a copy.\n",
            "\n",
            "For example, when doing 'df[col].method(value, inplace=True)', try using 'df.method({col: value}, inplace=True)' or df[col] = df[col].method(value) instead, to perform the operation inplace on the original object.\n",
            "\n",
            "\n",
            "  combined_data['OCCUPATION'].fillna(\"Not Known\", inplace=True)\n"
          ]
        }
      ]
    },
    {
      "cell_type": "code",
      "source": [
        "# CONVICTION_COUNT_MINOR_3YRS\n",
        "def bin_minor_convictions(x):\n",
        "    if x == 0:\n",
        "        return '0'\n",
        "    elif x == 1:\n",
        "        return '1'\n",
        "    else:\n",
        "        return '>=2'\n",
        "\n",
        "combined_data['CONVICTION_COUNT_MINOR_3YRS_BINNED'] = combined_data['CONVICTION_COUNT_MINOR_3YRS'].apply(bin_minor_convictions)\n",
        "combined_data = pd.get_dummies(combined_data, columns=['CONVICTION_COUNT_MINOR_3YRS_BINNED'], prefix='CONVICTION_COUNT_MINOR_3YRS')\n",
        "combined_data.drop(columns=['CONVICTION_COUNT_MINOR_3YRS'], inplace=True)"
      ],
      "metadata": {
        "id": "jchipsS7y50v"
      },
      "execution_count": 225,
      "outputs": []
    },
    {
      "cell_type": "code",
      "source": [
        "# CONVICTION_COUNT_MAJOR_3YRS\n",
        "def bin(x):\n",
        "    if x == 0:\n",
        "        return '0'\n",
        "    else:\n",
        "        return '1'\n",
        "\n",
        "combined_data['CONVICTION_COUNT_MAJOR_3YRS'] = combined_data['CONVICTION_COUNT_MAJOR_3YRS'].apply(bin)\n",
        "# CONVICTION_COUNT_CRIMINAL_3YRS\n",
        "combined_data['CONVICTION_COUNT_CRIMINAL_3YRS'] = combined_data['CONVICTION_COUNT_CRIMINAL_3YRS'].apply(bin)\n",
        "# ASSIGNED_LOSSES_PD_5YRS\n",
        "combined_data['ASSIGNED_LOSSES_PD_5YRS'] = combined_data['ASSIGNED_LOSSES_PD_5YRS'].apply(bin)\n",
        "# SUSPENSION_COUNT\n",
        "combined_data['SUSPENSION_COUNT'] = combined_data['SUSPENSION_COUNT'].apply(bin)"
      ],
      "metadata": {
        "id": "RXMvXnGJzJWL"
      },
      "execution_count": 226,
      "outputs": []
    },
    {
      "cell_type": "code",
      "source": [
        "# Feature Engineering\n",
        "combined_data['EXPERIENCE_RATIO'] = combined_data['YEARS_AS_PRINCIPAL_DRIVER'] / combined_data['YEARS_LICENSED'].replace(0, np.nan) # Replace 0 with NaN to avoid inf\n",
        "combined_data.drop(['VEHICLEYEAR', 'YEARS_AS_PRINCIPAL_DRIVER', 'YEARS_LICENSED'], axis=1, inplace=True)\n",
        "\n",
        "# Impute NaN values in 'EXPERIENCE_RATIO' with the mean or median\n",
        "combined_data['EXPERIENCE_RATIO'] = combined_data['EXPERIENCE_RATIO'].fillna(combined_data['EXPERIENCE_RATIO'].mean()) # Or use .median()"
      ],
      "metadata": {
        "id": "NwFwXGGO2Kc1"
      },
      "execution_count": 227,
      "outputs": []
    },
    {
      "cell_type": "code",
      "source": [
        "# Replace Bools with 0s and 1s\n",
        "for col in combined_data.columns:\n",
        "    if isinstance(combined_data[col], pd.Series) and combined_data[col].dtype == 'bool':\n",
        "        combined_data[col] = combined_data[col].astype(int)"
      ],
      "metadata": {
        "id": "XZ58XOhoIb_K"
      },
      "execution_count": 228,
      "outputs": []
    },
    {
      "cell_type": "code",
      "source": [
        "# Split train data and test data\n",
        "train_data = combined_data[combined_data['is_train'] == 1].drop(columns=['is_train'])\n",
        "test_data = combined_data[combined_data['is_train'] == 0].drop(columns=['is_train', 'IS_BOUND'])"
      ],
      "metadata": {
        "id": "-b4lIs1CN4dH"
      },
      "execution_count": 229,
      "outputs": []
    },
    {
      "cell_type": "code",
      "source": [
        "unique_counts = combined_data['OCCUPATION_Insurance'].value_counts().sort_index()\n",
        "\n",
        "# Print the counts, sorted by value\n",
        "for i in unique_counts.index:\n",
        "    print(f\"Value: {i}, Count: {unique_counts[i]}\")"
      ],
      "metadata": {
        "colab": {
          "base_uri": "https://localhost:8080/"
        },
        "id": "aIfZbNOisS2n",
        "outputId": "30aa03b4-af37-4dbb-f74c-712dae808dff"
      },
      "execution_count": 230,
      "outputs": [
        {
          "output_type": "stream",
          "name": "stdout",
          "text": [
            "Value: 0, Count: 116912\n",
            "Value: 1, Count: 92\n"
          ]
        }
      ]
    },
    {
      "cell_type": "code",
      "source": [
        "for i in combined_data.columns:\n",
        "    print(i)"
      ],
      "metadata": {
        "id": "DA46USlo6H_L",
        "outputId": "af5a6c0b-6c16-4c01-c292-8e41af466fa1",
        "colab": {
          "base_uri": "https://localhost:8080/"
        }
      },
      "execution_count": 231,
      "outputs": [
        {
          "output_type": "stream",
          "name": "stdout",
          "text": [
            "VEHICLEMODEL\n",
            "ANNUAL_KM\n",
            "COMMUTE_DISTANCE\n",
            "VEHICLE_VALUE\n",
            "GENDER\n",
            "YEAR_OF_BIRTH\n",
            "AREA_CODE\n",
            "MULTI_PRODUCT\n",
            "CONVICTION_COUNT_MAJOR_3YRS\n",
            "CONVICTION_COUNT_CRIMINAL_3YRS\n",
            "ASSIGNED_LOSSES_PD_5YRS\n",
            "SUSPENSION_COUNT\n",
            "IS_BOUND\n",
            "is_train\n",
            "VEHICLE_AGE\n",
            "Age_Modern\n",
            "Age_Old\n",
            "Age_Vintage\n",
            "Vehicle_Make_ACURA\n",
            "Vehicle_Make_AUDI\n",
            "Vehicle_Make_BMW\n",
            "Vehicle_Make_BUICK\n",
            "Vehicle_Make_CADILLAC\n",
            "Vehicle_Make_CHEVROLET\n",
            "Vehicle_Make_CHRYSLER\n",
            "Vehicle_Make_DODGE\n",
            "Vehicle_Make_FIAT\n",
            "Vehicle_Make_FORD\n",
            "Vehicle_Make_GMC\n",
            "Vehicle_Make_HONDA\n",
            "Vehicle_Make_HYUNDAI\n",
            "Vehicle_Make_INFINITI\n",
            "Vehicle_Make_JAGUAR\n",
            "Vehicle_Make_JEEP\n",
            "Vehicle_Make_KIA\n",
            "Vehicle_Make_LAND ROVER\n",
            "Vehicle_Make_LEXUS\n",
            "Vehicle_Make_LINCOLN\n",
            "Vehicle_Make_MAZDA\n",
            "Vehicle_Make_MERCEDES-BENZ\n",
            "Vehicle_Make_MERCURY\n",
            "Vehicle_Make_MINI\n",
            "Vehicle_Make_MITSUBISHI\n",
            "Vehicle_Make_NISSAN\n",
            "Vehicle_Make_OLDSMOBILE\n",
            "Vehicle_Make_Other\n",
            "Vehicle_Make_PONTIAC\n",
            "Vehicle_Make_PORSCHE\n",
            "Vehicle_Make_SATURN\n",
            "Vehicle_Make_SCION\n",
            "Vehicle_Make_SUBARU\n",
            "Vehicle_Make_SUZUKI\n",
            "Vehicle_Make_TOYOTA\n",
            "Vehicle_Make_VOLKSWAGEN\n",
            "Vehicle_Make_VOLVO\n",
            "Marking_Leased\n",
            "Marking_Non-owned\n",
            "Marking_Owned\n",
            "VEHICLEUSE_Business\n",
            "VEHICLEUSE_Commute\n",
            "VEHICLEUSE_Farm Pleasure\n",
            "VEHICLEUSE_Pleasure\n",
            "Age_group_1960-1980\n",
            "Age_group_1980-1990\n",
            "Age_group_<1960\n",
            "Age_group_>1990\n",
            "AREA_A\n",
            "AREA_B\n",
            "AREA_C\n",
            "AREA_E\n",
            "AREA_G\n",
            "AREA_H\n",
            "AREA_J\n",
            "AREA_K\n",
            "AREA_L\n",
            "AREA_M\n",
            "AREA_N\n",
            "AREA_P\n",
            "AREA_R\n",
            "AREA_S\n",
            "AREA_T\n",
            "AREA_U\n",
            "AREA_V\n",
            "AREA_X\n",
            "AREA_Y\n",
            "IS_URBAN_1\n",
            "MARITAL_STATUS_Divorced\n",
            "MARITAL_STATUS_Married\n",
            "MARITAL_STATUS_Separated\n",
            "MARITAL_STATUS_Single\n",
            "MARITAL_STATUS_Unknown\n",
            "MARITAL_STATUS_Widow/Widower\n",
            "OCCUPATION_Farm/Fisher\n",
            "OCCUPATION_Government \n",
            "OCCUPATION_Homemaker\n",
            "OCCUPATION_Insurance\n",
            "OCCUPATION_Labour/Plant\n",
            "OCCUPATION_Management/Administration\n",
            "OCCUPATION_Military\n",
            "OCCUPATION_Office/Stores\n",
            "OCCUPATION_Professional/Health\n",
            "OCCUPATION_Professional/Other\n",
            "OCCUPATION_Professional/Social\n",
            "OCCUPATION_Retired\n",
            "OCCUPATION_Sales\n",
            "OCCUPATION_Service Work\n",
            "OCCUPATION_Student\n",
            "OCCUPATION_Trades\n",
            "OCCUPATION_Tradesman\n",
            "OCCUPATION_Unemployed\n",
            "CONVICTION_COUNT_MINOR_3YRS_0\n",
            "CONVICTION_COUNT_MINOR_3YRS_1\n",
            "CONVICTION_COUNT_MINOR_3YRS_>=2\n",
            "EXPERIENCE_RATIO\n"
          ]
        }
      ]
    },
    {
      "cell_type": "markdown",
      "source": [
        "## Standardization"
      ],
      "metadata": {
        "id": "ubq582POHB3H"
      }
    },
    {
      "cell_type": "code",
      "source": [
        "scaler = StandardScaler()\n",
        "\n",
        "train_data_standardized = scaler.fit_transform(train_data.drop(columns=['IS_BOUND', 'VEHICLEMODEL', 'AREA_CODE']))\n",
        "train_data_standardized = pd.DataFrame(train_data_standardized)\n",
        "train_data_standardized['IS_BOUND'] = train_data['IS_BOUND'].values  # Reattach \"IS_BOUND\" column\n",
        "\n",
        "test_data_standardized = scaler.transform(test_data.drop(columns=['VEHICLEMODEL', 'AREA_CODE']))\n",
        "test_data_standardized = pd.DataFrame(test_data_standardized)\n",
        "\n",
        "X = train_data_standardized.drop(columns=['IS_BOUND'])\n",
        "y = train_data_standardized['IS_BOUND']"
      ],
      "metadata": {
        "id": "e4RlYDFEHD0U"
      },
      "execution_count": 232,
      "outputs": []
    },
    {
      "cell_type": "markdown",
      "source": [
        "# Modelling Method 1 - Logistic Regression"
      ],
      "metadata": {
        "id": "B29TrGWC2aQT"
      }
    },
    {
      "cell_type": "markdown",
      "source": [
        "## Logistic Regression"
      ],
      "metadata": {
        "id": "ETxYIwdOUZq5"
      }
    },
    {
      "cell_type": "code",
      "source": [
        "X = train_data_standardized.drop(columns=['IS_BOUND'])\n",
        "y = train_data_standardized['IS_BOUND']\n",
        "\n",
        "X_train, X_test, y_train, y_test = train_test_split(X, y, test_size=0.2, random_state=64)\n",
        "\n",
        "model = LogisticRegression(class_weight=\"balanced\", random_state=89, max_iter=1000)\n",
        "model.fit(X_train, y_train)\n",
        "\n",
        "y_pred = model.predict(X_test) # Prediction\n",
        "\n",
        "# Evaluate the model\n",
        "print(\"Accuracy:\", accuracy_score(y_test, y_pred))\n",
        "print(\"Confusion Matrix:\\n\", confusion_matrix(y_test, y_pred))\n",
        "print(\"Classification Report:\\n\", classification_report(y_test, y_pred))\n",
        "\n",
        "y_proba = model.predict_proba(X_test)[:, 1] # Predicted Probabilities\n",
        "\n",
        "# Calculate ROC curve values: FPR, TPR, and threshold values\n",
        "fpr, tpr, thresholds = roc_curve(y_test, y_proba)\n",
        "# Calculate AUC (Area Under the Curve)\n",
        "auc_score = roc_auc_score(y_test, y_proba)\n",
        "print(\"AUC-ROC Score:\", auc_score)\n",
        "# Calculate F1 Score\n",
        "f1 = f1_score(y_test, y_pred)\n",
        "print(\"F1 Score:\", f1)\n",
        "TN, FP = confusion_matrix(y_test, y_pred)[0]\n",
        "FN, TP = confusion_matrix(y_test, y_pred)[1]\n",
        "profit = TP * 5.5 + (FP + TP) * -1\n",
        "print(f\"Profit: {profit}\")\n",
        "\n",
        "# Plot the ROC curve\n",
        "plt.figure(figsize=(8, 6))\n",
        "plt.plot(fpr, tpr, label=f\"Logistic Regression (AUC = {auc_score:.4f})\")\n",
        "plt.plot([0, 1], [0, 1], 'k--', label=\"Random Guess\")  # Diagonal line for random guess\n",
        "plt.xlabel(\"False Positive Rate\")\n",
        "plt.ylabel(\"True Positive Rate\")\n",
        "plt.title(\"ROC Curve\")\n",
        "plt.legend()\n",
        "plt.show()"
      ],
      "metadata": {
        "colab": {
          "base_uri": "https://localhost:8080/",
          "height": 884
        },
        "id": "S5LJdEZ_2eAZ",
        "outputId": "1b886a40-735f-477e-b90b-b8cc39355005"
      },
      "execution_count": 233,
      "outputs": [
        {
          "output_type": "stream",
          "name": "stdout",
          "text": [
            "Accuracy: 0.6022180783197566\n",
            "Confusion Matrix:\n",
            " [[9498 6498]\n",
            " [1608 2774]]\n",
            "Classification Report:\n",
            "               precision    recall  f1-score   support\n",
            "\n",
            "         0.0       0.86      0.59      0.70     15996\n",
            "         1.0       0.30      0.63      0.41      4382\n",
            "\n",
            "    accuracy                           0.60     20378\n",
            "   macro avg       0.58      0.61      0.55     20378\n",
            "weighted avg       0.74      0.60      0.64     20378\n",
            "\n",
            "AUC-ROC Score: 0.6553361868536509\n",
            "F1 Score: 0.40632781602460816\n",
            "Profit: 5985.0\n"
          ]
        },
        {
          "output_type": "display_data",
          "data": {
            "text/plain": [
              "<Figure size 800x600 with 1 Axes>"
            ],
            "image/png": "[encoded data removed]"
          },
          "metadata": {}
        }
      ]
    },
    {
      "cell_type": "markdown",
      "source": [
        "## Model Tuning"
      ],
      "metadata": {
        "id": "o8WweUh2Uew5"
      }
    },
    {
      "cell_type": "code",
      "source": [
        "def log_reg(X, y):\n",
        "    X_train, X_test, y_train, y_test = train_test_split(X, y, test_size=0.2, random_state=64)\n",
        "    model = LogisticRegression(class_weight=\"balanced\", random_state=89, max_iter=1000)\n",
        "    model.fit(X_train, y_train)\n",
        "    y_pred = model.predict(X_test)\n",
        "    y_proba = model.predict_proba(X_test)[:, 1]\n",
        "\n",
        "\n",
        "    matrix = confusion_matrix(y_test, y_pred)\n",
        "    accuracyScore = accuracy_score(y_test, y_pred)\n",
        "    auc_score = roc_auc_score(y_test, y_proba)\n",
        "    f1 = f1_score(y_test, y_pred)\n",
        "    TN, FP = matrix[0]\n",
        "    FN, TP = matrix[1]\n",
        "    profit = (TP * 5.5 + (FP + TP) * -1) / len(y_test)\n",
        "\n",
        "    # Evaluate the model\n",
        "    print(\"Accuracy:\", accuracy_score(y_test, y_pred))\n",
        "    print(\"Confusion Matrix:\\n\", confusion_matrix(y_test, y_pred))\n",
        "    print(\"Classification Report:\\n\", classification_report(y_test, y_pred))\n",
        "    print(f\"Average Profit: {profit}\")\n",
        "\n",
        "\n",
        "    y_proba = model.predict_proba(X_test)[:, 1] # Predicted Probabilities\n",
        "\n",
        "    # Calculate ROC curve values: FPR, TPR, and threshold values\n",
        "    fpr, tpr, thresholds = roc_curve(y_test, y_proba)\n",
        "    # Calculate AUC (Area Under the Curve)\n",
        "    auc_score = roc_auc_score(y_test, y_proba)\n",
        "    print(\"AUC-ROC Score:\", auc_score)\n",
        "    # Calculate F1 Score\n",
        "    f1 = f1_score(y_test, y_pred)\n",
        "    print(\"F1 Score:\", f1)\n",
        "\n",
        "    # Plot the ROC curve\n",
        "    plt.figure(figsize=(8, 6))\n",
        "    plt.plot(fpr, tpr, label=f\"Logistic Regression (AUC = {auc_score:.4f})\")\n",
        "    plt.plot([0, 1], [0, 1], 'k--', label=\"Random Guess\")  # Diagonal line for random guess\n",
        "    plt.xlabel(\"False Positive Rate\")\n",
        "    plt.ylabel(\"True Positive Rate\")\n",
        "    plt.title(\"ROC Curve\")\n",
        "    plt.legend()\n",
        "    plt.show()\n",
        "\n",
        "    return accuracyScore, auc_score, f1, profit"
      ],
      "metadata": {
        "id": "x0nu4CwPCJKy"
      },
      "execution_count": 234,
      "outputs": []
    },
    {
      "cell_type": "markdown",
      "source": [
        "### Class Resampling"
      ],
      "metadata": {
        "id": "zvVncc8b_KYe"
      }
    },
    {
      "cell_type": "code",
      "source": [
        "# Apply SMOTE and Edited Nearest Neighbors (SMOTEENN)\n",
        "X = train_data_standardized.drop(columns=['IS_BOUND'])\n",
        "y = train_data_standardized['IS_BOUND']\n",
        "smoteenn = SMOTEENN()\n",
        "X_resampled, y_resampled = smoteenn.fit_resample(X, y)\n",
        "\n",
        "log_reg(X_resampled, y_resampled)"
      ],
      "metadata": {
        "colab": {
          "base_uri": "https://localhost:8080/",
          "height": 955
        },
        "id": "UVrz2HYdAC39",
        "outputId": "8f9a7496-76ef-4720-d175-3144023fa206"
      },
      "execution_count": 236,
      "outputs": [
        {
          "output_type": "stream",
          "name": "stdout",
          "text": [
            "Accuracy: 0.6977404213513808\n",
            "Confusion Matrix:\n",
            " [[4633 2176]\n",
            " [3362 8151]]\n",
            "Classification Report:\n",
            "               precision    recall  f1-score   support\n",
            "\n",
            "         0.0       0.58      0.68      0.63      6809\n",
            "         1.0       0.79      0.71      0.75     11513\n",
            "\n",
            "    accuracy                           0.70     18322\n",
            "   macro avg       0.68      0.69      0.69     18322\n",
            "weighted avg       0.71      0.70      0.70     18322\n",
            "\n",
            "Average Profit: 1.8831732343630607\n",
            "AUC-ROC Score: 0.7624868231161854\n",
            "F1 Score: 0.7464285714285714\n"
          ]
        },
        {
          "output_type": "display_data",
          "data": {
            "text/plain": [
              "<Figure size 800x600 with 1 Axes>"
            ],
            "image/png": "[encoded data removed]"
          },
          "metadata": {}
        },
        {
          "output_type": "execute_result",
          "data": {
            "text/plain": [
              "(0.6977404213513808,\n",
              " 0.7624868231161854,\n",
              " 0.7464285714285714,\n",
              " 1.8831732343630607)"
            ]
          },
          "metadata": {},
          "execution_count": 236
        }
      ]
    },
    {
      "cell_type": "markdown",
      "source": [
        "### PCA"
      ],
      "metadata": {
        "id": "AHxSwuo8kHdi"
      }
    },
    {
      "cell_type": "code",
      "source": [
        "# Set info limit to 95%\n",
        "pca = PCA(n_components=0.95)\n",
        "X_pca = pca.fit_transform(X_resampled)\n",
        "\n",
        "print(\"Number of components:\", pca.n_components_)"
      ],
      "metadata": {
        "colab": {
          "base_uri": "https://localhost:8080/"
        },
        "id": "kN4xny5m3upS",
        "outputId": "bf21337c-6fb0-4d00-d3b3-7f5acf5ae807"
      },
      "execution_count": 237,
      "outputs": [
        {
          "output_type": "stream",
          "name": "stdout",
          "text": [
            "Number of components: 91\n"
          ]
        }
      ]
    },
    {
      "cell_type": "code",
      "source": [
        "X = X_pca\n",
        "y = y_resampled\n",
        "\n",
        "log_reg(X, y)"
      ],
      "metadata": {
        "colab": {
          "base_uri": "https://localhost:8080/",
          "height": 902
        },
        "id": "pvGN2WmPmFuf",
        "outputId": "c73f9f5d-ea4c-4995-ff7f-c81b79f84c73"
      },
      "execution_count": 238,
      "outputs": [
        {
          "output_type": "stream",
          "name": "stdout",
          "text": [
            "Accuracy: 0.6820216133609868\n",
            "Confusion Matrix:\n",
            " [[4627 2182]\n",
            " [3644 7869]]\n",
            "Classification Report:\n",
            "               precision    recall  f1-score   support\n",
            "\n",
            "         0.0       0.56      0.68      0.61      6809\n",
            "         1.0       0.78      0.68      0.73     11513\n",
            "\n",
            "    accuracy                           0.68     18322\n",
            "   macro avg       0.67      0.68      0.67     18322\n",
            "weighted avg       0.70      0.68      0.69     18322\n",
            "\n",
            "Average Profit: 1.8135847614889204\n",
            "AUC-ROC Score: 0.748035287827841\n",
            "F1 Score: 0.729827490261547\n"
          ]
        },
        {
          "output_type": "display_data",
          "data": {
            "text/plain": [
              "<Figure size 800x600 with 1 Axes>"
            ],
            "image/png": "[encoded data removed]"
          },
          "metadata": {}
        },
        {
          "output_type": "execute_result",
          "data": {
            "text/plain": [
              "(0.6820216133609868, 0.748035287827841, 0.729827490261547, 1.8135847614889204)"
            ]
          },
          "metadata": {},
          "execution_count": 238
        }
      ]
    },
    {
      "cell_type": "markdown",
      "source": [
        "### Forward Selection"
      ],
      "metadata": {
        "id": "1FndphotHEpq"
      }
    },
    {
      "cell_type": "code",
      "source": [
        "X = pd.DataFrame(X_pca)\n",
        "y = y_resampled\n",
        "X_train, X_test, y_train, y_test = train_test_split(X, y, test_size=0.2, random_state=64)\n",
        "\n",
        "model = LogisticRegression(solver='liblinear')\n",
        "\n",
        "selected_features = []\n",
        "best_precision = 0\n",
        "remaining_features = list(range(X_train.shape[1]))\n",
        "\n",
        "# Iterate over the remaining features\n",
        "while remaining_features:\n",
        "    precision_scores = []\n",
        "\n",
        "    # Try adding each remaining feature and evaluate model precision on 1s\n",
        "    for feature in remaining_features:\n",
        "        features_to_test = selected_features + [feature]\n",
        "        # Use .iloc for integer-based indexing\n",
        "        X_train_subset = X_train.iloc[:, features_to_test]\n",
        "\n",
        "        # Fit the model and calculate precision on 1s (positive class)\n",
        "        model.fit(X_train_subset, y_train)\n",
        "        # Use .iloc for integer-based indexing\n",
        "        y_pred = model.predict(X_test.iloc[:, features_to_test])\n",
        "        precision = precision_score(y_test, y_pred, pos_label=1)\n",
        "\n",
        "        precision_scores.append((precision, feature))\n",
        "\n",
        "    # Select the feature that improves precision the most\n",
        "    precision_scores.sort(reverse=True, key=lambda x: x[0])  # Sort by precision\n",
        "\n",
        "    best_precision_score, best_feature = precision_scores[0]\n",
        "\n",
        "    if best_precision_score > best_precision:\n",
        "        selected_features.append(best_feature)  # Add the best feature to the selected set\n",
        "        best_precision = best_precision_score  # Update the best precision\n",
        "        remaining_features.remove(best_feature)  # Remove the selected feature from remaining features\n",
        "        print(f\"Selected Features: {selected_features}\")\n",
        "        print(f\"Best Precision: {best_precision}\")\n",
        "    else:\n",
        "        break\n",
        "\n",
        "X_train_selected = X_train.iloc[:, selected_features]\n",
        "X_test_selected = X_test.iloc[:, selected_features]\n",
        "\n",
        "model.fit(X_train_selected, y_train)\n",
        "y_pred_final = model.predict(X_test_selected)\n",
        "\n",
        "# Calculate final precision on 1s (positive class)\n",
        "final_precision = precision_score(y_test, y_pred_final, pos_label=1)\n",
        "print(f'Final precision on 1s: {final_precision}')\n",
        "print(f'Selected Features: {selected_features}')"
      ],
      "metadata": {
        "colab": {
          "base_uri": "https://localhost:8080/"
        },
        "id": "RkZoMVWiapff",
        "outputId": "0e53732a-c263-4a61-c649-9fa4eeace4d4"
      },
      "execution_count": 239,
      "outputs": [
        {
          "output_type": "stream",
          "name": "stdout",
          "text": [
            "Selected Features: [7]\n",
            "Best Precision: 0.6357517681953\n",
            "Selected Features: [7, 6]\n",
            "Best Precision: 0.6642205229403059\n",
            "Selected Features: [7, 6, 89]\n",
            "Best Precision: 0.6721332155922796\n",
            "Selected Features: [7, 6, 89, 13]\n",
            "Best Precision: 0.6802314242995514\n",
            "Selected Features: [7, 6, 89, 13, 3]\n",
            "Best Precision: 0.6857653838510962\n",
            "Selected Features: [7, 6, 89, 13, 3, 12]\n",
            "Best Precision: 0.6920377867746289\n",
            "Selected Features: [7, 6, 89, 13, 3, 12, 14]\n",
            "Best Precision: 0.6979732050841635\n",
            "Selected Features: [7, 6, 89, 13, 3, 12, 14, 76]\n",
            "Best Precision: 0.7010451996954385\n",
            "Selected Features: [7, 6, 89, 13, 3, 12, 14, 76, 16]\n",
            "Best Precision: 0.7045217027799067\n",
            "Selected Features: [7, 6, 89, 13, 3, 12, 14, 76, 16, 15]\n",
            "Best Precision: 0.7087577815506508\n",
            "Selected Features: [7, 6, 89, 13, 3, 12, 14, 76, 16, 15, 23]\n",
            "Best Precision: 0.7121385628399657\n",
            "Selected Features: [7, 6, 89, 13, 3, 12, 14, 76, 16, 15, 23, 87]\n",
            "Best Precision: 0.7142138906844789\n",
            "Selected Features: [7, 6, 89, 13, 3, 12, 14, 76, 16, 15, 23, 87, 25]\n",
            "Best Precision: 0.715837169159954\n",
            "Selected Features: [7, 6, 89, 13, 3, 12, 14, 76, 16, 15, 23, 87, 25, 51]\n",
            "Best Precision: 0.7166714864083286\n",
            "Selected Features: [7, 6, 89, 13, 3, 12, 14, 76, 16, 15, 23, 87, 25, 51, 66]\n",
            "Best Precision: 0.7179338783187441\n",
            "Selected Features: [7, 6, 89, 13, 3, 12, 14, 76, 16, 15, 23, 87, 25, 51, 66, 68]\n",
            "Best Precision: 0.718618792529318\n",
            "Selected Features: [7, 6, 89, 13, 3, 12, 14, 76, 16, 15, 23, 87, 25, 51, 66, 68, 75]\n",
            "Best Precision: 0.719416630387462\n",
            "Selected Features: [7, 6, 89, 13, 3, 12, 14, 76, 16, 15, 23, 87, 25, 51, 66, 68, 75, 85]\n",
            "Best Precision: 0.7196777237424693\n",
            "Selected Features: [7, 6, 89, 13, 3, 12, 14, 76, 16, 15, 23, 87, 25, 51, 66, 68, 75, 85, 84]\n",
            "Best Precision: 0.7197096188747731\n",
            "Selected Features: [7, 6, 89, 13, 3, 12, 14, 76, 16, 15, 23, 87, 25, 51, 66, 68, 75, 85, 84, 82]\n",
            "Best Precision: 0.7198897831919367\n",
            "Selected Features: [7, 6, 89, 13, 3, 12, 14, 76, 16, 15, 23, 87, 25, 51, 66, 68, 75, 85, 84, 82, 37]\n",
            "Best Precision: 0.7204293277249982\n",
            "Selected Features: [7, 6, 89, 13, 3, 12, 14, 76, 16, 15, 23, 87, 25, 51, 66, 68, 75, 85, 84, 82, 37, 81]\n",
            "Best Precision: 0.7207489436106659\n",
            "Selected Features: [7, 6, 89, 13, 3, 12, 14, 76, 16, 15, 23, 87, 25, 51, 66, 68, 75, 85, 84, 82, 37, 81, 57]\n",
            "Best Precision: 0.722059684025746\n",
            "Selected Features: [7, 6, 89, 13, 3, 12, 14, 76, 16, 15, 23, 87, 25, 51, 66, 68, 75, 85, 84, 82, 37, 81, 57, 64]\n",
            "Best Precision: 0.722815747109615\n",
            "Selected Features: [7, 6, 89, 13, 3, 12, 14, 76, 16, 15, 23, 87, 25, 51, 66, 68, 75, 85, 84, 82, 37, 81, 57, 64, 72]\n",
            "Best Precision: 0.7236659102554718\n",
            "Selected Features: [7, 6, 89, 13, 3, 12, 14, 76, 16, 15, 23, 87, 25, 51, 66, 68, 75, 85, 84, 82, 37, 81, 57, 64, 72, 74]\n",
            "Best Precision: 0.7240117130307467\n",
            "Selected Features: [7, 6, 89, 13, 3, 12, 14, 76, 16, 15, 23, 87, 25, 51, 66, 68, 75, 85, 84, 82, 37, 81, 57, 64, 72, 74, 86]\n",
            "Best Precision: 0.7245407788390889\n",
            "Selected Features: [7, 6, 89, 13, 3, 12, 14, 76, 16, 15, 23, 87, 25, 51, 66, 68, 75, 85, 84, 82, 37, 81, 57, 64, 72, 74, 86, 41]\n",
            "Best Precision: 0.7251891574230515\n",
            "Selected Features: [7, 6, 89, 13, 3, 12, 14, 76, 16, 15, 23, 87, 25, 51, 66, 68, 75, 85, 84, 82, 37, 81, 57, 64, 72, 74, 86, 41, 11]\n",
            "Best Precision: 0.7258687258687259\n",
            "Selected Features: [7, 6, 89, 13, 3, 12, 14, 76, 16, 15, 23, 87, 25, 51, 66, 68, 75, 85, 84, 82, 37, 81, 57, 64, 72, 74, 86, 41, 11, 18]\n",
            "Best Precision: 0.7271641791044776\n",
            "Selected Features: [7, 6, 89, 13, 3, 12, 14, 76, 16, 15, 23, 87, 25, 51, 66, 68, 75, 85, 84, 82, 37, 81, 57, 64, 72, 74, 86, 41, 11, 18, 77]\n",
            "Best Precision: 0.7276785714285714\n",
            "Selected Features: [7, 6, 89, 13, 3, 12, 14, 76, 16, 15, 23, 87, 25, 51, 66, 68, 75, 85, 84, 82, 37, 81, 57, 64, 72, 74, 86, 41, 11, 18, 77, 30]\n",
            "Best Precision: 0.728106134009093\n",
            "Selected Features: [7, 6, 89, 13, 3, 12, 14, 76, 16, 15, 23, 87, 25, 51, 66, 68, 75, 85, 84, 82, 37, 81, 57, 64, 72, 74, 86, 41, 11, 18, 77, 30, 1]\n",
            "Best Precision: 0.7290082028337062\n",
            "Selected Features: [7, 6, 89, 13, 3, 12, 14, 76, 16, 15, 23, 87, 25, 51, 66, 68, 75, 85, 84, 82, 37, 81, 57, 64, 72, 74, 86, 41, 11, 18, 77, 30, 1, 70]\n",
            "Best Precision: 0.7293625914315569\n",
            "Selected Features: [7, 6, 89, 13, 3, 12, 14, 76, 16, 15, 23, 87, 25, 51, 66, 68, 75, 85, 84, 82, 37, 81, 57, 64, 72, 74, 86, 41, 11, 18, 77, 30, 1, 70, 9]\n",
            "Best Precision: 0.7295804091384201\n",
            "Selected Features: [7, 6, 89, 13, 3, 12, 14, 76, 16, 15, 23, 87, 25, 51, 66, 68, 75, 85, 84, 82, 37, 81, 57, 64, 72, 74, 86, 41, 11, 18, 77, 30, 1, 70, 9, 39]\n",
            "Best Precision: 0.7296146953405018\n",
            "Selected Features: [7, 6, 89, 13, 3, 12, 14, 76, 16, 15, 23, 87, 25, 51, 66, 68, 75, 85, 84, 82, 37, 81, 57, 64, 72, 74, 86, 41, 11, 18, 77, 30, 1, 70, 9, 39, 22]\n",
            "Best Precision: 0.7299253731343284\n",
            "Selected Features: [7, 6, 89, 13, 3, 12, 14, 76, 16, 15, 23, 87, 25, 51, 66, 68, 75, 85, 84, 82, 37, 81, 57, 64, 72, 74, 86, 41, 11, 18, 77, 30, 1, 70, 9, 39, 22, 20]\n",
            "Best Precision: 0.7301433263660795\n",
            "Final precision on 1s: 0.7301433263660795\n",
            "Selected Features: [7, 6, 89, 13, 3, 12, 14, 76, 16, 15, 23, 87, 25, 51, 66, 68, 75, 85, 84, 82, 37, 81, 57, 64, 72, 74, 86, 41, 11, 18, 77, 30, 1, 70, 9, 39, 22, 20]\n"
          ]
        }
      ]
    },
    {
      "cell_type": "markdown",
      "source": [
        "### Hyperparameter Tuning"
      ],
      "metadata": {
        "id": "p34v7sUxVh49"
      }
    },
    {
      "cell_type": "code",
      "source": [
        "from sklearn.linear_model import LogisticRegression\n",
        "from sklearn.model_selection import GridSearchCV\n",
        "from sklearn.metrics import precision_score\n",
        "\n",
        "X = X_pca[:,selected_features]\n",
        "y = y_resampled\n",
        "\n",
        "X_train, X_test, y_train, y_test = train_test_split(X, y, test_size=0.2, random_state=64)\n",
        "param_grid = {'C': [0.01, 0.1, 1, 10, 100]}  # You can extend or modify this range\n",
        "\n",
        "# Step 2: Create a Logistic Regression model\n",
        "log_reg = LogisticRegression(solver='liblinear')\n",
        "\n",
        "# Step 3: Perform Grid Search with cross-validation\n",
        "grid_search = GridSearchCV(estimator=log_reg, param_grid=param_grid, cv=5, scoring='precision', n_jobs=-1)\n",
        "\n",
        "# Step 4: Fit the GridSearchCV to the data\n",
        "grid_search.fit(X_train, y_train)\n",
        "\n",
        "# Step 5: Get the best C value and corresponding model\n",
        "best_C = grid_search.best_params_['C']\n",
        "print(f\"Best C Value: {best_C}\")\n",
        "\n",
        "# Step 6: Train the Logistic Regression model with the best C value\n",
        "log_reg_best = LogisticRegression(C=best_C, solver='liblinear')\n",
        "log_reg_best.fit(X_train, y_train)\n",
        "\n",
        "# Step 7: Make predictions and evaluate the model\n",
        "y_pred = log_reg_best.predict(X_test)\n",
        "\n",
        "# Evaluate precision on positive class\n",
        "precision = precision_score(y_test, y_pred)\n",
        "print(f\"Precision on 1s (Positive Class): {precision}\")\n",
        "\n",
        "# Optionally: You can also check the best score from GridSearchCV\n",
        "print(f\"Best Grid Search Score: {grid_search.best_score_}\")"
      ],
      "metadata": {
        "colab": {
          "base_uri": "https://localhost:8080/"
        },
        "id": "0LkHektOVnDK",
        "outputId": "7ce1825b-acf1-4dc6-8d20-91d16fa47178"
      },
      "execution_count": 242,
      "outputs": [
        {
          "output_type": "stream",
          "name": "stdout",
          "text": [
            "Best C Value: 0.1\n",
            "Precision on 1s (Positive Class): 0.7301433263660795\n",
            "Best Grid Search Score: 0.7231161377774535\n"
          ]
        }
      ]
    },
    {
      "cell_type": "markdown",
      "source": [
        "### Threshold"
      ],
      "metadata": {
        "id": "kioDm_SxChQT"
      }
    },
    {
      "cell_type": "code",
      "source": [
        "X = X_pca[:, selected_features]\n",
        "y = y_resampled\n",
        "\n",
        "X_train, X_test, y_train, y_test = train_test_split(X, y, test_size=0.2, random_state=64)\n",
        "\n",
        "model = LogisticRegression(class_weight=\"balanced\", C = 0.1, random_state=89, max_iter=1000)\n",
        "model.fit(X_train, y_train)\n",
        "\n",
        "y_pred = model.predict(X_test) # Prediction\n",
        "\n",
        "# Evaluate the model\n",
        "print(\"Accuracy:\", accuracy_score(y_test, y_pred))\n",
        "print(\"Confusion Matrix:\\n\", confusion_matrix(y_test, y_pred))\n",
        "print(\"Classification Report:\\n\", classification_report(y_test, y_pred))\n",
        "\n",
        "y_proba = model.predict_proba(X_test)[:, 1] # Predicted Probabilities\n",
        "\n",
        "\n",
        "precision, recall, thresholds = precision_recall_curve(y_test, y_proba)\n",
        "plt.plot(thresholds, precision[:-1], 'b-', label='Precision')\n",
        "plt.plot(thresholds, recall[:-1], 'g-', label='Recall')\n",
        "plt.xlabel('Threshold')\n",
        "plt.ylabel('Score')\n",
        "plt.title('Precision-Recall vs Threshold')\n",
        "plt.legend(loc='best')\n",
        "plt.show()"
      ],
      "metadata": {
        "colab": {
          "base_uri": "https://localhost:8080/",
          "height": 793
        },
        "id": "LOguSNVmECK6",
        "outputId": "b9ba996a-95a1-4a70-8b9d-1885576e331e"
      },
      "execution_count": 246,
      "outputs": [
        {
          "output_type": "stream",
          "name": "stdout",
          "text": [
            "Accuracy: 0.669522977840847\n",
            "Confusion Matrix:\n",
            " [[4690 2119]\n",
            " [3936 7577]]\n",
            "Classification Report:\n",
            "               precision    recall  f1-score   support\n",
            "\n",
            "         0.0       0.54      0.69      0.61      6809\n",
            "         1.0       0.78      0.66      0.71     11513\n",
            "\n",
            "    accuracy                           0.67     18322\n",
            "   macro avg       0.66      0.67      0.66     18322\n",
            "weighted avg       0.69      0.67      0.67     18322\n",
            "\n"
          ]
        },
        {
          "output_type": "display_data",
          "data": {
            "text/plain": [
              "<Figure size 800x550 with 1 Axes>"
            ],
            "image/png": "[encoded data removed]"
          },
          "metadata": {}
        }
      ]
    },
    {
      "cell_type": "code",
      "source": [
        "from sklearn.metrics import f1_score\n",
        "\n",
        "# Initialize variables to track the best threshold and its F1 score\n",
        "best_threshold = 0\n",
        "best_f1 = 0\n",
        "\n",
        "# Iterate through the thresholds\n",
        "for threshold in thresholds:\n",
        "    y_pred_threshold = (y_proba >= threshold).astype(int)  # Apply threshold\n",
        "    f1 = f1_score(y_test, y_pred_threshold)  # Calculate F1 score\n",
        "    if f1 > best_f1:\n",
        "        best_f1 = f1\n",
        "        best_threshold = threshold\n",
        "\n",
        "print(f\"Best Threshold: {best_threshold}, Best F1 Score: {best_f1}\")\n"
      ],
      "metadata": {
        "colab": {
          "base_uri": "https://localhost:8080/"
        },
        "id": "KKQZoKKLotEu",
        "outputId": "7d7cc50e-8261-4beb-c701-2ecb4123ab30"
      },
      "execution_count": 247,
      "outputs": [
        {
          "output_type": "stream",
          "name": "stdout",
          "text": [
            "Best Threshold: 0.31251737387804457, Best F1 Score: 0.7919623515350713\n"
          ]
        }
      ]
    },
    {
      "cell_type": "code",
      "source": [
        "# Example: Find threshold with recall >= 0.8 and highest precision\n",
        "target_recall = 0.7\n",
        "best_threshold = 0\n",
        "max_precision = 0\n",
        "\n",
        "for p, r, t in zip(precision[:-1], recall[:-1], thresholds):\n",
        "    if r >= target_recall and p > max_precision:\n",
        "        max_precision = p\n",
        "        best_threshold = t\n",
        "\n",
        "print(f\"Best Threshold: {best_threshold} for Recall >= {target_recall} and Precision: {max_precision}\")\n"
      ],
      "metadata": {
        "colab": {
          "base_uri": "https://localhost:8080/"
        },
        "id": "Je3QzyErovQZ",
        "outputId": "f6a911ce-b188-436c-98e1-588e42d49e1a"
      },
      "execution_count": 248,
      "outputs": [
        {
          "output_type": "stream",
          "name": "stdout",
          "text": [
            "Best Threshold: 0.40714494934011447 for Recall >= 0.8 and Precision: 0.7427626804289976\n"
          ]
        }
      ]
    },
    {
      "cell_type": "code",
      "source": [
        "f1_scores = []\n",
        "for threshold in thresholds:\n",
        "    y_pred_threshold = (y_proba >= threshold).astype(int)\n",
        "    f1_scores.append(f1_score(y_test, y_pred_threshold))\n",
        "\n",
        "plt.plot(thresholds, f1_scores, 'r-', label='F1 Score')\n",
        "plt.xlabel('Threshold')\n",
        "plt.ylabel('F1 Score')\n",
        "plt.title('F1 Score vs Threshold')\n",
        "plt.legend(loc='best')\n",
        "plt.show()\n"
      ],
      "metadata": {
        "colab": {
          "base_uri": "https://localhost:8080/",
          "height": 544
        },
        "id": "HkyrnVy7owkj",
        "outputId": "aedfc8f9-6894-4d01-9575-34a7a50c085d"
      },
      "execution_count": 249,
      "outputs": [
        {
          "output_type": "display_data",
          "data": {
            "text/plain": [
              "<Figure size 800x550 with 1 Axes>"
            ],
            "image/png": "[encoded data removed]"
          },
          "metadata": {}
        }
      ]
    },
    {
      "cell_type": "markdown",
      "source": [
        "## Final Model"
      ],
      "metadata": {
        "id": "OmD34NmgVvpb"
      }
    },
    {
      "cell_type": "code",
      "source": [
        "optimal_threshold = 0.45\n",
        "model = LogisticRegression(class_weight=\"balanced\", C = 0.1, random_state=89, max_iter=1000)\n",
        "model.fit(X_pca, y_resampled)\n",
        "# Predict probabilities for the test set\n",
        "\n",
        "X_test = pca.transform(test_data_standardized)\n",
        "y_proba = model.predict_proba(X_test)[:, 1]\n",
        "\n",
        "# Apply the optimal threshold\n",
        "y_pred_optimal = (y_proba >= optimal_threshold).astype(int)\n",
        "\n",
        "list_predictions =y_pred_optimal.tolist()\n",
        "rounded_list_predictions = [int(x) for x in list_predictions]\n",
        "print(rounded_list_predictions)"
      ],
      "metadata": {
        "colab": {
          "base_uri": "https://localhost:8080/"
        },
        "id": "D8PgcqKI6Po2",
        "outputId": "b9b6d0b0-b33d-4477-eb38-9f9f3e115054"
      },
      "execution_count": 256,
      "outputs": [
        {
          "output_type": "stream",
          "name": "stdout",
          "text": [
            "[1, 1, 1, 0, 0, 1, 1, 1, 1, 1, 0, 1, 0, 0, 1, 1, 1, 0, 0, 0, 1, 0, 1, 1, 1, 0, 0, 0, 1, 1, 1, 0, 0, 0, 1, 1, 0, 1, 0, 1, 1, 0, 0, 1, 1, 1, 1, 1, 0, 1, 0, 1, 1, 1, 0, 1, 0, 0, 0, 0, 1, 0, 0, 0, 0, 1, 1, 0, 1, 0, 1, 0, 0, 1, 0, 1, 1, 1, 1, 0, 1, 0, 1, 0, 1, 0, 1, 1, 1, 0, 0, 0, 1, 0, 1, 1, 0, 1, 1, 1, 0, 0, 1, 0, 1, 1, 1, 0, 0, 1, 1, 0, 1, 1, 0, 0, 1, 0, 1, 0, 1, 0, 1, 0, 1, 1, 0, 1, 1, 0, 0, 1, 0, 1, 1, 1, 1, 1, 1, 1, 0, 1, 1, 0, 1, 0, 1, 1, 0, 1, 0, 0, 1, 1, 1, 1, 1, 0, 1, 1, 1, 1, 0, 1, 0, 0, 1, 0, 1, 0, 0, 1, 0, 1, 1, 0, 1, 1, 1, 0, 0, 1, 0, 0, 1, 1, 0, 1, 1, 1, 1, 0, 1, 1, 1, 1, 1, 0, 1, 0, 1, 0, 1, 1, 1, 0, 1, 1, 1, 1, 0, 1, 1, 0, 1, 0, 1, 1, 0, 0, 0, 0, 1, 0, 0, 1, 1, 1, 0, 0, 0, 1, 1, 0, 0, 1, 0, 0, 0, 1, 1, 1, 1, 1, 0, 0, 0, 1, 1, 0, 0, 1, 1, 1, 1, 1, 1, 0, 1, 0, 0, 1, 0, 1, 1, 0, 1, 0, 0, 1, 1, 0, 1, 0, 1, 0, 1, 0, 0, 1, 1, 1, 0, 1, 1, 1, 1, 0, 1, 0, 1, 0, 1, 0, 1, 1, 0, 0, 1, 1, 1, 1, 1, 1, 0, 0, 0, 1, 0, 0, 0, 1, 1, 0, 1, 1, 1, 0, 1, 1, 1, 1, 0, 1, 1, 1, 0, 1, 1, 1, 1, 1, 0, 0, 0, 0, 0, 1, 1, 1, 0, 0, 0, 0, 0, 0, 1, 0, 1, 0, 1, 0, 1, 1, 0, 1, 1, 0, 0, 0, 1, 0, 0, 1, 1, 0, 0, 1, 1, 1, 1, 1, 1, 0, 0, 1, 0, 1, 1, 1, 1, 0, 0, 0, 0, 1, 1, 0, 0, 1, 1, 0, 1, 1, 1, 1, 1, 0, 0, 1, 0, 1, 1, 1, 1, 1, 1, 0, 0, 1, 0, 0, 0, 0, 0, 1, 1, 0, 1, 1, 1, 1, 1, 0, 0, 1, 0, 1, 1, 0, 0, 1, 1, 1, 1, 1, 0, 1, 0, 0, 1, 0, 0, 1, 1, 0, 0, 1, 1, 1, 1, 1, 1, 1, 0, 1, 1, 1, 1, 0, 1, 0, 1, 1, 0, 1, 1, 1, 1, 0, 1, 0, 1, 1, 0, 0, 1, 0, 0, 1, 1, 0, 1, 1, 1, 0, 0, 1, 1, 0, 0, 1, 1, 0, 0, 0, 0, 1, 1, 0, 0, 1, 1, 0, 1, 1, 0, 0, 1, 1, 0, 0, 1, 1, 0, 0, 1, 0, 0, 1, 1, 1, 1, 1, 0, 1, 0, 1, 1, 1, 1, 1, 0, 1, 0, 0, 1, 1, 0, 0, 1, 1, 0, 0, 1, 1, 0, 0, 1, 1, 0, 1, 0, 1, 0, 1, 1, 0, 1, 1, 0, 1, 1, 1, 1, 1, 0, 1, 0, 1, 1, 1, 1, 1, 1, 0, 0, 0, 0, 1, 1, 0, 1, 0, 1, 1, 1, 1, 0, 0, 1, 0, 0, 1, 1, 1, 1, 1, 1, 1, 1, 1, 1, 1, 1, 1, 0, 0, 1, 1, 1, 0, 0, 1, 1, 0, 0, 1, 0, 1, 1, 0, 0, 1, 1, 1, 0, 0, 1, 0, 1, 1, 0, 0, 1, 0, 1, 0, 1, 0, 1, 0, 0, 1, 0, 1, 1, 1, 1, 0, 0, 0, 0, 1, 1, 0, 1, 1, 0, 1, 0, 1, 0, 1, 0, 1, 1, 1, 0, 1, 1, 0, 0, 1, 1, 1, 0, 0, 1, 1, 1, 0, 1, 0, 0, 1, 1, 0, 1, 1, 1, 1, 1, 0, 1, 0, 1, 0, 0, 0, 1, 1, 0, 0, 1, 1, 0, 0, 0, 1, 0, 1, 0, 1, 1, 0, 0, 1, 0, 1, 0, 1, 1, 0, 1, 1, 1, 0, 1, 0, 1, 1, 0, 1, 1, 0, 1, 0, 1, 0, 1, 0, 0, 0, 0, 0, 0, 1, 1, 1, 0, 0, 1, 1, 0, 1, 1, 1, 0, 0, 0, 1, 1, 0, 1, 1, 1, 1, 1, 1, 0, 1, 1, 1, 1, 0, 0, 1, 1, 1, 1, 1, 1, 1, 1, 1, 0, 1, 1, 1, 0, 1, 1, 1, 1, 1, 1, 1, 0, 0, 1, 0, 1, 0, 1, 1, 0, 1, 1, 1, 1, 0, 0, 0, 1, 1, 1, 1, 1, 1, 0, 0, 1, 1, 0, 1, 1, 1, 1, 0, 0, 1, 1, 1, 1, 1, 1, 1, 0, 1, 0, 1, 1, 1, 0, 1, 1, 1, 1, 0, 0, 1, 0, 0, 0, 1, 0, 1, 1, 0, 1, 1, 1, 0, 0, 1, 1, 1, 1, 0, 0, 1, 1, 1, 1, 1, 0, 1, 1, 1, 0, 0, 0, 1, 1, 1, 1, 0, 0, 1, 1, 1, 1, 1, 0, 1, 0, 0, 0, 0, 1, 1, 1, 0, 1, 1, 1, 1, 0, 0, 1, 0, 0, 1, 0, 1, 0, 1, 1, 1, 0, 0, 0, 1, 0, 1, 1, 1, 1, 1, 1, 1, 1, 0, 0, 0, 1, 0, 1, 0, 0, 1, 0, 0, 1, 1, 1, 1, 0, 0, 0, 1, 1, 1, 1, 0, 1, 1, 0, 1, 0, 1, 0, 0, 1, 1, 1, 1, 0, 1, 1, 0, 1, 1, 0, 0, 1, 1, 0, 1, 1, 1, 1, 1, 0, 0, 0, 1, 1, 1, 1, 1, 1, 1, 1, 1, 0, 0, 0, 0, 1, 0, 0, 1, 1, 1, 1, 1, 0, 0, 1, 1, 1, 1, 0, 1, 1, 0, 1, 1, 1, 1, 1, 1, 0, 1, 1, 0, 1, 0, 1, 1, 1, 1, 1, 0, 0, 1, 0, 1, 1, 1, 1, 1, 1, 1, 1, 1, 1, 0, 1, 1, 1, 1, 0, 0, 1, 1, 1, 1, 1, 0, 1, 0, 0, 1, 1, 1, 1, 1, 1, 1, 1, 1, 1, 0, 1, 1, 1, 1, 0, 0, 1, 0, 1, 0, 0, 0, 0, 1, 0, 1, 0, 1, 1, 1, 1, 1, 1, 0, 0, 1, 0, 1, 1, 0, 0, 1, 0, 1, 1, 0, 1, 0, 0, 0, 0, 0, 1, 0, 1, 1, 1, 1, 1, 1, 0, 0, 0, 1, 0, 1, 1, 1, 0, 0, 0, 0, 1, 0, 1, 0, 0, 1, 1, 1, 1, 1, 0, 1, 1, 0, 0, 0, 1, 0, 0, 1, 1, 1, 1, 1, 1, 0, 0, 0, 0, 0, 1, 1, 0, 0, 0, 1, 0, 1, 0, 0, 0, 1, 0, 1, 1, 1, 0, 0, 1, 1, 1, 0, 0, 0, 1, 1, 0, 1, 1, 1, 1, 1, 1, 0, 1, 1, 1, 1, 0, 0, 1, 0, 1, 0, 1, 1, 0, 1, 1, 0, 0, 1, 1, 1, 0, 0, 1, 1, 1, 1, 1, 1, 1, 1, 0, 1, 0, 1, 1, 1, 1, 1, 1, 0, 0, 1, 1, 0, 1, 1, 1, 0, 1, 1, 0, 1, 0, 1, 1, 0, 0, 0, 0, 1, 1, 0, 0, 0, 0, 1, 1, 0, 1, 1, 0, 1, 1, 1, 1, 1, 0, 1, 0, 0, 0, 1, 1, 1, 0, 1, 0, 0, 1, 0, 1, 0, 0, 0, 1, 0, 1, 1, 1, 1, 1, 1, 0, 1, 1, 1, 0, 1, 1, 1, 0, 0, 1, 1, 0, 1, 0, 1, 1, 0, 1, 1, 0, 1, 1, 1, 1, 0, 1, 1, 1, 1, 1, 1, 0, 1, 1, 1, 0, 0, 1, 1, 0, 1, 1, 0, 1, 1, 1, 1, 0, 1, 0, 1, 1, 1, 0, 1, 1, 0, 0, 1, 1, 0, 1, 1, 0, 0, 0, 1, 1, 1, 1, 1, 1, 1, 1, 0, 0, 0, 1, 0, 0, 1, 0, 0, 0, 1, 1, 1, 1, 1, 1, 1, 0, 1, 1, 0, 0, 1, 1, 0, 1, 1, 0, 0, 1, 0, 0, 1, 0, 0, 1, 1, 0, 1, 1, 1, 1, 1, 1, 1, 1, 1, 1, 0, 1, 1, 0, 1, 1, 0, 1, 0, 1, 0, 0, 1, 0, 1, 1, 1, 1, 1, 1, 1, 1, 1, 1, 1, 1, 1, 1, 0, 0, 1, 1, 0, 1, 0, 0, 1, 1, 0, 1, 1, 0, 0, 1, 1, 1, 1, 0, 0, 0, 1, 1, 0, 1, 1, 1, 1, 0, 0, 1, 0, 0, 0, 0, 1, 1, 0, 0, 1, 0, 1, 0, 0, 1, 1, 0, 1, 0, 1, 1, 0, 1, 1, 0, 0, 1, 0, 0, 1, 0, 1, 1, 1, 1, 1, 1, 1, 1, 1, 0, 1, 1, 1, 0, 0, 1, 0, 0, 1, 1, 0, 1, 1, 1, 0, 0, 1, 1, 0, 1, 1, 0, 1, 1, 1, 0, 0, 1, 1, 0, 1, 1, 0, 1, 1, 0, 1, 1, 0, 0, 0, 1, 0, 1, 1, 1, 1, 1, 0, 1, 0, 1, 0, 1, 0, 1, 0, 1, 0, 1, 1, 1, 1, 0, 1, 0, 1, 1, 1, 0, 0, 0, 1, 1, 0, 1, 1, 0, 1, 1, 1, 0, 0, 0, 0, 0, 1, 0, 1, 0, 0, 0, 0, 0, 1, 0, 1, 0, 1, 0, 0, 1, 1, 0, 1, 0, 0, 1, 0, 1, 0, 1, 0, 0, 1, 1, 1, 0, 1, 0, 0, 1, 0, 1, 1, 1, 1, 0, 1, 0, 1, 0, 0, 1, 0, 0, 0, 0, 1, 1, 1, 1, 0, 1, 1, 1, 0, 1, 1, 0, 1, 0, 1, 1, 1, 0, 0, 1, 1, 1, 1, 0, 1, 1, 1, 0, 1, 1, 1, 0, 1, 1, 1, 1, 0, 0, 0, 1, 1, 0, 0, 1, 0, 0, 0, 0, 0, 1, 1, 1, 1, 0, 1, 0, 1, 0, 1, 1, 1, 1, 0, 0, 1, 0, 1, 1, 0, 1, 1, 0, 1, 0, 1, 1, 1, 0, 1, 1, 1, 0, 0, 0, 1, 1, 1, 1, 0, 0, 1, 0, 1, 0, 0, 1, 0, 1, 0, 1, 0, 1, 0, 0, 0, 0, 1, 1, 0, 0, 0, 1, 0, 1, 0, 0, 0, 0, 0, 1, 1, 1, 0, 0, 0, 1, 1, 0, 0, 1, 1, 0, 1, 1, 0, 0, 0, 1, 1, 1, 0, 0, 1, 1, 1, 1, 1, 0, 0, 0, 0, 1, 1, 0, 1, 1, 0, 1, 0, 0, 1, 1, 0, 1, 1, 1, 1, 1, 1, 1, 1, 0, 0, 1, 1, 1, 0, 0, 1, 0, 0, 1, 0, 0, 1, 0, 0, 1, 1, 0, 0, 1, 1, 1, 1, 0, 0, 1, 1, 1, 1, 1, 0, 1, 1, 1, 1, 0, 0, 0, 0, 1, 1, 1, 0, 0, 1, 0, 0, 0, 1, 1, 1, 0, 1, 1, 1, 0, 1, 1, 1, 1, 1, 0, 0, 0, 1, 1, 0, 1, 1, 0, 0, 0, 1, 0, 0, 0, 0, 0, 0, 0, 1, 1, 1, 1, 0, 1, 0, 1, 1, 1, 0, 0, 1, 1, 0, 0, 1, 0, 1, 1, 1, 0, 0, 1, 0, 1, 0, 1, 1, 1, 1, 1, 1, 0, 1, 1, 1, 1, 1, 0, 1, 0, 0, 1, 1, 0, 1, 0, 0, 1, 0, 0, 1, 0, 0, 0, 1, 1, 0, 0, 1, 1, 0, 0, 0, 1, 1, 0, 0, 1, 0, 1, 0, 0, 1, 0, 0, 1, 1, 1, 1, 0, 0, 1, 0, 1, 0, 0, 1, 0, 0, 0, 0, 1, 1, 1, 1, 1, 1, 0, 1, 1, 0, 0, 1, 1, 0, 1, 0, 1, 1, 0, 0, 1, 1, 1, 1, 1, 1, 0, 1, 1, 0, 1, 1, 1, 1, 0, 1, 1, 0, 1, 0, 0, 1, 1, 0, 1, 1, 0, 0, 0, 1, 1, 0, 1, 0, 1, 0, 0, 1, 1, 1, 1, 0, 1, 0, 1, 1, 1, 0, 0, 0, 1, 0, 0, 1, 0, 0, 1, 1, 1, 1, 0, 0, 1, 1, 1, 0, 0, 0, 0, 0, 1, 0, 1, 0, 1, 0, 1, 1, 0, 1, 0, 0, 0, 0, 1, 0, 0, 0, 1, 1, 1, 1, 1, 1, 0, 0, 0, 1, 0, 1, 1, 0, 1, 1, 1, 1, 1, 1, 1, 1, 0, 0, 1, 1, 0, 0, 0, 0, 1, 1, 1, 1, 0, 0, 1, 1, 0, 1, 0, 1, 1, 0, 0, 1, 1, 0, 0, 0, 1, 0, 1, 1, 1, 0, 0, 0, 1, 1, 0, 1, 1, 1, 1, 0, 1, 1, 1, 1, 0, 0, 1, 1, 1, 1, 1, 0, 1, 0, 1, 1, 1, 0, 0, 0, 1, 1, 1, 0, 1, 0, 0, 1, 1, 1, 0, 0, 1, 0, 0, 1, 1, 1, 1, 1, 0, 1, 0, 1, 1, 0, 1, 0, 1, 1, 1, 1, 0, 0, 1, 1, 1, 1, 0, 1, 1, 1, 1, 0, 1, 1, 0, 0, 0, 1, 1, 1, 1, 1, 0, 1, 1, 1, 1, 1, 1, 1, 1, 0, 0, 0, 1, 0, 1, 0, 1, 1, 0, 1, 1, 0, 0, 0, 0, 0, 0, 0, 0, 0, 1, 0, 1, 1, 1, 1, 1, 1, 0, 1, 0, 0, 1, 0, 1, 1, 0, 0, 1, 0, 1, 0, 0, 0, 1, 1, 1, 1, 0, 0, 1, 0, 1, 1, 0, 0, 1, 1, 1, 0, 1, 1, 0, 1, 1, 0, 1, 1, 1, 1, 0, 1, 0, 1, 1, 1, 0, 1, 0, 1, 1, 0, 1, 1, 1, 1, 1, 1, 1, 1, 0, 0, 1, 1, 1, 1, 1, 0, 0, 0, 1, 0, 1, 0, 1, 1, 0, 1, 0, 0, 0, 1, 1, 1, 0, 1, 0, 1, 1, 1, 1, 0, 0, 1, 0, 0, 0, 1, 0, 0, 0, 0, 0, 1, 0, 1, 0, 0, 1, 0, 1, 1, 0, 1, 1, 0, 1, 0, 0, 0, 0, 0, 0, 1, 1, 1, 1, 0, 1, 1, 1, 0, 1, 1, 1, 1, 1, 0, 0, 1, 1, 1, 1, 1, 1, 0, 1, 1, 1, 1, 0, 1, 1, 1, 1, 1, 0, 1, 0, 1, 0, 0, 0, 1, 0, 1, 1, 0, 0, 0, 1, 1, 0, 0, 1, 1, 0, 1, 0, 1, 1, 1, 1, 0, 1, 1, 1, 1, 1, 1, 1, 0, 1, 1, 1, 0, 0, 1, 1, 0, 1, 1, 0, 1, 1, 1, 0, 1, 1, 1, 1, 0, 1, 1, 1, 0, 0, 1, 0, 1, 0, 1, 0, 0, 0, 0, 0, 0, 1, 0, 1, 0, 0, 0, 0, 0, 1, 1, 0, 1, 1, 1, 0, 1, 1, 1, 1, 0, 0, 1, 1, 1, 0, 1, 1, 1, 0, 0, 0, 0, 1, 1, 1, 0, 1, 1, 1, 1, 1, 1, 0, 1, 0, 1, 1, 0, 0, 1, 0, 0, 1, 0, 1, 1, 1, 0, 0, 0, 1, 1, 1, 1, 0, 0, 0, 1, 1, 0, 1, 1, 1, 1, 0, 1, 1, 1, 1, 1, 1, 1, 1, 0, 0, 0, 1, 1, 0, 1, 1, 1, 1, 1, 1, 1, 1, 0, 1, 0, 1, 0, 0, 0, 1, 0, 0, 1, 0, 0, 1, 1, 0, 0, 1, 1, 1, 1, 0, 1, 0, 0, 0, 1, 1, 0, 1, 0, 0, 1, 1, 1, 1, 1, 1, 1, 0, 1, 1, 1, 1, 1, 1, 1, 1, 0, 1, 1, 0, 0, 0, 1, 1, 0, 0, 0, 1, 1, 1, 0, 0, 0, 1, 1, 0, 0, 0, 1, 1, 1, 1, 1, 0, 1, 1, 1, 1, 1, 1, 1, 1, 0, 0, 0, 0, 0, 1, 1, 1, 1, 1, 1, 1, 0, 1, 0, 0, 0, 1, 0, 1, 1, 1, 0, 0, 0, 0, 0, 1, 1, 0, 0, 1, 1, 1, 0, 0, 1, 1, 0, 1, 1, 0, 0, 1, 1, 0, 1, 1, 1, 1, 0, 0, 0, 1, 1, 0, 1, 1, 1, 1, 0, 0, 0, 1, 0, 0, 1, 1, 0, 0, 0, 0, 1, 0, 1, 1, 0, 1, 1, 1, 1, 0, 1, 1, 1, 1, 1, 0, 0, 0, 1, 0, 0, 0, 1, 0, 1, 1, 0, 0, 0, 1, 1, 0, 1, 0, 1, 0, 1, 1, 0, 1, 0, 0, 1, 0, 0, 0, 0, 1, 0, 0, 0, 1, 1, 0, 1, 0, 1, 1, 1, 1, 1, 0, 1, 0, 1, 1, 1, 1, 1, 0, 0, 0, 1, 1, 1, 1, 1, 1, 1, 1, 1, 0, 0, 1, 0, 1, 0, 1, 0, 1, 1, 0, 1, 0, 1, 1, 1, 1, 0, 1, 0, 1, 1, 0, 1, 0, 1, 1, 1, 1, 1, 1, 1, 0, 0, 1, 0, 1, 0, 1, 1, 1, 1, 1, 1, 1, 0, 1, 1, 1, 0, 1, 1, 0, 0, 0, 1, 0, 1, 0, 1, 1, 0, 0, 1, 1, 1, 0, 0, 0, 0, 1, 1, 1, 1, 1, 0, 0, 1, 1, 1, 0, 0, 1, 0, 1, 1, 1, 1, 1, 1, 1, 0, 1, 0, 1, 1, 1, 1, 1, 1, 1, 1, 1, 1, 1, 1, 0, 0, 1, 0, 0, 1, 1, 1, 0, 1, 0, 1, 1, 0, 0, 1, 1, 1, 0, 0, 0, 1, 1, 1, 1, 0, 1, 1, 0, 1, 1, 1, 0, 1, 1, 1, 0, 1, 0, 0, 1, 0, 1, 0, 0, 1, 1, 1, 0, 1, 0, 1, 1, 1, 1, 0, 0, 1, 0, 1, 1, 0, 1, 0, 1, 0, 1, 0, 1, 1, 1, 0, 1, 0, 1, 1, 0, 1, 1, 1, 0, 0, 1, 0, 0, 1, 0, 0, 1, 0, 0, 0, 1, 1, 1, 1, 0, 0, 0, 1, 1, 1, 1, 1, 0, 1, 1, 1, 1, 1, 0, 1, 0, 1, 0, 0, 0, 1, 1, 1, 1, 0, 1, 1, 1, 1, 1, 1, 1, 1, 0, 0, 0, 0, 0, 0, 0, 1, 1, 1, 1, 1, 1, 1, 0, 0, 0, 0, 1, 0, 0, 1, 1, 1, 1, 1, 0, 1, 1, 0, 1, 1, 1, 1, 1, 1, 1, 0, 0, 0, 1, 1, 1, 1, 1, 0, 0, 0, 0, 0, 1, 1, 1, 1, 1, 1, 0, 1, 0, 0, 0, 1, 1, 0, 1, 1, 0, 1, 1, 1, 0, 0, 1, 1, 0, 0, 0, 0, 0, 1, 1, 0, 0, 0, 1, 0, 1, 1, 1, 1, 1, 1, 1, 0, 1, 1, 0, 0, 0, 1, 0, 1, 1, 0, 1, 1, 1, 1, 0, 0, 0, 0, 0, 1, 1, 1, 1, 0, 1, 1, 1, 1, 1, 1, 1, 1, 1, 1, 1, 0, 1, 0, 0, 1, 1, 0, 1, 0, 0, 1, 1, 1, 0, 0, 1, 1, 0, 0, 1, 0, 1, 1, 0, 1, 0, 1, 0, 1, 1, 1, 1, 1, 0, 1, 0, 1, 0, 1, 0, 0, 0, 1, 1, 0, 1, 0, 1, 1, 0, 1, 1, 0, 0, 1, 0, 0, 1, 0, 1, 1, 0, 1, 0, 1, 0, 1, 1, 1, 0, 1, 1, 0, 0, 0, 1, 1, 1, 1, 0, 1, 1, 1, 0, 1, 0, 0, 1, 1, 1, 0, 1, 1, 1, 0, 1, 0, 0, 1, 0, 1, 1, 0, 0, 1, 1, 1, 0, 1, 1, 1, 1, 0, 1, 1, 1, 1, 1, 0, 1, 0, 1, 1, 1, 0, 0, 0, 1, 0, 1, 1, 0, 0, 0, 1, 0, 0, 1, 1, 1, 0, 0, 0, 1, 0, 1, 0, 0, 1, 1, 1, 0, 1, 0, 1, 1, 1, 1, 0, 0, 1, 0, 0, 0, 1, 0, 0, 0, 0, 1, 0, 0, 0, 1, 1, 1, 0, 1, 0, 0, 1, 1, 0, 0, 1, 1, 1, 1, 1, 1, 1, 1, 0, 1, 1, 1, 0, 1, 0, 1, 1, 1, 0, 0, 1, 0, 1, 0, 1, 1, 1, 0, 0, 1, 1, 1, 1, 0, 1, 0, 1, 1, 0, 1, 0, 0, 0, 1, 0, 1, 1, 0, 0, 1, 1, 0, 1, 1, 1, 0, 1, 1, 1, 0, 1, 0, 1, 0, 1, 1, 0, 0, 1, 1, 0, 1, 1, 1, 0, 0, 0, 1, 1, 0, 0, 1, 1, 0, 0, 0, 0, 1, 0, 1, 1, 1, 1, 1, 1, 1, 1, 0, 1, 1, 0, 0, 1, 1, 0, 0, 0, 1, 1, 1, 1, 0, 1, 1, 0, 1, 0, 1, 1, 1, 1, 0, 1, 0, 1, 1, 1, 1, 1, 0, 1, 1, 1, 0, 0, 0, 0, 1, 1, 0, 0, 1, 1, 1, 0, 1, 1, 1, 1, 1, 1, 0, 1, 0, 1, 0, 1, 0, 0, 0, 0, 1, 0, 1, 1, 0, 0, 1, 1, 0, 0, 0, 1, 0, 0, 0, 0, 0, 1, 1, 0, 0, 1, 1, 1, 0, 1, 0, 1, 0, 0, 1, 1, 1, 1, 0, 0, 0, 0, 0, 1, 0, 0, 1, 1, 1, 1, 0, 1, 0, 1, 1, 1, 1, 0, 0, 1, 1, 1, 1, 1, 1, 1, 1, 0, 1, 0, 0, 1, 1, 1, 1, 0, 1, 0, 1, 1, 1, 0, 0, 1, 0, 1, 1, 0, 1, 0, 0, 0, 0, 0, 1, 1, 1, 0, 1, 0, 1, 1, 0, 0, 1, 1, 1, 0, 1, 1, 1, 1, 0, 1, 0, 0, 1, 0, 0, 1, 1, 1, 1, 0, 1, 0, 1, 0, 1, 1, 0, 1, 1, 1, 0, 0, 1, 1, 0, 0, 1, 0, 1, 1, 1, 0, 0, 0, 1, 1, 1, 1, 1, 1, 1, 0, 1, 0, 1, 1, 1, 1, 1, 1, 0, 0, 0, 0, 1, 0, 1, 1, 0, 1, 0, 0, 1, 0, 0, 0, 1, 1, 1, 0, 1, 1, 0, 0, 1, 0, 1, 1, 0, 1, 1, 0, 0, 0, 1, 1, 1, 1, 1, 0, 1, 1, 0, 1, 1, 0, 0, 0, 1, 0, 0, 1, 0, 1, 1, 1, 1, 1, 0, 1, 1, 0, 0, 0, 1, 1, 0, 0, 0, 1, 1, 1, 1, 0, 1, 1, 1, 1, 1, 1, 0, 0, 0, 1, 1, 1, 0, 1, 1, 0, 1, 0, 0, 1, 1, 1, 0, 0, 1, 1, 1, 0, 1, 0, 0, 0, 0, 1, 1, 1, 1, 1, 1, 0, 1, 0, 1, 1, 0, 1, 1, 1, 0, 1, 0, 0, 1, 1, 1, 1, 1, 1, 0, 1, 1, 0, 0, 1, 1, 0, 1, 0, 1, 1, 0, 1, 1, 1, 0, 1, 1, 1, 0, 1, 0, 1, 1, 1, 0, 1, 1, 0, 0, 0, 1, 0, 0, 0, 0, 1, 0, 0, 0, 0, 1, 1, 1, 1, 0, 0, 0, 1, 0, 1, 1, 0, 1, 0, 0, 0, 0, 0, 0, 1, 0, 1, 0, 0, 1, 1, 0, 1, 1, 0, 1, 0, 1, 1, 1, 1, 1, 1, 0, 1, 1, 1, 1, 1, 0, 1, 1, 0, 0, 0, 0, 1, 0, 0, 1, 1, 1, 1, 0, 1, 0, 1, 1, 0, 1, 0, 1, 1, 1, 1, 0, 0, 1, 0, 0, 0, 1, 1, 1, 1, 1, 1, 1, 1, 1, 1, 1, 0, 1, 1, 1, 0, 1, 1, 0, 0, 0, 0, 1, 0, 0, 1, 0, 1, 1, 0, 0, 0, 1, 0, 0, 1, 0, 1, 0, 1, 0, 1, 0, 0, 1, 1, 1, 1, 1, 0, 1, 1, 1, 1, 1, 1, 1, 0, 1, 1, 1, 1, 0, 1, 1, 1, 1, 1, 0, 1, 0, 0, 1, 0, 1, 0, 0, 1, 0, 0, 0, 0, 0, 0, 1, 0, 1, 1, 0, 0, 1, 1, 0, 0, 1, 0, 1, 0, 0, 1, 1, 1, 1, 1, 1, 1, 1, 0, 0, 0, 1, 1, 0, 1, 1, 0, 1, 1, 0, 1, 1, 1, 1, 0, 1, 0, 0, 0, 1, 0, 0, 0, 1, 1, 0, 0, 1, 0, 1, 1, 1, 1, 0, 1, 0, 1, 1, 0, 0, 1, 0, 1, 0, 0, 1, 1, 0, 1, 1, 0, 0, 1, 1, 0, 1, 0, 1, 1, 1, 0, 0, 1, 0, 1, 1, 1, 1, 0, 0, 1, 0, 0, 0, 1, 1, 1, 1, 1, 1, 0, 1, 0, 1, 0, 0, 1, 1, 1, 0, 0, 1, 0, 1, 1, 1, 1, 1, 0, 1, 1, 0, 0, 1, 1, 0, 1, 1, 0, 0, 1, 0, 0, 1, 0, 1, 0, 0, 1, 1, 1, 1, 0, 1, 0, 0, 1, 1, 0, 0, 1, 1, 0, 0, 0, 0, 1, 1, 1, 0, 0, 1, 0, 1, 1, 1, 1, 1, 0, 0, 1, 0, 0, 1, 1, 1, 0, 0, 0, 1, 0, 1, 1, 0, 1, 0, 0, 1, 0, 0, 1, 0, 0, 0, 1, 1, 0, 0, 1, 1, 1, 1, 0, 0, 1, 1, 0, 0, 1, 0, 1, 1, 1, 0, 0, 0, 0, 1, 0, 1, 0, 0, 1, 1, 1, 0, 0, 0, 0, 0, 0, 0, 1, 1, 1, 1, 0, 1, 0, 0, 1, 0, 1, 0, 1, 1, 0, 0, 0, 0, 0, 0, 0, 1, 0, 1, 1, 1, 0, 0, 1, 0, 1, 1, 1, 1, 1, 1, 0, 1, 0, 0, 0, 1, 1, 1, 1, 1, 1, 0, 1, 1, 1, 1, 0, 1, 1, 0, 1, 1, 1, 0, 0, 1, 0, 0, 1, 0, 0, 0, 0, 1, 0, 0, 0, 0, 1, 1, 0, 1, 1, 1, 1, 0, 0, 0, 1, 1, 0, 0, 1, 0, 0, 0, 0, 1, 0, 0, 1, 1, 1, 0, 1, 1, 1, 1, 1, 1, 1, 0, 0, 1, 0, 1, 1, 1, 0, 0, 1, 0, 0, 1, 0, 0, 0, 0, 0, 1, 1, 1, 1, 1, 1, 0, 1, 1, 1, 1, 1, 1, 1, 1, 1, 1, 0, 0, 1, 1, 1, 1, 0, 0, 1, 0, 1, 1, 1, 1, 1, 0, 1, 0, 1, 1, 0, 1, 0, 0, 0, 1, 1, 0, 0, 0, 1, 0, 1, 1, 1, 0, 1, 0, 0, 0, 1, 1, 0, 0, 1, 0, 1, 1, 1, 1, 0, 1, 1, 0, 1, 1, 1, 0, 0, 0, 0, 0, 1, 1, 0, 0, 0, 1, 0, 1, 0, 1, 0, 1, 0, 0, 0, 1, 1, 1, 0, 1, 1, 1, 0, 1, 1, 1, 0, 1, 0, 1, 1, 1, 1, 1, 1, 1, 1, 1, 1, 1, 1, 1, 1, 1, 1, 1, 1, 0, 0, 0, 1, 1, 1, 0, 1, 1, 0, 0, 1, 1, 1, 1, 1, 1, 0, 1, 0, 0, 0, 1, 0, 1, 1, 1, 1, 0, 0, 1, 1, 1, 0, 0, 0, 1, 1, 1, 0, 0, 1, 1, 1, 1, 0, 1, 0, 1, 1, 1, 1, 0, 1, 1, 1, 0, 1, 0, 1, 1, 0, 1, 0, 1, 0, 1, 0, 1, 1, 1, 0, 0, 1, 0, 0, 0, 1, 1, 1, 0, 0, 1, 0, 1, 0, 1, 0, 0, 1, 1, 1, 0, 0, 1, 0, 1, 0, 1, 0, 1, 0, 1, 0, 1, 1, 0, 0, 0, 0, 0, 1, 1, 1, 1, 1, 1, 1, 0, 1, 1, 0, 1, 1, 1, 1, 0, 1, 1, 1, 1, 0, 0, 1, 1, 0, 0, 1, 1, 0, 0, 0, 1, 0, 1, 1, 0, 0, 0, 0, 0, 1, 0, 1, 0, 1, 1, 0, 1, 0, 1, 0, 1, 1, 1, 0, 1, 0, 1, 0, 1, 1, 0, 0, 1, 1, 0, 0, 1, 1, 1, 0, 0, 0, 0, 0, 1, 1, 1, 1, 1, 0, 1, 1, 1, 1, 0, 0, 1, 1, 1, 0, 0, 1, 0, 1, 1, 0, 1, 0, 0, 1, 1, 1, 1, 1, 0, 0, 0, 0, 1, 1, 1, 1, 0, 1, 1, 0, 1, 0, 1, 1, 0, 0, 1, 1, 0, 1, 0, 1, 1, 1, 0, 0, 1, 1, 1, 0, 1, 0, 0, 1, 1, 1, 0, 1, 0, 1, 1, 1, 0, 0, 1, 0, 1, 1, 1, 1, 1, 1, 1, 1, 0, 1, 1, 1, 1, 0, 1, 0, 1, 1, 1, 1, 1, 0, 0, 0, 0, 1, 0, 0, 0, 1, 1, 0, 1, 1, 0, 1, 1, 1, 0, 0, 0, 0, 0, 1, 0, 1, 0, 0, 1, 1, 1, 1, 1, 1, 0, 1, 0, 1, 0, 1, 1, 0, 0, 0, 1, 1, 0, 1, 1, 1, 1, 1, 1, 1, 1, 0, 1, 1, 0, 0, 0, 1, 1, 0, 1, 0, 1, 1, 0, 1, 1, 1, 0, 0, 1, 0, 0, 0, 0, 1, 1, 0, 1, 1, 1, 1, 1, 1, 1, 1, 0, 1, 1, 1, 0, 0, 1, 1, 1, 1, 1, 1, 1, 0, 0, 1, 1, 1, 0, 1, 0, 1, 0, 0, 0, 1, 0, 1, 0, 0, 1, 0, 1, 1, 1, 1, 1, 0, 0, 0, 1, 1, 1, 1, 1, 1, 1, 1, 1, 1, 1, 1, 1, 0, 0, 1, 0, 1, 1, 1, 0, 0, 1, 0, 1, 0, 1, 1, 1, 0, 0, 1, 0, 1, 0, 1, 0, 1, 0, 1, 0, 0, 0, 1, 0, 0, 0, 1, 0, 1, 0, 0, 1, 0, 0, 1, 1, 1, 1, 1, 1, 1, 1, 0, 1, 1, 0, 1, 1, 0, 1, 1, 1, 1, 1, 0, 0, 0, 1, 1, 1, 0, 1, 1, 1, 0, 1, 1, 1, 0, 0, 0, 1, 1, 0, 0, 1, 1, 1, 0, 0, 1, 0, 0, 0, 1, 1, 1, 0, 1, 0, 0, 1, 0, 1, 1, 1, 0, 1, 0, 0, 1, 0, 1, 0, 1, 1, 0, 1, 1, 1, 0, 1, 0, 0, 0, 0, 1, 1, 0, 1, 1, 0, 1, 0, 1, 1, 0, 0, 1, 1, 1, 1, 1, 1, 1, 1, 1, 0, 0, 0, 0, 0, 0, 1, 0, 1, 1, 1, 0, 1, 1, 1, 1, 1, 0, 1, 1, 1, 0, 0, 1, 0, 1, 1, 0, 0, 0, 1, 1, 1, 1, 0, 1, 0, 0, 0, 1, 0, 1, 0, 1, 0, 1, 1, 0, 1, 1, 0, 1, 1, 1, 0, 1, 0, 0, 1, 1, 0, 0, 0, 1, 0, 1, 0, 1, 0, 1, 0, 0, 0, 1, 1, 0, 1, 0, 0, 1, 0, 0, 1, 0, 1, 1, 0, 1, 1, 0, 1, 0, 1, 0, 1, 1, 1, 1, 1, 1, 1, 1, 1, 1, 0, 1, 1, 1, 1, 1, 1, 0, 0, 1, 1, 1, 1, 0, 0, 1, 1, 0, 1, 1, 0, 0, 1, 1, 1, 0, 1, 1, 1, 1, 1, 0, 0, 1, 1, 0, 0, 1, 1, 1, 1, 0, 0, 1, 1, 1, 1, 0, 0, 1, 1, 1, 1, 1, 1, 0, 0, 0, 0, 1, 0, 1, 1, 1, 0, 1, 1, 1, 1, 0, 0, 0, 1, 0, 1, 0, 1, 0, 1, 0, 0, 1, 1, 1, 1, 1, 1, 1, 0, 1, 0, 1, 1, 0, 1, 1, 1, 1, 0, 0, 0, 1, 1, 1, 0, 1, 0, 0, 1, 0, 1, 0, 1, 0, 1, 0, 1, 0, 1, 0, 1, 0, 1, 0, 0, 0, 1, 0, 1, 1, 1, 1, 0, 0, 1, 0, 1, 1, 0, 0, 0, 1, 1, 0, 1, 0, 0, 1, 1, 1, 0, 1, 0, 1, 1, 0, 0, 1, 0, 1, 0, 1, 0, 1, 0, 0, 0, 1, 1, 0, 0, 1, 1, 1, 0, 1, 1, 1, 1, 0, 0, 0, 1, 0, 1, 1, 1, 1, 0, 1, 0, 0, 1, 1, 1, 1, 0, 1, 1, 0, 0, 1, 0, 0, 1, 1, 1, 1, 0, 1, 1, 1, 1, 1, 0, 0, 0, 1, 0, 1, 1, 1, 1, 0, 1, 1, 1, 1, 1, 1, 1, 0, 1, 0, 1, 1, 0, 1, 1, 1, 1, 1, 1, 0, 0, 1, 1, 1, 1, 1, 1, 0, 1, 0, 1, 1, 0, 0, 1, 0, 0, 0, 1, 1, 0, 0, 0, 0, 1, 0, 0, 1, 0, 1, 1, 1, 0, 0, 0, 0, 1, 0, 0, 0, 1, 0, 0, 1, 1, 1, 1, 1, 0, 0, 1, 1, 0, 1, 1, 0, 1, 1, 0, 0, 1, 0, 1, 0, 0, 1, 1, 0, 1, 1, 1, 1, 1, 1, 1, 1, 0, 1, 1, 1, 0, 1, 0, 0, 1, 1, 1, 0, 1, 0, 1, 1, 1, 1, 0, 0, 1, 1, 0, 0, 0, 1, 1, 0, 1, 1, 0, 0, 1, 1, 0, 1, 1, 0, 1, 0, 1, 1, 0, 0, 0, 1, 0, 0, 0, 1, 1, 0, 1, 0, 1, 1, 1, 0, 1, 0, 1, 1, 1, 0, 1, 0, 1, 0, 1, 1, 0, 0, 0, 1, 1, 1, 0, 1, 1, 0, 0, 1, 1, 1, 1, 1, 0, 1, 0, 1, 0, 0, 1, 1, 1, 1, 1, 1, 1, 1, 0, 0, 0, 0, 1, 1, 0, 0, 1, 1, 0, 0, 0, 0, 0, 0, 0, 0, 0, 1, 0, 1, 1, 1, 0, 0, 1, 0, 1, 1, 1, 1, 1, 1, 0, 1, 0, 0, 0, 1, 0, 0, 1, 0, 0, 1, 0, 1, 1, 1, 1, 0, 1, 1, 0, 0, 0, 0, 0, 1, 0, 1, 0, 1, 0, 0, 0, 1, 0, 1, 0, 1, 1, 0, 1, 0, 1, 1, 0, 1, 1, 1, 1, 0, 1, 1, 0, 1, 1, 1, 0, 1, 0, 0, 0, 0, 1, 1, 1, 1, 1, 1, 1, 0, 1, 1, 0, 1, 0, 0, 0, 0, 1, 1, 1, 0, 0, 1, 1, 1, 0, 0, 0, 0, 1, 0, 1, 0, 0, 1, 1, 1, 1, 0, 0, 0, 0, 0, 1, 0, 1, 0, 0, 1, 1, 1, 0, 1, 0, 1, 1, 1, 0, 0, 1, 0, 0, 0, 1, 1, 0, 1, 1, 1, 1, 0, 1, 1, 1, 1, 1, 1, 1, 1, 1, 0, 0, 1, 1, 1, 0, 1, 1, 1, 1, 1, 1, 1, 0, 0, 1, 1, 1, 1, 1, 0, 1, 1, 0, 0, 1, 1, 0, 1, 0, 1, 1, 1, 1, 0, 0, 1, 1, 1, 0, 1, 1, 0, 1, 1, 1, 1, 0, 0, 1, 0, 0, 1, 1, 1, 1, 0, 1, 1, 0, 0, 0, 0, 1, 1, 1, 0, 0, 0, 1, 0, 1, 1, 1, 1, 0, 1, 1, 1, 1, 1, 1, 1, 1, 1, 1, 0, 1, 0, 0, 1, 1, 1, 1, 0, 1, 0, 0, 0, 1, 1, 1, 1, 0, 1, 1, 1, 1, 0, 0, 1, 1, 1, 1, 1, 1, 0, 0, 1, 1, 0, 1, 1, 0, 0, 1, 1, 0, 0, 1, 0, 1, 1, 1, 0, 1, 1, 1, 1, 1, 1, 1, 1, 1, 0, 1, 1, 0, 1, 1, 1, 1, 0, 1, 0, 0, 0, 1, 1, 1, 1, 1, 0, 1, 1, 1, 1, 0, 0, 1, 1, 1, 0, 1, 1, 1, 1, 0, 1, 0, 1, 1, 1, 1, 0, 0, 0, 0, 1, 0, 1, 1, 1, 0, 1, 1, 1, 1, 1, 0, 0, 1, 0, 0, 0, 1, 0, 1, 1, 1, 0, 0, 0, 0, 1, 0, 1, 1, 1, 1, 1, 0, 1, 1, 0, 1, 1, 0, 1, 1, 0, 0, 1, 0, 0, 0, 1, 0, 0, 1, 1, 0, 0, 1, 1, 1, 1, 1, 1, 1, 1, 0, 0, 0, 0, 0, 1, 1, 0, 1, 0, 0, 0, 0, 1, 1, 1, 0, 1, 0, 0, 1, 0, 0, 1, 1, 1, 1, 1, 1, 0, 0, 1, 1, 1, 0, 1, 0, 0, 0, 1, 1, 0, 1, 0, 1, 0, 1, 1, 0, 0, 1, 1, 1, 1, 1, 1, 1, 1, 1, 0, 0, 0, 1, 1, 1, 1, 1, 0, 1, 1, 0, 1, 1, 0, 1, 0, 1, 1, 1, 1, 1, 0, 1, 0, 1, 1, 0, 0, 1, 1, 0, 1, 1, 0, 1, 1, 1, 1, 1, 0, 0, 1, 1, 1, 1, 1, 1, 1, 0, 0, 1, 1, 0, 0, 0, 1, 1, 1, 1, 1, 1, 0, 1, 1, 1, 1, 0, 0, 1, 0, 1, 0, 1, 0, 0, 1, 1, 1, 0, 0, 0, 1, 0, 0, 0, 1, 1, 0, 0, 1, 1, 1, 0, 0, 0, 0, 1, 0, 0, 0, 0, 0, 1, 1, 0, 0, 0, 1, 0, 1, 0, 0, 0, 1, 1, 0, 1, 1, 0, 1, 0, 0, 1, 1, 1, 0, 1, 0, 0, 1, 1, 0, 0, 0, 0, 0, 1, 1, 0, 1, 1, 1, 1, 1, 0, 1, 0, 1, 0, 1, 1, 1, 0, 0, 1, 0, 0, 1, 0, 0, 1, 0, 0, 0, 1, 0, 0, 0, 1, 0, 0, 0, 1, 0, 0, 0, 1, 0, 0, 1, 1, 1, 1, 1, 0, 1, 0, 1, 1, 0, 1, 1, 0, 0, 1, 1, 1, 0, 1, 1, 1, 1, 1, 1, 1, 0, 1, 1, 1, 1, 0, 0, 1, 1, 0, 1, 0, 0, 1, 0, 1, 0, 1, 1, 1, 0, 1, 1, 0, 1, 1, 1, 0, 1, 1, 1, 1, 0, 1, 1, 1, 1, 0, 1, 1, 1, 1, 0, 1, 1, 0, 1, 1, 1, 0, 1, 1, 1, 1, 1, 1, 0, 0, 1, 1, 1, 1, 0, 0, 1, 1, 0, 1, 1, 1, 1, 0, 0, 0, 1, 0, 1, 0, 1, 1, 1, 1, 1, 1, 0, 0, 1, 1, 0, 1, 1, 0, 1, 1, 0, 1, 0, 0, 1, 1, 0, 1, 1, 1, 0, 1, 1, 1, 1, 0, 1, 0, 1, 0, 1, 0, 1, 0, 0, 1, 1, 0, 1, 1, 0, 1, 1, 1, 0, 0, 0, 0, 0, 0, 1, 1, 1, 0, 1, 1, 0, 1, 1, 1, 1, 1, 1, 1, 0, 0, 1, 0, 1, 0, 0, 1, 1, 1, 0, 1, 0, 1, 1, 1, 1, 0, 1, 1, 1, 0, 1, 1, 1, 1, 0, 1, 1, 0, 0, 1, 0, 1, 1, 1, 0, 0, 1, 1, 1, 0, 1, 1, 1, 0, 0, 0, 0, 1, 0, 1, 1, 1, 1, 1, 1, 1, 1, 1, 1, 0, 1, 1, 0, 1, 1, 1, 0, 1, 1, 0, 1, 1, 1, 1, 1, 1, 0, 1, 0, 0, 1, 0, 1, 0, 0, 1, 1, 1, 1, 1, 1, 1, 1, 1, 1, 1, 1, 1, 0, 1, 0, 0, 0, 0, 1, 1, 0, 1, 1, 0, 1, 1, 0, 1, 1, 0, 1, 1, 0, 1, 1, 1, 1, 1, 1, 1, 0, 0, 1, 1, 0, 0, 0, 1, 1, 0, 1, 1, 0, 1, 1, 0, 1, 1, 1, 0, 1, 1, 1, 1, 1, 0, 0, 1, 0, 1, 1, 0, 0, 1, 1, 1, 0, 0, 1, 1, 0, 0, 1, 1, 1, 0, 1, 1, 0, 1, 0, 0, 0, 0, 1, 0, 1, 1, 0, 1, 1, 1, 1, 0, 1, 0, 1, 0, 0, 1, 0, 1, 1, 1, 1, 1, 1, 1, 1, 0, 1, 0, 0, 0, 1, 1, 0, 1, 0, 1, 1, 1, 0, 1, 1, 1, 0, 1, 0, 1, 0, 0, 1, 1, 0, 0, 1, 1, 1, 0, 0, 1, 1, 0, 1, 0, 1, 0, 0, 1, 0, 1, 0, 1, 1, 1, 0, 1, 0, 1, 1, 1, 0, 1, 1, 1, 0, 0, 1, 1, 0, 1, 1, 0, 1, 0, 1, 1, 0, 1, 1, 1, 0, 0, 1, 0, 1, 1, 0, 0, 0, 1, 1, 1, 1, 1, 1, 1, 1, 1, 0, 1, 1, 0, 0, 1, 1, 1, 0, 0, 0, 1, 1, 0, 1, 1, 1, 0, 0, 0, 0, 0, 1, 1, 1, 0, 0, 0, 0, 0, 1, 1, 1, 0, 0, 1, 1, 1, 1, 0, 1, 0, 1, 0, 0, 0, 0, 0, 0, 0, 1, 0, 0, 0, 1, 1, 1, 1, 0, 0, 1, 0, 1, 1, 1, 0, 1, 1, 1, 1, 0, 0, 1, 1, 1, 0, 1, 0, 1, 0, 0, 1, 1, 0, 1, 1, 0, 0, 1, 1, 1, 0, 1, 0, 0, 1, 1, 1, 0, 1, 1, 1, 1, 1, 0, 0, 1, 0, 1, 0, 1, 0, 0, 1, 0, 0, 1, 0, 0, 0, 0, 1, 0, 0, 1, 1, 1, 1, 0, 0, 0, 0, 1, 0, 1, 1, 0, 1, 0, 1, 1, 1, 1, 1, 0, 0, 1, 1, 1, 1, 0, 1, 0, 0, 1, 1, 0, 1, 0, 1, 1, 0, 1, 0, 1, 0, 0, 1, 1, 0, 0, 0, 1, 1, 0, 0, 0, 1, 1, 1, 1, 0, 0, 1, 0, 0, 1, 1, 0, 1, 1, 1, 0, 0, 0, 1, 1, 1, 1, 0, 0, 1, 0, 1, 1, 1, 1, 1, 0, 1, 1, 1, 0, 1, 1, 1, 1, 1, 1, 1, 0, 0, 1, 1, 1, 0, 1, 1, 1, 0, 0, 1, 1, 1, 1, 1, 0, 1, 1, 0, 0, 0, 1, 0, 1, 1, 1, 1, 0, 1, 1, 1, 1, 1, 0, 0, 0, 0, 1, 0, 1, 1, 1, 1, 1, 1, 0, 0, 0, 0, 0, 0, 0, 1, 0, 0, 1, 0, 1, 1, 0, 1, 0, 1, 0, 1, 0, 1, 0, 0, 1, 1, 1, 1, 0, 0, 0, 1, 0, 0, 0, 0, 1, 1, 0, 0, 0, 1, 0, 1, 0, 0, 1, 0, 1, 1, 1, 1, 0, 1, 1, 0, 0, 0, 1, 1, 1, 1, 1, 1, 1, 0, 1, 1, 1, 1, 1, 1, 0, 1, 1, 1, 0, 1, 0, 1, 0, 0, 0, 1, 1, 1, 0, 1, 1, 1, 0, 1, 1, 1, 0, 1, 1, 0, 0, 0, 1, 0, 1, 0, 0, 1, 1, 0, 0, 1, 0, 1, 1, 1, 1, 1, 0, 0, 1, 1, 1, 1, 1, 1, 0, 1, 0, 0, 1, 1, 0, 1, 0, 1, 0, 0, 1, 1, 0, 0, 0, 1, 1, 1, 1, 0, 1, 0, 1, 1, 1, 1, 1, 0, 1, 1, 1, 1, 1, 0, 0, 0, 0, 0, 0, 0, 0, 0, 1, 1, 0, 1, 1, 1, 0, 1, 0, 1, 0, 0, 1, 1, 1, 0, 0, 0, 1, 1, 0, 0, 1, 1, 1, 0, 0, 1, 1, 0, 0, 0, 1, 1, 0, 0, 0, 1, 0, 1, 0, 1, 1, 0, 1, 0, 1, 1, 0, 1, 0, 0, 1, 1, 1, 1, 0, 1, 0, 0, 0, 1, 1, 0, 0, 0, 1, 1, 1, 1, 0, 1, 0, 1, 0, 1, 1, 1, 1, 0, 0, 0, 1, 0, 1, 0, 1, 0, 0, 1, 1, 1, 1, 1, 1, 0, 0, 0, 1, 0, 1, 0, 0, 0, 0, 0, 1, 1, 1, 1, 1, 0, 0, 1, 1, 1, 0, 0, 1, 1, 1, 1, 1, 0, 0, 0, 0, 0, 1, 1, 0, 1, 0, 1, 1, 1, 1, 1, 1, 0, 0, 1, 1, 1, 1, 1, 0, 1, 1, 0, 1, 1, 0, 1, 0, 0, 0, 1, 1, 1, 0, 1, 1, 0, 0, 1, 1, 0, 1, 0, 1, 1, 1, 1, 1, 0, 0, 0, 1, 0, 0, 0, 1, 1, 0, 1, 1, 1, 1, 0, 0, 1, 1, 0, 1, 1, 1, 0, 1, 0, 1, 1, 1, 1, 1, 1, 1, 0, 0, 0, 1, 0, 0, 1, 1, 1, 0, 0, 0, 0, 1, 0, 1, 0, 0, 0, 1, 1, 1, 1, 0, 1, 0, 0, 0, 1, 1, 0, 1, 0, 1, 1, 0, 0, 1, 0, 1, 0, 1, 0, 1, 1, 1, 1, 0, 0, 1, 1, 1, 0, 1, 0, 1, 0, 1, 1, 0, 1, 0, 0, 1, 1, 1, 1, 1, 0, 1, 1, 0, 0, 1, 1, 0, 1, 1, 1, 1, 0, 0, 0, 0, 0, 1, 1, 1, 1, 1, 0, 1, 0, 1, 0, 1, 1, 0, 1, 1, 1, 1, 1, 1, 0, 1, 1, 1, 1, 1, 1, 1, 0, 0, 0, 0, 0, 1, 0, 0, 1, 1, 1, 1, 0, 1, 0, 1, 0, 0, 0, 0, 1, 1, 1, 1, 1, 0, 1, 0, 0, 1, 0, 0, 1, 1, 1, 1, 1, 0, 0, 1, 1, 1, 1, 0, 1, 0, 1, 1, 0, 1, 0, 1, 0, 1, 1, 1, 1, 0, 1, 0, 0, 0, 1, 0, 0, 1, 0, 1, 1, 1, 0, 0, 1, 1, 1, 0, 0, 1, 0, 1, 1, 1, 1, 1, 0, 0, 0, 0, 0, 0, 1, 1, 1, 0, 1, 0, 1, 1, 0, 0, 0, 0, 0, 1, 1, 1, 1, 0, 1, 1, 1, 1, 1, 0, 1, 1, 1, 1, 1, 1, 0, 1, 0, 0, 1, 1, 1, 1, 0, 0, 1, 1, 1, 1, 0, 0, 1, 0, 0, 1, 1, 0, 0, 0, 1, 1, 1, 0, 0, 0, 1, 0, 1, 1, 1, 1, 1, 1, 0, 1, 1, 1, 1, 0, 0, 0, 1, 0, 1, 0, 1, 0, 0, 1, 1, 1, 0, 0, 1, 0, 1, 1, 0, 1, 0, 0, 1, 1, 1, 1, 0, 1, 1, 1, 0, 1, 1, 1, 1, 1, 1, 1, 1, 0, 1, 1, 1, 1, 1, 0, 0, 1, 0, 1, 0, 0, 0, 1, 0, 1, 0, 0, 0, 0, 0, 0, 0, 0, 1, 1, 0, 0, 0, 1, 0, 1, 0, 1, 0, 1, 0, 0, 1, 0, 1, 0, 1, 0, 1, 0, 0, 0, 1, 1, 1, 0, 0, 0, 1, 1, 0, 1, 1, 1, 1, 0, 0, 0, 1, 1, 0, 1, 0, 0, 0, 1, 1, 0, 0, 0, 1, 1, 1, 0, 0, 0, 0, 1, 0, 1, 1, 1, 0, 1, 0, 1, 0, 1, 0, 0, 1, 1, 1, 1, 1, 0, 1, 0, 1, 0, 0, 1, 0, 1, 0, 0, 1, 1, 1, 1, 0, 0, 0, 0, 1, 1, 1, 0, 0, 0, 1, 1, 1, 1, 0, 0, 0, 1, 1, 1, 0, 1, 1, 1, 1, 0, 0, 1, 1, 1, 0, 0, 1, 1, 0, 1, 1, 1, 0, 0, 1, 0, 0, 1, 1, 1, 1, 0, 0, 0, 0, 0, 1, 1, 1, 0, 0, 0, 1, 1, 1, 1, 0, 0, 0, 0, 0, 1, 0, 0, 1, 0, 1, 0, 1, 0, 1, 1, 0, 1, 0, 0, 1, 1, 0, 0, 1, 0, 0, 0, 1, 0, 1, 1, 0, 1, 1, 1, 1, 1, 1, 1, 1, 1, 0, 0, 0, 0, 0, 0, 0, 1, 1, 1, 1, 1, 1, 1, 0, 0, 1, 0, 1, 1, 0, 0, 1, 1, 0, 0, 0, 1, 1, 0, 0, 1, 1, 0, 0, 1, 1, 0, 0, 1, 0, 0, 1, 1, 0, 1, 0, 1, 1, 0, 1, 1, 1, 0, 1, 0, 0, 1, 0, 1, 1, 0, 1, 0, 0, 1, 1, 1, 1, 0, 0, 0, 0, 1, 0, 1, 1, 1, 0, 1, 1, 1, 1, 0, 1, 1, 1, 1, 1, 0, 0, 1, 1, 0, 1, 0, 1, 0, 1, 0, 1, 1, 1, 1, 1, 0, 1, 0, 0, 0, 1, 0, 0, 1, 0, 0, 0, 0, 0, 1, 1, 1, 1, 0, 0, 1, 1, 1, 1, 1, 0, 1, 1, 1, 0, 0, 0, 0, 0, 0, 1, 0, 0, 0, 0, 0, 0, 0, 0, 1, 0, 1, 0, 0, 1, 0, 1, 1, 1, 1, 1, 1, 0, 0, 1, 1, 1, 0, 0, 1, 0, 0, 1, 0, 1, 0, 1, 1, 1, 1, 1, 1, 1, 0, 1, 0, 1, 0, 0, 0, 1, 1, 1, 1, 1, 1, 1, 1, 1, 0, 1, 1, 1, 0, 1, 1, 1, 0, 1, 1, 1, 0, 1, 1, 0, 0, 1, 1, 0, 1, 1, 0, 1, 1, 1, 1, 1, 0, 1, 0, 1, 1, 1, 1, 1, 0, 1, 1, 0, 0, 0, 1, 0, 1, 0, 0, 1, 0, 0, 0, 0, 0, 1, 1, 1, 0, 0, 1, 0, 1, 0, 0, 1, 0, 1, 0, 0, 0, 1, 0, 1, 1, 1, 1, 0, 1, 0, 1, 1, 0, 1, 0, 1, 0, 1, 0, 1, 1, 0, 1, 0, 1, 1, 0, 0, 1, 1, 1, 1, 0, 0, 1, 1, 1, 1, 1, 0, 1, 1, 1, 1, 1, 0, 1, 0, 1, 0, 1, 1, 1, 0, 0, 1, 1, 0, 1, 0, 0, 0, 1, 0, 0, 1, 1, 1, 0, 1, 1, 1, 1, 1, 1, 1, 0, 1, 1, 0, 1, 1, 0, 1, 0, 0, 0, 1, 1, 0, 1, 1, 1, 1, 1, 1, 0, 0, 0, 1, 1, 0, 1, 0, 0, 0, 0, 1, 1, 1, 1, 0, 1, 0, 0, 1, 1, 0, 0, 0, 1, 1, 0, 1, 0, 1, 1, 1, 1, 1, 0, 0, 1, 0, 0, 1, 0, 0, 1, 1, 1, 0, 1, 1, 0, 1, 1, 1, 1, 1, 1, 1, 1, 1, 1, 1, 1, 0, 0, 1, 0, 1, 1, 1, 1, 1, 1, 1, 0, 0, 0, 1, 0, 1, 1, 1, 1, 0, 0, 1, 1, 0, 1, 0, 1, 1, 1, 1, 1, 0, 1, 1, 0, 1, 0, 1, 1, 1, 1, 0, 0, 0, 1, 1, 0, 1, 1, 1, 1, 0, 0, 0, 1, 0, 0, 0, 0, 1, 1, 1, 1, 0, 1, 1, 1, 0, 1, 1, 1, 0, 1, 0, 0, 1, 1, 0, 0, 0, 1, 0, 1, 0, 1, 1, 1, 1, 0, 1, 0, 1, 1, 1, 0, 0, 0, 1, 1, 1, 0, 0, 1, 1, 1, 0, 0, 1, 1, 1, 1, 1, 1, 1, 1, 0, 0, 1, 0, 1, 0, 0, 1, 1, 1, 1, 0, 0, 1, 1, 0, 1, 1, 1, 1, 1, 1, 1, 1, 0, 1, 1, 1, 1, 1, 1, 1, 1, 1, 0, 0, 0, 1, 1, 1, 1, 1, 1, 0, 1, 0, 1, 1, 1, 1, 1, 0, 1, 0, 1, 1, 0, 0, 0, 1, 0, 1, 0, 0, 1, 1, 0, 0, 1, 0, 0, 0, 0, 0, 1, 1, 1, 0, 0, 0, 1, 1, 1, 1, 1, 0, 1, 0, 1, 1, 1, 1, 1, 1, 1, 0, 0, 0, 1, 1, 1, 1, 1, 0, 0, 1, 0, 1, 1, 1, 0, 1, 0, 0, 0, 0, 1, 1, 0, 1, 0, 1, 1, 1, 1, 1, 1, 0, 1, 0, 0, 1, 1, 1, 0, 0, 0, 0, 1, 1, 1, 0, 0, 1, 1, 1, 0, 1, 1, 0, 1, 1, 0, 0, 0, 1, 0, 0, 0, 1, 1, 1, 1, 0, 1, 1, 1, 1, 0, 1, 1, 1, 1, 0, 1, 1, 0, 0, 1, 1, 0, 1, 0, 0, 1, 1, 0, 1, 0, 0, 0, 0, 0, 1, 0, 1, 0, 1, 0, 0, 0, 1, 0, 1, 1, 0, 1, 0, 0, 0, 1, 1, 0, 1, 1, 0, 1, 0, 0, 1, 1, 1, 1, 1, 0, 0, 0, 0, 0, 1, 1, 1, 1, 1, 1, 0, 1, 0, 1, 1, 1, 0, 1, 0, 1, 0, 1, 1, 1, 1, 1, 1, 1, 0, 1, 0, 1, 1, 1, 0, 1, 1, 1, 1, 1, 1, 1, 1, 0, 1, 1, 0, 0, 0, 1, 0, 0, 1, 1, 1, 0, 1, 0, 0, 1, 0, 1, 0, 1, 1, 1, 0, 0, 0, 0, 1, 1, 1, 0, 1, 0, 1, 1, 0, 1, 1, 0, 1, 1, 1, 0, 1, 1, 1, 1, 1, 0, 0, 1, 0, 1, 1, 1, 0, 1, 1, 1, 1, 0, 1, 1, 0, 0, 0, 0, 1, 0, 0, 0, 1, 1, 1, 0, 1, 1, 0, 1, 1, 0, 0, 0, 0, 1, 0, 0, 0, 1, 0, 1, 0, 1, 1, 0, 1, 1, 0, 1, 1, 1, 0, 0, 0, 0, 1, 1, 1, 0, 0, 0, 1, 1, 1, 1, 1, 1, 1, 0, 1, 0, 0, 1, 0, 1, 0, 1, 0, 0, 1, 1, 0, 0, 0, 1, 1, 1, 1, 1, 1, 1, 0, 0, 0, 0, 1, 1, 1, 1, 1, 1, 0, 1, 0, 1, 0, 1, 1, 0, 0, 1, 1, 0, 1, 1, 1, 1, 0, 1, 1, 0, 1, 1, 1, 1, 1, 0, 1, 1, 1, 0, 1, 1, 1, 1, 0, 0, 0, 1, 0, 0, 0, 1, 1, 1, 0, 1, 0, 1, 1, 1, 1, 1, 0, 1, 0, 1, 0, 1, 1, 1, 0, 1, 0, 1, 1, 0, 0, 0, 0, 1, 1, 1, 1, 1, 1, 0, 0, 1, 0, 0, 0, 1, 1, 1, 0, 0, 1, 1, 0, 0, 1, 1, 1, 0, 1, 0, 0, 1, 1, 0, 0, 0, 0, 0, 0, 1, 0, 0, 1, 1, 0, 1, 0, 1, 0, 0, 1, 1, 1, 1, 1, 0, 1, 1, 1, 1, 0, 1, 0, 1, 0, 0, 0, 1, 1, 0, 0, 1, 0, 1, 0, 0, 1, 1, 1, 0, 0, 1, 0, 0, 0, 1, 1, 0, 0, 0, 1, 0, 0, 0, 0, 1, 1, 1, 1, 1, 1, 0, 1, 1, 1, 0, 0, 0, 0, 0, 1, 0, 0, 1, 1, 1, 0, 1, 0, 1, 1, 1, 0, 1, 0, 0, 0, 1, 1, 0, 0, 1, 1, 1, 0, 0, 0, 1, 1, 1, 0, 1, 0, 0, 0, 0, 1, 1, 0, 1, 1, 0, 0, 0, 1, 1, 0, 0, 0, 0, 0, 0, 1, 0, 0, 1, 0, 1, 0, 0, 0, 1, 1, 0, 1, 0, 0, 0, 0, 0, 1, 0, 0, 1, 1, 0, 1, 1, 1, 1, 1, 1, 1, 1, 1, 0, 1, 0, 1, 1, 0, 0, 1, 1, 1, 0, 1, 1, 1, 1, 1, 1, 0, 1, 1, 1, 1, 1, 1, 1, 0, 0, 1, 1, 1, 0, 1, 1, 0, 1, 1, 0, 1, 1, 1, 1, 1, 1, 0, 0, 1, 0, 1, 0, 0, 1, 1, 0, 0, 1, 0, 1, 0, 1, 1, 0, 1, 1, 1, 1, 1, 0, 0, 0, 1, 0, 1, 1, 1, 0, 1, 0, 0, 0, 0, 1, 0, 1, 0, 1, 0, 0, 1, 1, 1, 0, 1, 0, 0, 0, 0, 0, 1, 0, 0, 1, 1, 1, 1, 1, 0, 1, 1, 1, 1, 0, 0, 0, 0, 1, 1, 0, 1, 1, 1, 0, 1, 0, 0, 1, 0, 0, 1, 0, 1, 1, 1, 1, 1, 1, 0, 0, 0, 1, 1, 0, 1, 0, 0, 1, 1, 0, 0, 1, 1, 1, 1, 1, 0, 1, 0, 1, 0, 1, 0, 1, 0, 0, 0, 0, 0, 1, 0, 0, 1, 1, 1, 1, 1, 1, 1, 0, 1, 0, 1, 1, 1, 0, 1, 0, 0, 1, 0, 1, 0, 0, 0, 0, 1, 1, 0, 0, 1, 1, 1, 1, 1, 0, 0, 1, 0, 0, 0, 1, 1, 1, 0, 1, 1, 1, 1, 0, 1, 1, 0, 1, 0, 0, 1, 1, 1, 0, 1, 0, 0, 1, 0, 0, 1, 0, 0, 1, 0, 0, 1, 0, 1, 0, 0, 1, 1, 0, 0, 1, 0, 0, 1, 1, 1, 0, 1, 1, 1, 1, 1, 1, 0, 1, 0, 1, 1, 1, 1, 0, 0, 1, 0, 0, 1, 1, 1, 0, 1, 0, 1, 1, 0, 0, 0, 1, 1, 0, 1, 0, 0, 1, 1, 1, 0, 0, 1, 1, 1, 0, 0, 1, 1, 0, 1, 0, 1, 0, 1, 1, 0, 1, 0, 0, 1, 1, 0, 0, 1, 1, 0, 1, 1, 0, 1, 1, 1, 1, 1, 1, 1, 1, 0, 0, 0, 1, 0, 0, 0, 0, 1, 0, 1, 0, 0, 1, 1, 1, 1, 1, 1, 1, 1, 0, 0, 1, 1, 0, 1, 1, 1, 1, 1, 1, 1, 0, 1, 1, 0, 0, 1, 1, 1, 1, 0, 1, 1, 0, 0, 0, 1, 0, 1, 0, 0, 0, 1, 0, 1, 1, 1, 0, 1, 0, 0, 0, 1, 0, 0, 1, 1, 1, 1, 1, 0, 1, 0, 1, 0, 1, 1, 1, 0, 0, 0, 1, 1, 0, 1, 0, 0, 1, 1, 1, 1, 1, 0, 1, 0, 1, 1, 0, 1, 0, 1, 1, 0, 0, 1, 0, 0, 1, 0, 0, 1, 0, 1, 0, 1, 1, 1, 0, 1, 1, 0, 1, 0, 0, 0, 0, 0, 1, 0, 1, 0, 0, 1, 0, 1, 1, 1, 1, 0, 1, 1, 0, 0, 0, 1, 1, 0, 1, 1, 1, 1, 1, 0, 1, 1, 0, 0, 0, 1, 1, 0, 0, 1, 1, 1, 0, 1, 1, 1, 1, 0, 1, 1, 1, 0, 1, 1, 1, 1, 0, 1, 1, 1, 1, 1, 1, 0, 1, 0, 1, 1, 1, 1, 0, 0, 1, 0, 1, 1, 0, 0, 0, 1, 1, 1, 1, 0, 0, 1, 1, 1, 1, 1, 1, 1, 1, 0, 1, 1, 1, 0, 1, 0, 1, 0, 1, 0, 1, 0, 0, 1, 1, 1, 0, 0, 1, 1, 0, 0, 1, 1, 1, 1, 0, 1, 1, 1, 1, 1, 1, 0, 0, 0, 1, 1, 0, 1, 0, 0, 1, 1, 0, 1, 1, 1, 0, 1, 1, 1, 1, 0, 0, 0, 1, 0, 1, 0, 0, 1, 1, 1, 1, 0, 0, 1, 1, 0, 1, 0, 1, 1, 0, 0, 0, 1, 0, 1, 0, 0, 1, 1, 0, 0, 0, 1, 1, 0, 0, 1, 1, 1, 1, 0, 1, 1, 1, 0, 1, 0, 1, 0, 1, 0, 0, 1, 1, 1, 1, 0, 0, 1, 1, 1, 1, 1, 0, 1, 0, 1, 0, 0, 0, 1, 0, 1, 0, 1, 0, 0, 1, 0, 1, 1, 1, 1, 1, 1, 0, 0, 0, 1, 1, 0, 1, 1, 1, 0, 0, 1, 1, 0, 0, 0, 0, 1, 0, 0, 1, 1, 0, 0, 1, 0, 0, 1, 0, 0, 0, 1, 1, 0, 0, 1, 0, 1, 0, 1, 0, 1, 1, 0, 1, 0, 0, 0, 1, 0, 0, 1, 0, 1, 0, 1, 1, 1, 0, 0, 1, 1, 1, 0, 0, 1, 1, 1, 1, 0, 0, 0, 1, 0, 0, 0, 1, 0, 1, 1, 1, 1, 1, 1, 0, 1, 0, 0, 1, 0, 1, 0, 1, 1, 0, 0, 1, 1, 1, 0, 0, 0, 0, 1, 1, 1, 1, 1, 0, 1, 0, 1, 0, 0, 1, 0, 1, 0, 1, 0, 1, 1, 1, 1, 1, 0, 0, 1, 1, 1, 1, 1, 1, 1, 0, 0, 1, 1, 0, 0, 1, 1, 1, 1, 0, 0, 0, 0, 1, 1, 1, 1, 0, 0, 1, 0, 1, 1, 1, 1, 1, 1, 1, 0, 0, 0, 1, 1, 1, 0, 1, 1, 1, 1, 0, 1, 0, 0, 1, 1, 0, 0, 0, 0, 1, 0, 0, 0, 1, 1, 1, 0, 0, 1, 1, 0, 1, 1, 1, 1, 1, 0, 1, 1, 1, 1, 0, 1, 0, 0, 0, 1, 0, 0, 0, 1, 0, 1, 0, 0, 1, 1, 1, 1, 0, 1, 0, 0, 0, 0, 1, 1, 0, 0, 1, 1, 1, 1, 0, 1, 1, 0, 0, 1, 1, 1, 1, 0, 1, 0, 1, 1, 0, 0, 1, 0, 1, 0, 0, 1, 1, 1, 1, 0, 1, 1, 0, 1, 1, 1, 1, 0, 0, 0, 0, 0, 1, 1, 0, 1, 0, 1, 0, 1, 0, 1, 1, 0, 1, 0, 1, 0, 1, 1, 1, 1, 1, 1, 1, 0, 0, 1, 0, 0, 1, 1, 0, 1, 1, 0, 1, 1, 0, 1, 1, 1, 1, 1, 0, 0, 1, 1, 1, 1, 0, 0, 1, 1, 0, 0, 0, 0, 0, 1, 0, 0, 1, 1, 1, 1, 0, 1, 0, 0, 1, 0, 1, 1, 0, 0, 0, 1, 0, 0, 0, 0, 0, 1, 0, 0, 1, 1, 1, 1, 0, 0, 0, 0, 1, 1, 0, 0, 1, 1, 0, 0, 1, 1, 0, 0, 1, 1, 0, 0, 1, 1, 1, 0, 0, 0, 0, 1, 1, 1, 1, 1, 1, 1, 0, 1, 1, 1, 1, 1, 0, 1, 1, 1, 1, 1, 0, 1, 0, 1, 0, 1, 1, 1, 1, 1, 1, 1, 0, 0, 1, 0, 1, 1, 1, 1, 0, 1, 0, 1, 1, 1, 1, 1, 0, 1, 1, 1, 1, 0, 0, 0, 0, 1, 0, 0, 1, 1, 1, 1, 1, 0, 0, 1, 1, 0, 0, 1, 0, 1, 1, 1, 0, 0, 1, 0, 0, 1, 1, 1, 0, 0, 1, 1, 0, 1, 0, 1, 1, 1, 0, 1, 0, 1, 0, 1, 1, 1, 0, 1, 1, 1, 0, 1, 1, 1, 0, 1, 0, 1, 1, 1, 1, 1, 0, 0, 1, 1, 0, 0, 0, 0, 0, 1, 1, 0, 1, 1, 1, 1, 0, 1, 1, 1, 1, 1, 1, 0, 1, 0, 0, 1, 0, 1, 0, 1, 1, 0, 0, 1, 0, 1, 1, 0, 1, 0, 0, 0, 1, 0, 0, 1, 0, 0, 0, 1, 1, 0, 1, 0, 1, 1, 0, 0, 1, 0, 0, 0, 1, 1, 1, 0, 1, 0, 0, 0, 0, 1, 1, 1, 0, 1, 1, 1, 1, 1, 0, 1, 1, 1, 1, 0, 0, 1, 0, 0, 1, 1, 1, 1, 1, 0, 0, 1, 0, 1, 1, 1, 0, 0, 0, 1, 1, 0, 0, 1, 1, 1, 1, 1, 0, 1, 1, 1, 0, 0, 1, 1, 1, 1, 1, 1, 1, 1, 1, 1, 1, 0, 1, 1, 1, 0, 1, 1, 1, 1, 0, 0, 1, 1, 1, 0, 1, 1, 0, 0, 1, 0, 0, 0, 0, 1, 1, 0, 0, 0, 0, 1, 1, 1, 1, 1, 0, 0, 0, 0, 1, 1, 0, 1, 1, 1, 0, 0, 0, 1, 0, 1, 0, 1, 0, 1, 1, 1, 0, 0, 1, 1, 1, 1, 1, 1, 1, 0, 0, 1, 0, 0, 1, 1, 1, 1, 1, 1, 1, 1, 1, 1, 1, 0, 1, 1, 1, 1, 1, 1, 1, 1, 1, 1, 1, 1, 0, 1, 0, 0, 0, 0, 1, 0, 1, 0, 1, 0, 1, 0, 1, 1, 1, 0, 1, 1, 1, 0, 0, 0, 0, 0, 1, 0, 0, 1, 1, 0, 1, 1, 0, 1, 1, 1, 1, 0, 1, 0, 1, 1, 1, 1, 0, 1, 1, 1, 1, 0, 1, 0, 0, 0, 0, 1, 1, 1, 1, 0, 1, 0, 1, 0, 0, 1, 0, 1, 1, 0, 1, 1, 0, 0, 1, 0, 0, 0, 0, 0, 1, 0, 1, 0, 1, 0, 0, 0, 0, 0, 1, 0, 1, 0, 0, 0, 0, 0, 1, 1, 1, 1, 1, 1, 0, 0, 1, 1, 1, 0, 1, 1, 0, 1, 1, 0, 1, 1, 1, 1, 1, 1, 1, 0, 1, 1, 1, 0, 0, 1, 0, 0, 0, 0, 0, 0, 1, 0, 1, 1, 1, 0, 0, 0, 0, 0, 1, 1, 0, 1, 1, 0, 0, 1, 1, 0, 1, 0, 1, 1, 1, 1, 0, 1, 1, 0, 1, 0, 0, 1, 1, 1, 1, 1, 0, 1, 1, 0, 1, 1, 1, 0, 0, 1, 0, 1, 0, 1, 1, 1, 1, 1, 1, 1, 1, 0, 0, 1, 0, 0, 1, 0, 1, 1, 1, 0, 0, 0, 1, 1, 0, 0, 1, 0, 0, 0, 0, 1, 1, 0, 0, 0, 0, 1, 0, 0, 1, 0, 1, 0, 1, 0, 1, 1, 0, 1, 0, 0, 0, 0, 1, 0, 0, 1, 0, 1, 0, 1, 0, 1, 0, 1, 0, 0, 0, 0, 0, 1, 1, 1, 1, 1, 0, 0, 0, 1, 1, 0, 1, 0, 0, 1, 1, 1, 1, 1, 1, 1, 0, 1, 1, 0, 0, 1, 1, 1, 1, 1, 1, 0, 1, 1, 1, 1, 1, 1, 1, 0, 0, 0, 1, 0, 0, 0, 0, 1, 1, 0, 0, 1, 1, 1, 1, 1, 0, 1, 0, 0, 1, 1, 1, 1, 0, 0, 1, 1, 0, 0, 1, 1, 0, 0, 0, 0, 1, 0, 1, 1, 1, 1, 0, 1, 1, 1, 1, 1, 1, 0, 0, 0, 0, 1, 1, 1, 1, 1, 0, 1, 1, 1, 1, 1, 1, 0, 1, 1, 1, 1, 1, 1, 1, 0, 0, 1, 1, 1, 1, 1, 1, 0, 1, 0, 0, 1, 1, 1, 1, 0, 0, 0, 0, 1, 0, 1, 0, 0, 1, 1, 0, 1, 1, 1, 0, 0, 1, 1, 1, 1, 0, 0, 1, 1, 0, 0, 0, 1, 0, 0, 1, 1, 1, 1, 1, 1, 1, 1, 1, 1, 1, 1, 0, 0, 1, 1, 0, 1, 0, 1, 1, 0, 0, 1, 0, 0, 0, 0, 1, 0, 1, 0, 0, 1, 1, 1, 1, 1, 0, 1, 1, 1, 0, 1, 0, 1, 0, 0, 0, 0, 0, 1, 0, 0, 1, 1, 0, 1, 1, 1, 1, 1, 0, 1, 1, 0, 0, 0, 0, 0, 0, 0, 1, 0, 1, 0, 0, 0, 0, 1, 1, 1, 1, 0, 0, 0, 1, 1, 1, 0, 1, 0, 1, 0, 0, 0, 0, 1, 1, 0, 0, 0, 1, 1, 1, 1, 1, 1, 0, 1, 1, 0, 1, 1, 1, 0, 0, 0, 0, 1, 1, 1, 0, 0, 1, 0, 0, 1, 1, 1, 0, 0, 1, 1, 1, 1, 1, 1, 0, 1, 0, 1, 0, 1, 0, 0, 0, 1, 1, 1, 1, 0, 1, 1, 1, 0, 1, 1, 0, 1, 0, 0, 1, 0, 0, 1, 0, 0, 0, 1, 0, 0, 0, 0, 1, 1, 0, 1, 1, 1, 1, 0, 0, 1, 1, 1, 1, 1, 0, 1, 0, 1, 0, 1, 1, 1, 0, 1, 1, 1, 0, 1, 1, 1, 0, 1, 1, 1, 1, 1, 0, 1, 0, 0, 1, 0, 0, 1, 1, 0, 1, 1, 1, 1, 1, 1, 1, 1, 0, 1, 0, 1, 0, 1, 1, 1, 0, 1, 1, 0, 0, 1, 1, 1, 0, 1, 0, 0, 0, 1, 1, 1, 1, 1, 1, 1, 1, 0, 1, 1, 1, 0, 1, 0, 1, 1, 0, 1, 1, 1, 0, 1, 0, 0, 1, 1, 1, 1, 1, 0, 1, 0, 0, 1, 1, 0, 0, 0, 1, 0, 1, 0, 1, 1, 1, 0, 1, 1, 0, 0, 0, 0, 0, 0, 0, 0, 0, 0, 0, 1, 0, 1, 1, 1, 0, 0, 1, 1, 0, 1, 1, 1, 1, 0, 0, 1, 1, 1, 1, 1, 0, 0, 0, 0, 1, 0, 0, 0, 0, 1, 0, 1, 0, 1, 1, 0, 1, 1, 0, 0, 0, 0, 0, 1, 1, 0, 0, 0, 1, 1, 1, 0, 0, 0, 0, 0, 0, 1, 1, 1, 1, 1, 0, 0, 1, 1, 1, 1, 1, 0, 0, 0, 1, 1, 0, 1, 1, 1, 1, 0, 0, 1, 1, 0, 0, 0, 0, 0, 1, 1, 1, 1, 1, 1, 1, 1, 1, 0, 0, 0, 0, 1, 1, 1, 0, 0, 0, 0, 1, 1, 1, 1, 1, 0, 0, 0, 1, 1, 0, 1, 1, 1, 1, 1, 1, 1, 1, 1, 0, 1, 0, 1, 0, 0, 1, 0, 1, 0, 1, 1, 1, 0, 0, 0, 0, 1, 0, 0, 0, 1, 1, 1, 0, 1, 1, 0, 1, 1, 1, 1, 1, 1, 0, 1, 1, 1, 1, 1, 0, 0, 0, 1, 1, 1, 0, 0, 1, 1, 1, 0, 0, 0, 1, 0, 0, 0, 1, 1, 1, 1, 0, 1, 1, 1, 1, 1, 1, 0, 1, 0, 0, 0, 1, 1, 0, 1, 1, 1, 0, 1, 0, 0, 1, 0, 0, 1, 0, 0, 0, 0, 1, 1, 1, 1, 1, 0, 1, 1, 1, 1, 0, 0, 0, 1, 0, 0, 1, 1, 1, 1, 1, 1, 0, 1, 1, 0, 0, 0, 1, 0, 1, 1, 1, 0, 0, 1, 0, 0, 0, 0, 1, 1, 1, 1, 0, 0, 0, 0, 0, 1, 0, 1, 0, 1, 0, 1, 1, 0, 1, 1, 1, 0, 1, 1, 0, 0, 0, 1, 1, 0, 1, 0, 1, 1, 1, 0, 0, 0, 1, 1, 0, 1, 1, 1, 1, 1, 1, 1, 0, 1, 1, 1, 1, 1, 1, 1, 1, 1, 1, 0, 0, 0, 0, 0, 1, 1, 1, 0, 0, 1, 0, 1, 1, 0, 0, 0, 0, 1, 1, 0, 1, 1, 1, 0, 1, 1, 0, 0, 0, 1, 1, 1, 1, 1, 0, 1, 1, 1, 0, 1, 0, 1, 1, 0, 1, 1, 1, 0, 0, 1, 1, 1, 1, 1, 1, 0, 1, 0, 1, 0, 1, 1, 1, 1, 1, 0, 1, 0, 1, 1, 0, 1, 0, 1, 0, 1, 1, 0, 1, 1, 0, 1, 1, 0, 1, 1, 1, 1, 0, 1, 0, 0, 0, 1, 0, 0, 1, 1, 0, 0, 1, 1, 1, 1, 1, 0, 1, 0, 0, 1, 1, 0, 1, 1, 0, 0, 1, 0, 0, 1, 0, 1, 0, 0, 1, 1, 0, 0, 1, 1, 1, 0, 1, 0, 0, 0, 1, 1, 0, 0, 1, 1, 1, 1, 1, 0, 0, 1, 0, 1, 1, 1, 1, 0, 0, 0, 0, 1, 1, 1, 0, 0, 1, 0, 0, 0, 1, 0, 0, 0, 0, 1, 0, 0, 0, 0, 1, 1, 0, 1, 1, 0, 0, 1, 0, 0, 1, 1, 1, 0, 0, 1, 0, 1, 0, 1, 0, 0, 1, 1, 0, 0, 1, 1, 1, 1, 1, 1, 1, 1, 1, 0, 0, 1, 1, 1, 1, 0, 1, 1, 0, 0, 0, 1, 0, 0, 0, 0, 1, 0, 0, 0, 1, 1, 0, 1, 1, 1, 1, 0, 1, 1, 1, 1, 0, 0, 1, 1, 0, 0, 0, 0, 0, 1, 1, 1, 0, 1, 0, 1, 1, 1, 0, 0, 0, 0, 0, 0, 0, 0, 1, 1, 0, 0, 0, 1, 1, 1, 0, 1, 1, 0, 0, 1, 0, 1, 1, 1, 1, 0, 1, 1, 0, 0, 0, 1, 0, 1, 1, 1, 1, 1, 1, 1, 0, 1, 1, 0, 1, 0, 1, 1, 1, 0, 1, 0, 1, 1, 0, 0, 1, 0, 1, 0, 0, 1, 0, 1, 1, 0, 1, 0, 0, 1, 1, 1, 0, 0, 0, 0, 1, 0, 1, 1, 1, 0, 1, 1, 1, 1, 0, 1, 0, 0, 1, 1, 1, 1, 0, 1, 1, 1, 1, 0, 0, 0, 0, 0, 1, 0, 1, 1, 0, 1, 0, 1, 0, 1, 0, 1, 1, 1, 0, 1, 0, 1, 1, 0, 1, 0, 1, 1, 1, 0, 1, 1, 1, 1, 1, 0, 0, 1, 1, 1, 1, 1, 0, 1, 0, 0, 0, 0, 0, 1, 0, 0, 1, 1, 1, 1, 0, 1, 0, 0, 1, 1, 0, 0, 1, 0, 0, 1, 1, 0, 0, 1, 1, 1, 0, 1, 1, 1, 1, 0, 1, 1, 0, 0, 1, 0, 1, 1, 0, 0, 1, 0, 1, 1, 0, 0, 1, 1, 1, 1, 1, 0, 1, 0, 1, 1, 1, 1, 0, 1, 1, 0, 1, 1, 0, 1, 0, 0, 0, 1, 1, 0, 1, 1, 0, 1, 1, 1, 1, 0, 0, 0, 0, 0, 0, 1, 1, 0, 1, 0, 1, 0, 1, 1, 1, 0, 0, 0, 1, 1, 1, 1, 0, 1, 0, 1, 1, 0, 1, 1, 0, 1, 1, 0, 1, 0, 0, 0, 1, 1, 1, 0, 0, 1, 1, 0, 0, 1, 1, 1, 0, 0, 1, 1, 1, 0, 1, 1, 0, 1, 0, 0, 0, 0, 1, 1, 1, 0, 1, 0, 1, 0, 0, 0, 0, 0, 1, 0, 0, 0, 1, 1, 1, 0, 1, 1, 1, 1, 1, 1, 1, 1, 0, 0, 1, 1, 0, 0, 0, 1, 1, 0, 1, 1, 1, 1, 1, 1, 1, 1, 0, 0, 1, 1, 1, 1, 1, 1, 1, 0, 1, 0, 0, 0, 0, 1, 0, 0, 0, 1, 1, 0, 0, 1, 0, 1, 1, 1, 0, 1, 1, 1, 0, 1, 1, 1, 1, 0, 0, 1, 0, 1, 1, 1, 1, 1, 1, 1, 1, 0, 0, 1, 1, 1, 0, 1, 0, 1, 1, 0, 0, 1, 0, 0, 0, 1, 0, 1, 0, 1, 1, 0, 0, 1, 0, 0, 1, 1, 1, 0, 1, 0, 1, 0, 1, 1, 1, 1, 0, 0, 1, 1, 0, 1, 0, 0, 1, 1, 0, 0, 1, 1, 1, 0, 0, 1, 0, 0, 0, 0, 0, 1, 1, 0, 0, 1, 1, 1, 0, 1, 1, 0, 0, 0, 0, 1, 0, 1, 1, 1, 1, 1, 0, 1, 1, 1, 1, 1, 0, 1, 1, 1, 1, 0, 0, 1, 0, 1, 0, 0, 1, 1, 0, 0, 0, 0, 1, 0, 1, 0, 1, 1, 0, 1, 1, 1, 0, 1, 1, 0, 0, 1, 0, 0, 1, 1, 1, 1, 1, 0, 0, 1, 0, 1, 1, 1, 1, 0, 0, 1, 1, 0, 1, 0, 1, 1, 1, 0, 0, 1, 0, 1, 0, 1, 0, 1, 0, 1, 1, 1, 1, 1, 0, 0, 1, 1, 1, 1, 0, 1, 0, 0, 1, 0, 1, 1, 1, 0, 1, 1, 1, 0, 1, 1, 1, 1, 0, 1, 1, 1, 1, 0, 0, 1, 0, 0, 1, 0, 1, 0, 1, 1, 0, 1, 0, 0, 1, 1, 0, 0, 1, 0, 0, 0, 0, 1, 1, 0, 0, 0, 0, 1, 1, 0, 1, 1, 1, 1, 1, 0, 1, 1, 1, 0, 0, 0, 1, 1, 0, 1, 1, 0, 0, 0, 1, 1, 1, 0, 1, 0, 1, 0, 0, 1, 0, 0, 1, 1, 1, 0, 1, 1, 0, 0, 0, 0, 0, 1, 1, 1, 0, 1, 0, 1, 1, 0, 0, 1, 0, 0, 0, 1, 0, 1, 0, 0, 1, 1, 0, 0, 1, 1, 0, 1, 1, 1, 1, 1, 1, 1, 1, 1, 1, 1, 0, 1, 1, 1, 1, 1, 0, 0, 1, 0, 0, 1, 0, 1, 1, 1, 1, 1, 1, 0, 1, 0, 1, 0, 1, 1, 1, 1, 1, 1, 1, 1, 0, 0, 0, 1, 1, 1, 1, 0, 1, 1, 1, 1, 1, 1, 1, 0, 1, 1, 1, 1, 1, 0, 1, 1, 1, 1, 1, 0, 1, 0, 0, 0, 1, 0, 0, 0, 1, 0, 1, 1, 1, 1, 0, 1, 1, 1, 1, 1, 1, 0, 1, 0, 1, 1, 0, 0, 0, 1, 1, 0, 0, 0, 1, 0, 1, 1, 1, 0, 1, 0, 1, 1, 0, 0, 0, 1, 0, 1, 0, 0, 0, 0, 1, 1, 0, 0, 1, 0, 1, 1, 1, 0, 1, 1, 1, 1, 1, 1, 0, 1, 1, 1, 0, 1, 0, 1, 0, 1, 1, 0, 1, 1, 1, 1, 0, 1, 1, 1, 1, 1, 0, 0, 1, 0, 0, 0, 1, 1, 1, 0, 1, 1, 1, 0, 1, 1, 1, 1, 1, 0, 0, 1, 0, 1, 0, 1, 1, 0, 0, 1, 0, 1, 0, 1, 0, 0, 1, 0, 1, 0, 1, 1, 1, 1, 1, 0, 0, 0, 0, 1, 0, 0, 1, 1, 0, 0, 1, 0, 0, 1, 0, 1, 1, 1, 0, 1, 0, 1, 1, 1, 1, 1, 1, 0, 0, 0, 0, 1, 0, 0, 1, 1, 1, 0, 1, 0, 1, 1, 0, 0, 1, 0, 0, 1, 1, 1, 1, 1, 0, 0, 0, 1, 1, 1, 0, 1, 0, 1, 0, 1, 1, 1, 1, 0, 1, 1, 1, 1, 0, 1, 1, 0, 1, 1, 1, 0, 1, 0, 1, 0, 1, 0, 1, 1, 1, 0, 0, 0, 1, 0, 1, 1, 0, 0, 0, 0, 0, 0, 1, 0, 1, 1, 0, 0, 1, 1, 1, 1, 0, 1, 0, 0, 1, 0, 0, 1, 0, 0, 1, 0, 1, 1, 1, 0, 0, 0, 1, 0, 0, 0, 1, 1, 1, 0, 1, 0, 0, 1, 0, 1, 1, 1, 1, 1, 0, 1, 1, 1, 0, 1, 0, 1, 1, 0, 0, 1, 1, 0, 1, 0, 0, 1, 0, 0, 1, 0, 1, 1, 0, 1, 1, 1, 1, 0, 1, 1, 0, 1, 0, 1, 1, 1, 0, 0, 1, 1, 0, 0, 1, 0, 1, 0, 0, 1, 0, 1, 1, 0, 1, 1, 0, 1, 1, 0, 0, 1, 1, 1, 0, 1, 0, 0, 1, 1, 1, 1, 1, 0, 0, 1, 0, 1, 0, 1, 1, 0, 0, 0, 0, 1, 0, 0, 1, 0, 1, 1, 1, 0, 1, 1, 1, 1, 1, 0, 0, 1, 1, 1, 0, 1, 1, 0, 0, 1, 1, 1, 0, 0, 1, 0, 0, 1, 0, 1, 1, 1, 0, 0, 1, 0, 1, 0, 1, 1, 1, 1, 0, 0, 0, 1, 1, 1, 1, 0, 1, 1, 0, 0, 0, 0, 0, 0, 1, 0, 1, 0, 0, 0, 0, 0, 0, 1, 1, 1, 0, 1, 0, 1, 0, 0, 0, 0, 1, 0, 0, 0, 1, 1, 1, 0, 0, 1, 0, 1, 1, 1, 0, 0, 1, 1, 0, 1, 0, 0, 0, 1, 1, 0, 1, 1, 1, 1, 0, 1, 0, 0, 0, 0, 1, 0, 0, 1, 0, 1, 1, 1, 1, 1, 1, 1, 0, 0, 1, 1, 1, 0, 1, 0, 0, 0, 1, 1, 0, 0, 0, 0, 1, 1, 1, 1, 1, 1, 0, 1, 0, 0, 1, 0, 1, 1, 1, 1, 0, 1, 0, 1, 1, 0, 0, 1, 1, 0, 1, 1, 0, 1, 1, 0, 0, 0, 0, 1, 0, 1, 1, 1, 1, 0, 1, 1, 1, 0, 1, 1, 0, 0, 1, 1, 1, 1, 1, 0, 1, 1, 0, 0, 1, 1, 1, 0, 1, 0, 1, 0, 0, 1, 1, 0, 1, 0, 1, 0, 0, 1, 1, 0, 0, 1, 1, 1, 1, 1, 1, 1, 1, 1, 1, 0, 1, 1, 0, 1, 0, 0, 1, 0, 0, 0, 1, 1, 1, 1, 0, 1, 1, 1, 1, 0, 0, 1, 1, 0, 0, 0, 1, 0, 0, 1, 0, 0, 0, 1, 0, 1, 1, 1, 1, 1, 1, 1, 0, 1, 1, 1, 1, 0, 1, 0, 1, 1, 1, 1, 1, 1, 1, 1, 0, 0, 1, 0, 1, 1, 0, 0, 1, 1, 0, 1, 1, 1, 1, 1, 1, 1, 1, 0, 1, 0, 1, 1, 1, 0, 0, 0, 1, 1, 1, 1, 0, 0, 1, 1, 1, 1, 1, 0, 0, 0, 1, 0, 0, 0, 1, 1, 0, 1, 1, 1, 0, 0, 1, 1, 1, 1, 1, 1, 1, 1, 1, 1, 1, 0, 0, 1, 0, 1, 0, 1, 0, 1, 1, 1, 1, 1, 1, 1, 0, 1, 1, 1, 0, 1, 0, 1, 1, 1, 0, 1, 1, 1, 0, 1, 1, 1, 0, 1, 0, 0, 0, 0, 1, 1, 0, 1, 1, 1, 0, 1, 0, 0, 1, 1, 1, 1, 1, 1, 1, 1, 1, 0, 0, 1, 1, 1, 0, 1, 0, 1, 0, 1, 1, 1, 1, 0, 0, 1, 1, 1, 0, 1, 1, 0, 1, 0, 0, 1, 1, 0, 0, 1, 1, 1, 1, 1, 1, 1, 0, 1, 0, 0, 0, 0, 0, 0, 1, 0, 1, 0, 0, 1, 0, 1, 1, 1, 1, 1, 0, 0, 0, 0, 0, 0, 0, 0, 0, 1, 1, 0, 1, 0, 1, 0, 0, 0, 1, 0, 1, 0, 1, 1, 0, 0, 1, 1, 0, 0, 0, 0, 0, 1, 0, 1, 0, 0, 1, 1, 0, 1, 0, 1, 1, 1, 1, 1, 1, 1, 0, 0, 0, 0, 0, 1, 0, 0, 0, 1, 1, 1, 1, 0, 0, 1, 0, 0, 0, 0, 0, 1, 0, 0, 1, 1, 1, 0, 0, 1, 0, 0, 1, 1, 1, 1, 1, 1, 0, 0, 0, 0, 0, 1, 1, 1, 1, 0, 1, 0, 0, 0, 1, 1, 0, 1, 0, 1, 0, 0, 0, 1, 0, 1, 0, 0, 1, 1, 0, 1, 1, 0, 1, 1, 1, 0, 0, 0, 1, 0, 0, 1, 1, 0, 0, 0, 1, 1, 0, 0, 1, 1, 0, 1, 1, 0, 0, 0, 1, 1, 1, 1, 0, 1, 0, 1, 0, 1, 1, 0, 0, 1, 1, 1, 1, 1, 1, 1, 0, 1, 1, 1, 1, 1, 0, 0, 1, 1, 1, 1, 1, 1, 1, 0, 0, 0, 1, 0, 0, 0, 0, 0, 0, 0, 0, 0, 0, 1, 1, 1, 0, 1, 1, 1, 0, 1, 1, 0, 1, 1, 0, 0, 1, 0, 1, 1, 0, 0, 0, 1, 0, 0, 1, 1, 0, 1, 1, 1, 0, 1, 1, 1, 1, 1, 1, 1, 1, 1, 1, 1, 1, 1, 1, 1, 0, 1, 0, 1, 1, 0, 1, 1, 0, 0, 1, 0, 0, 0, 1, 0, 1, 0, 1, 0, 1, 0, 0, 1, 1, 0, 0, 1, 0, 1, 1, 0, 1, 1, 0, 0, 0, 0, 0, 1, 1, 0, 0, 0, 0, 0, 0, 0, 1, 0, 1, 1, 0, 1, 1, 1, 1, 1, 1, 0, 0, 0, 0, 0, 1, 1, 0, 1, 0, 0, 0, 1, 0, 0, 1, 1, 1, 0, 1, 0, 0, 1, 1, 1, 0, 1, 1, 0, 1, 0, 0, 1, 0, 1, 0, 0, 0, 0, 1, 0, 0, 0, 0, 1, 0, 0, 1, 0, 1, 1, 0, 1, 1, 0, 1, 1, 1, 0, 1, 0, 0, 1, 1, 1, 1, 1, 1, 1, 0, 1, 0, 0, 0, 0, 1, 0, 1, 0, 1, 0, 1, 0, 0, 0, 0, 1, 0, 1, 1, 1, 1, 0, 0, 0, 1, 0, 0, 0, 1, 0, 1, 1, 0, 1, 0, 1, 1, 1, 0, 1, 1, 0, 1, 0, 1, 0, 0, 1, 1, 0, 1, 0, 1, 0, 0, 0, 0, 0, 0, 1, 0, 0, 1, 1, 1, 1, 0, 0, 1, 1, 1, 0, 1, 0, 1, 0, 0, 1, 1, 1, 1, 0, 1, 1, 0, 0, 1, 0, 0, 0, 0, 1, 1, 0, 0, 1, 1, 0, 1, 1, 0, 1, 1, 1, 1, 0, 0, 1, 1, 1, 0, 0, 0, 1, 1, 1, 0, 1, 1, 1, 1, 1, 1, 0, 1, 0, 0, 1, 0, 0, 1, 1, 1, 0, 0, 1, 0, 1, 1, 0, 1, 1, 0, 1, 1, 0, 1, 0, 1, 0, 1, 0, 1, 0, 0, 1, 1, 1, 1, 1, 1, 1, 0, 1, 0, 1, 1, 0, 1, 0, 1, 0, 1, 1, 1, 0, 1, 0, 0, 0, 1, 1, 1, 1, 1, 0, 0, 1, 0, 1, 0, 1, 1, 1, 1, 1, 0, 1, 0, 1, 1, 0, 1, 1, 1, 0, 0, 0, 1, 1, 1, 0, 0, 1, 1, 1, 1, 0, 1, 0, 1, 1, 0, 1, 1, 1, 0, 1, 1, 1, 0, 0, 1, 1, 0, 0, 0, 0, 1, 1, 1, 1, 1, 1, 1, 0, 0, 0, 0, 0, 0, 1, 0, 0, 0, 0, 1, 0, 1, 0, 0, 1, 1, 0, 1, 1, 1, 0, 1, 1, 1, 0, 1, 0, 1, 1, 0, 1, 1, 1, 1, 0, 0, 0, 1, 1, 0, 1, 0, 0, 1, 0, 1, 1, 1, 1, 1, 0, 1, 1, 1, 1, 1, 1, 0, 0, 1, 0, 1, 0, 0, 1, 0, 0, 1, 1, 1, 1, 1, 0, 0, 1, 1, 1, 0, 0, 0, 0, 0, 1, 0, 1, 1, 0, 1, 1, 1, 1, 1, 0, 0, 1, 1, 1, 1, 1, 1, 1, 0, 0, 1, 0, 1, 1, 0, 0, 1, 1, 1, 0, 1, 1, 1, 0, 1, 1, 1, 0, 1, 0, 1, 1, 1, 1, 1, 1, 1, 1, 0, 1, 0, 0, 1, 0, 0, 0, 0, 1, 0, 0, 1, 1, 0, 1, 1, 1, 1, 1, 1, 1, 1, 0, 0, 0, 0, 0, 1, 1, 0, 1, 0, 0, 1, 1, 1, 1, 1, 1, 1, 0, 1, 1, 1, 0, 1, 1, 1, 0, 0, 0, 1, 1, 1, 1, 1, 1, 0, 0, 1, 0, 0, 1, 1, 1, 1, 1, 0, 0, 1, 0, 1, 1, 0, 0, 1, 0, 1, 1, 0, 0, 1, 1, 1, 0, 1, 0, 1, 1, 1, 0, 0, 0, 1, 1, 1, 1, 0, 1, 0, 1, 1, 1, 0, 0, 1, 1, 1, 1, 1, 1, 0, 1, 1, 0, 0, 0, 1, 0, 1, 0, 0, 1, 0, 1, 1, 1, 1, 1, 1, 1, 0, 0, 0, 1, 0, 1, 1, 1, 0, 0, 1, 0, 1, 0, 0, 1, 1, 1, 0, 1, 1, 0, 1, 0, 1, 1, 0, 1, 0, 1, 0, 0, 1, 1, 1, 1, 0, 1, 0, 0, 1, 1, 0, 0, 1, 0, 1, 0, 1, 1, 1, 1, 1, 0, 0, 1, 1, 1, 1, 0, 1, 0, 0, 0, 0, 0, 0, 0, 0, 1, 1, 0, 0, 0, 0, 1, 1, 0, 1, 0, 1, 1, 1, 1, 1, 1, 0, 0, 1, 0, 1, 0, 1, 1, 0, 1, 1, 0, 1, 1, 0, 1, 0, 0, 1, 1, 1, 1, 1, 1, 1, 1, 1, 0, 1, 1, 1, 0, 0, 1, 0, 1, 1, 0, 0, 0, 1, 1, 0, 1, 0, 1, 1, 1, 1, 0, 0, 1, 1, 1, 0, 0, 0, 0, 1, 1, 0, 0, 0, 1, 1, 1, 1, 1, 0, 0, 1, 0, 0, 0, 0, 0, 0, 1, 0, 0, 0, 1, 0, 0, 0, 1, 1, 1, 1, 0, 1, 1, 1, 0, 1, 1, 1, 0, 0, 0, 1, 0, 0, 0, 1, 1, 1, 1, 0, 1, 1, 0, 0, 0, 0, 0, 0, 0, 0, 1, 0, 1, 0, 1, 1, 0, 1, 1, 0, 1, 1, 1, 1, 1, 0, 1, 1, 1, 1, 0, 1, 1, 1, 1, 1, 1, 0, 1, 0, 0, 1, 1, 0, 0, 0, 1, 1, 0, 0, 0, 0, 1, 0, 1, 0, 1, 0, 0, 1, 0, 0, 0, 1, 1, 1, 1, 0, 1, 1, 0, 0, 1, 0, 1, 1, 1, 1, 0, 0, 1, 1, 0, 1, 1, 1, 0, 1, 0, 0, 0, 1, 0, 0, 0, 1, 1, 1, 0, 1, 1, 0, 1, 1, 0, 0, 1, 1, 1, 0, 1, 1, 0, 0, 0, 1, 0, 1, 0, 1, 1, 1, 1, 0, 1, 0, 1, 0, 1, 1, 1, 0, 0, 1, 0, 0, 1, 0, 1, 0, 1, 0, 0, 1, 1, 1, 1, 1, 1, 1, 0, 0, 1, 1, 1, 1, 1, 1, 1, 1, 1, 0, 1, 0, 0, 1, 1, 1, 0, 0, 1, 1, 1, 0, 0, 1, 1, 0, 1, 1, 0, 0, 1, 1, 1, 1, 0, 0, 0, 1, 0, 1, 0, 1, 1, 0, 0, 0, 0, 0, 0, 0, 1, 0, 1, 0, 0, 0, 1, 0, 1, 1, 1, 0, 1, 1, 1, 1, 0, 1, 1, 0, 1, 0, 1, 1, 1, 0, 1, 1, 1, 0, 1, 0, 0, 0, 0, 1, 0, 0, 0, 1, 1, 0, 1, 1, 1, 0, 0, 1, 0, 0, 1, 0, 1, 1, 0, 1, 1, 0, 0, 1, 0, 0, 1, 1, 1, 1, 1, 0, 0, 0, 0, 1, 1, 0, 0, 1, 0, 1, 1, 1, 0, 1, 1, 0, 1, 0, 1, 0, 0, 0, 1, 0, 0, 1, 1, 1, 1, 0, 0, 0, 0, 1, 0, 0, 1, 1, 0, 1, 1, 1, 1, 1, 0, 1, 1, 1, 0, 0, 0, 1, 1, 1, 0, 0, 1, 0, 1, 1, 0, 1, 0, 1, 1, 0, 0, 0, 1, 1, 0, 0, 0, 0, 0, 0, 0, 0, 0, 0, 1, 0, 1, 1, 1, 1, 1, 0, 1, 1, 1, 0, 1, 0, 1, 0, 1, 1, 1, 0, 1, 1, 0, 0, 1, 0, 1, 1, 0, 1, 0, 1, 1, 1, 1, 0, 1, 1, 1, 1, 1, 1, 0, 0, 1, 1, 1, 0, 1, 1, 0, 1, 1, 0, 0, 0, 0, 1, 0, 1, 1, 1, 1, 0, 0, 0, 0, 1, 1, 0, 1, 1, 0, 0, 1, 1, 0, 0, 1, 1, 0, 1, 1, 1, 0, 0, 0, 0, 1, 0, 1, 1, 1, 1, 0, 0, 1, 1, 0, 1, 0, 1, 1, 0, 1, 0, 1, 0, 1, 1, 0, 0, 1, 0, 1, 1, 1, 0, 1, 0, 0, 1, 1, 1, 1, 0, 1, 0, 0, 1, 1, 0, 1, 0, 0, 1, 1, 1, 1, 1, 1, 1, 0, 0, 0, 1, 0, 1, 1, 0, 0, 1, 1, 1, 0, 1, 1, 1, 1, 1, 0]\n"
          ]
        }
      ]
    },
    {
      "cell_type": "markdown",
      "source": [
        "# Modelling Method 2 - Random Forests"
      ],
      "metadata": {
        "id": "PvXduNOqxTJl"
      }
    },
    {
      "cell_type": "code",
      "source": [
        "from sklearn.model_selection import train_test_split\n",
        "\n",
        "X_train, X_test, y_train, y_test = train_test_split(X, y, train_size=0.5, test_size=0.5, random_state=42)"
      ],
      "metadata": {
        "id": "tNxcFak4Ylda"
      },
      "execution_count": null,
      "outputs": []
    },
    {
      "cell_type": "markdown",
      "source": [
        "## Random Forest"
      ],
      "metadata": {
        "id": "qaYVB9e1ctem"
      }
    },
    {
      "cell_type": "markdown",
      "source": [
        "## Fitting Original Model"
      ],
      "metadata": {
        "id": "6CLaBR_t99tU"
      }
    },
    {
      "cell_type": "code",
      "source": [
        "from sklearn.ensemble import RandomForestClassifier\n",
        "from sklearn.model_selection import train_test_split\n",
        "from sklearn.metrics import accuracy_score, roc_curve, roc_auc_score\n",
        "import matplotlib.pyplot as plt\n",
        "\n",
        "# Split data with important features into training and testing sets\n",
        "X_train, X_test, y_train, y_test = train_test_split(X, y, test_size=0.2, random_state=42)\n",
        "\n",
        "# Initialize a new RandomForestClassifier\n",
        "rf_model = RandomForestClassifier(n_estimators=100, random_state=42, min_samples_split=5, min_samples_leaf=1, max_depth=10)\n",
        "\n",
        "# Train the model on the training data\n",
        "rf_model.fit(X_train, y_train)\n",
        "\n",
        "# Predict on the test set\n",
        "y_pred = rf_model.predict(X_test)\n",
        "\n",
        "# Evaluate the model accuracy\n",
        "accuracy = accuracy_score(y_test, y_pred)\n",
        "print(\"Accuracy:\", accuracy)\n",
        "\n",
        "# Calculate ROC curve and AUC\n",
        "y_pred_proba = rf_model.predict_proba(X_test)[:, 1]\n",
        "fpr, tpr, thresholds = roc_curve(y_test, y_pred_proba)\n",
        "roc_auc = roc_auc_score(y_test, y_pred_proba)\n",
        "\n",
        "# Plot the ROC curve\n",
        "plt.figure()\n",
        "plt.plot(fpr, tpr, label='Random Forest (AUC = %0.2f)' % roc_auc)\n",
        "plt.plot([0, 1], [0, 1], 'k--')\n",
        "plt.xlim([0.0, 1.0])\n",
        "plt.ylim([0.0, 1.05])\n",
        "plt.xlabel('False Positive Rate')\n",
        "plt.ylabel('True Positive Rate')\n",
        "plt.title('Receiver Operating Characteristic (ROC)')\n",
        "plt.legend(loc=\"lower right\")\n",
        "plt.show()"
      ],
      "metadata": {
        "id": "djAtAns4f7F7",
        "outputId": "798ce7a7-2c5d-47bb-c128-16bf546fb760",
        "colab": {
          "base_uri": "https://localhost:8080/",
          "height": 562
        }
      },
      "execution_count": null,
      "outputs": [
        {
          "output_type": "stream",
          "name": "stdout",
          "text": [
            "Accuracy: 0.7382112866286922\n"
          ]
        },
        {
          "output_type": "display_data",
          "data": {
            "text/plain": [
              "<Figure size 800x550 with 1 Axes>"
            ],
            "image/png": "[encoded data removed]"
          },
          "metadata": {}
        }
      ]
    },
    {
      "cell_type": "code",
      "source": [
        "from sklearn.ensemble import RandomForestRegressor\n",
        "from sklearn.metrics import mean_squared_error\n",
        "\n",
        "mean_squared_error(y_test, y_pred)"
      ],
      "metadata": {
        "id": "8RBQsu4QcsHp",
        "outputId": "4251d2f3-d31c-44b0-fe6b-fd25ee71f28f",
        "colab": {
          "base_uri": "https://localhost:8080/"
        }
      },
      "execution_count": null,
      "outputs": [
        {
          "output_type": "execute_result",
          "data": {
            "text/plain": [
              "0.26178871337130777"
            ]
          },
          "metadata": {},
          "execution_count": 67
        }
      ]
    },
    {
      "cell_type": "markdown",
      "source": [
        "## Prediction Analysis"
      ],
      "metadata": {
        "id": "wwTg5jLb9I-m"
      }
    },
    {
      "cell_type": "code",
      "source": [
        "def plot_prediction_analysis(y_test, y_pred):\n",
        "    # Calculate R-squared\n",
        "    r2 = np.corrcoef(y_test, y_pred)[0,1]**2\n",
        "\n",
        "    # Create figure\n",
        "    plt.figure(figsize=(10, 6))\n",
        "\n",
        "    # Create regression plot\n",
        "    sns.regplot(x=y_pred, y=y_test, scatter_kws={'alpha':0.5})\n",
        "\n",
        "    # Add perfect prediction line\n",
        "    plt.plot([y_test.min(), y_test.max()],\n",
        "             [y_test.min(), y_test.max()],\n",
        "             'r--', lw=2, label='Perfect Prediction')\n",
        "\n",
        "    # Add labels and title\n",
        "    plt.xlabel('Predicted Values')\n",
        "    plt.ylabel('Actual Values')\n",
        "    plt.title(f'Predicted vs Actual Values (R² = {r2:.3f})')\n",
        "    plt.legend()\n",
        "\n",
        "    plt.tight_layout()\n",
        "    plt.show()\n",
        "\n",
        "# Use it like this:\n",
        "plot_prediction_analysis(y_test, y_pred)"
      ],
      "metadata": {
        "id": "I9cid-Qyc-3e",
        "outputId": "6886aa7a-c606-42d1-f25a-a4cd665c8422",
        "colab": {
          "base_uri": "https://localhost:8080/",
          "height": 627
        }
      },
      "execution_count": null,
      "outputs": [
        {
          "output_type": "display_data",
          "data": {
            "text/plain": [
              "<Figure size 1000x600 with 1 Axes>"
            ],
            "image/png": "[encoded data removed]"
          },
          "metadata": {}
        }
      ]
    },
    {
      "cell_type": "code",
      "source": [
        "insurance_rf = RandomForestRegressor(max_features=6, random_state=42, n_estimators=100)\n",
        "insurance_rf.fit(X_train, y_train)\n",
        "\n",
        "y_pred = insurance_rf.predict(X_test)\n",
        "\n",
        "mean_squared_error(y_test, y_pred)"
      ],
      "metadata": {
        "id": "rJH8pDindBiq",
        "outputId": "729198d4-ecd0-480d-d692-96b16a04f5f3",
        "colab": {
          "base_uri": "https://localhost:8080/"
        }
      },
      "execution_count": null,
      "outputs": [
        {
          "output_type": "execute_result",
          "data": {
            "text/plain": [
              "0.07764743085325033"
            ]
          },
          "metadata": {},
          "execution_count": 69
        }
      ]
    },
    {
      "cell_type": "markdown",
      "source": [
        "## Model Tuning"
      ],
      "metadata": {
        "id": "tKIPQOLuEL1s"
      }
    },
    {
      "cell_type": "markdown",
      "source": [
        "### Important Features"
      ],
      "metadata": {
        "id": "Dqz5Q_Ij9O7C"
      }
    },
    {
      "cell_type": "code",
      "source": [
        "def plot_feature_importances(model, feature_names, x_tick_rotation=45, threshold=0.01):\n",
        "    # Get feature importances\n",
        "    importances = pd.Series(model.feature_importances_, index=feature_names)\n",
        "\n",
        "    # Filter features above threshold\n",
        "    importances = importances[importances >= threshold]\n",
        "\n",
        "    # Sort in descending order\n",
        "    importances = importances.sort_values(ascending=False)\n",
        "\n",
        "    # Create figure\n",
        "    plt.figure(figsize=(10, 6))\n",
        "\n",
        "    # Create bar plot\n",
        "    importances.plot(kind='bar')\n",
        "\n",
        "    # Add labels and title\n",
        "    plt.title(f'Feature Importances (threshold >= {threshold})')\n",
        "    plt.xlabel('Features')\n",
        "    plt.ylabel('Importance')\n",
        "\n",
        "    # Rotate x-axis labels\n",
        "    plt.xticks(rotation=x_tick_rotation, ha='right')\n",
        "\n",
        "    # Adjust layout to prevent label cutoff\n",
        "    plt.tight_layout()\n",
        "\n",
        "    plt.show()\n",
        "\n",
        "    # Print sorted importances\n",
        "    print(\"\\nFeature Importances:\")\n",
        "    for name, importance in importances.items():\n",
        "        print(f\"{name}: {importance:.4f}\")\n",
        "\n",
        "# Use it like this:\n",
        "plot_feature_importances(rfi_model, X.columns, x_tick_rotation=45, threshold=0.01)"
      ],
      "metadata": {
        "id": "wZXpBsZ6d3Am",
        "outputId": "af1955fc-86bb-40ef-9e2f-22e2ccb2fb34",
        "colab": {
          "base_uri": "https://localhost:8080/",
          "height": 199
        }
      },
      "execution_count": null,
      "outputs": [
        {
          "output_type": "error",
          "ename": "NameError",
          "evalue": "name 'rfi_model' is not defined",
          "traceback": [
            "\u001b[0;31m---------------------------------------------------------------------------\u001b[0m",
            "\u001b[0;31mNameError\u001b[0m                                 Traceback (most recent call last)",
            "\u001b[0;32m<ipython-input-76-e3f4c448849a>\u001b[0m in \u001b[0;36m<cell line: 36>\u001b[0;34m()\u001b[0m\n\u001b[1;32m     34\u001b[0m \u001b[0;34m\u001b[0m\u001b[0m\n\u001b[1;32m     35\u001b[0m \u001b[0;31m# Use it like this:\u001b[0m\u001b[0;34m\u001b[0m\u001b[0;34m\u001b[0m\u001b[0m\n\u001b[0;32m---> 36\u001b[0;31m \u001b[0mplot_feature_importances\u001b[0m\u001b[0;34m(\u001b[0m\u001b[0mrfi_model\u001b[0m\u001b[0;34m,\u001b[0m \u001b[0mX\u001b[0m\u001b[0;34m.\u001b[0m\u001b[0mcolumns\u001b[0m\u001b[0;34m,\u001b[0m \u001b[0mx_tick_rotation\u001b[0m\u001b[0;34m=\u001b[0m\u001b[0;36m45\u001b[0m\u001b[0;34m,\u001b[0m \u001b[0mthreshold\u001b[0m\u001b[0;34m=\u001b[0m\u001b[0;36m0.01\u001b[0m\u001b[0;34m)\u001b[0m\u001b[0;34m\u001b[0m\u001b[0;34m\u001b[0m\u001b[0m\n\u001b[0m",
            "\u001b[0;31mNameError\u001b[0m: name 'rfi_model' is not defined"
          ]
        }
      ]
    },
    {
      "cell_type": "code",
      "source": [
        "# Get important features (e.g., those with importance > threshold)\n",
        "threshold = 0.01  # adjust this based on your needs\n",
        "important_features = pd.Series(insurance_rf.feature_importances_, index=X.columns)\n",
        "important_features = important_features[important_features > threshold].index\n",
        "\n",
        "# Create new dataset with only important features\n",
        "X_important = X[important_features]\n",
        "\n",
        "# # Train new model with important features only\n",
        "# model_important = rfi(random_state=42)  # or your chosen model\n",
        "# model_important.fit(X_important, y)"
      ],
      "metadata": {
        "id": "D5UpMuAud3zO"
      },
      "execution_count": null,
      "outputs": []
    },
    {
      "cell_type": "markdown",
      "source": [
        "### Fitting Feature Selected Model"
      ],
      "metadata": {
        "id": "sgO7Tbci-Dvb"
      }
    },
    {
      "cell_type": "code",
      "source": [
        "#rom sklearn.ensemble import RandomForestClassifier\n",
        "from sklearn.model_selection import train_test_split\n",
        "from sklearn.metrics import accuracy_score, roc_curve, roc_auc_score\n",
        "import matplotlib.pyplot as plt\n",
        "\n",
        "# Split data with important features into training and testing sets\n",
        "X_train, X_test, y_train, y_test = train_test_split(X_important, y, test_size=0.2, random_state=42)\n",
        "\n",
        "# Initialize a new RandomForestClassifier\n",
        "rfi_model = RandomForestClassifier(n_estimators=100, random_state=42, min_samples_split=5, min_samples_leaf=1, max_depth=10)\n",
        "\n",
        "# Train the model on the training data\n",
        "rfi_model.fit(X_train, y_train)\n",
        "\n",
        "# Predict on the test set\n",
        "y_pred = rfi_model.predict(X_test)\n",
        "\n",
        "# Evaluate the model accuracy\n",
        "accuracy = accuracy_score(y_test, y_pred)\n",
        "print(\"Accuracy:\", accuracy)\n",
        "\n",
        "# Calculate ROC curve and AUC\n",
        "y_pred_proba = rfi_model.predict_proba(X_test)[:, 1]\n",
        "fpr, tpr, thresholds = roc_curve(y_test, y_pred_proba)\n",
        "roc_auc = roc_auc_score(y_test, y_pred_proba)\n",
        "\n",
        "# Plot the ROC curve\n",
        "plt.figure()\n",
        "plt.plot(fpr, tpr, label='Random Forest (AUC = %0.2f)' % roc_auc)\n",
        "plt.plot([0, 1], [0, 1], 'k--')\n",
        "plt.xlim([0.0, 1.0])\n",
        "plt.ylim([0.0, 1.05])\n",
        "plt.xlabel('False Positive Rate')\n",
        "plt.ylabel('True Positive Rate')\n",
        "plt.title('Receiver Operating Characteristic (ROC)')\n",
        "plt.legend(loc=\"lower right\")\n",
        "plt.show()"
      ],
      "metadata": {
        "id": "13yoZnbu-Cho"
      },
      "execution_count": null,
      "outputs": []
    },
    {
      "cell_type": "markdown",
      "source": [
        "### Cross-Validation"
      ],
      "metadata": {
        "id": "Ssg5k7PM9uxi"
      }
    },
    {
      "cell_type": "code",
      "source": [
        "from sklearn.model_selection import cross_val_score\n",
        "\n",
        "# Original model performance\n",
        "scores_original = cross_val_score(rf_model, X, y, cv=5)\n",
        "\n",
        "# New model performance with important features only\n",
        "scores_important = cross_val_score(rfi_model, X_important, y, cv=5)\n",
        "\n",
        "print(\"Original model CV scores:\", scores_original.mean(), \"±\", scores_original.std())\n",
        "print(\"Important features model CV scores:\", scores_important.mean(), \"±\", scores_important.std())"
      ],
      "metadata": {
        "id": "IsbXUIRGeiM7"
      },
      "execution_count": null,
      "outputs": []
    },
    {
      "cell_type": "code",
      "source": [
        "# if len(important_features) >= 2:\n",
        "#     top_2_features = important_features[:2]\n",
        "#     X_important[f'{top_2_features[0]}_x_{top_2_features[1]}'] = (\n",
        "#         X_important[top_2_features[0]] * X_important[top_2_features[1]]\n",
        "#     )"
      ],
      "metadata": {
        "id": "4_8PkTufelKh"
      },
      "execution_count": null,
      "outputs": []
    },
    {
      "cell_type": "markdown",
      "source": [
        "### Hyper-Parameter Tuning"
      ],
      "metadata": {
        "id": "I1c1xgCr-adz"
      }
    },
    {
      "cell_type": "code",
      "source": [
        "# prompt: use RandomizedSearchCV for hyperparamter tuning\n",
        "\n",
        "from sklearn.model_selection import RandomizedSearchCV\n",
        "\n",
        "# Define the parameter grid to search\n",
        "param_grid = {\n",
        "    'n_estimators': [50, 100, 200],\n",
        "    'max_depth': [None, 10, 20],\n",
        "    'min_samples_split': [2, 5, 10],\n",
        "    'min_samples_leaf': [1, 2, 4]\n",
        "}\n",
        "\n",
        "# Create a RandomizedSearchCV object\n",
        "random_search = RandomizedSearchCV(estimator=rfi_model, param_distributions=param_grid, n_iter=10, cv=5, scoring='accuracy', n_jobs=-1, random_state=42)\n",
        "\n",
        "# Fit the RandomizedSearchCV object to the training data\n",
        "random_search.fit(X_train, y_train)\n",
        "\n",
        "# Print the best parameters and the best score\n",
        "print(\"Best parameters:\", random_search.best_params_)\n",
        "print(\"Best score:\", random_search.best_score_)\n",
        "\n",
        "# Use the best model for prediction\n",
        "best_rf_model = random_search.best_estimator_\n",
        "y_pred = best_rf_model.predict(X_test)\n",
        "\n",
        "# Evaluate the model\n",
        "accuracy = accuracy_score(y_test, y_pred)\n",
        "print(\"Accuracy:\", accuracy)"
      ],
      "metadata": {
        "id": "eoK87g0B-v86"
      },
      "execution_count": null,
      "outputs": []
    },
    {
      "cell_type": "markdown",
      "source": [
        "### Adjusting Threshold for Revenue Maximizing"
      ],
      "metadata": {
        "id": "AA1eogoHF64F"
      }
    },
    {
      "cell_type": "code",
      "source": [
        "import numpy as np\n",
        "import matplotlib.pyplot as plt\n",
        "from sklearn.metrics import confusion_matrix\n",
        "\n",
        "# Predict probabilities for the positive class\n",
        "y_probs = best_rf_model.predict_proba(X_test)[:, 1]\n",
        "\n",
        "# Define a range of thresholds\n",
        "thresholds = np.arange(0.0, 1.0, 0.01)\n",
        "false_positive_rates = []\n",
        "false_negative_rates = []\n",
        "revenues = []\n",
        "\n",
        "# Calculate FPR, FNR, and revenue for each threshold\n",
        "for threshold in thresholds:\n",
        "    y_pred = (y_probs >= threshold).astype(int)\n",
        "\n",
        "    # Calculate confusion matrix components\n",
        "    tn, fp, fn, tp = confusion_matrix(y_test[:len(y_pred)], y_pred).ravel()\n",
        "\n",
        "    # Calculate false positive rate and false negative rate\n",
        "    fpr = fp / (fp + tn) if (fp + tn) > 0 else 0\n",
        "    fnr = fn / (fn + tp) if (fn + tp) > 0 else 0\n",
        "\n",
        "    # Append FPR and FNR to lists\n",
        "    false_positive_rates.append(fpr)\n",
        "    false_negative_rates.append(fnr)\n",
        "\n",
        "    # Calculate revenue: (5.5 * True Positives) - (1 * Predicted Positives)\n",
        "    revenue = (5.5 * tp) - (1 * (tp + fp))\n",
        "    revenues.append(revenue)\n",
        "\n",
        "# Plotting FPR and FNR against thresholds\n",
        "fig, ax1 = plt.subplots(figsize=(10, 6))\n",
        "\n",
        "# Plot false positive and false negative rates\n",
        "ax1.plot(thresholds, false_positive_rates, label=\"Probability of False Positives (FP)\", color=\"green\")\n",
        "ax1.plot(thresholds, false_negative_rates, label=\"Probability of False Negatives (FN)\", color=\"blue\")\n",
        "ax1.set_xlabel(\"Threshold\")\n",
        "ax1.set_ylabel(\"Probability\")\n",
        "ax1.set_title(\"Probability of False Negatives (FN), False Positives (FP), and Revenue by Threshold\")\n",
        "ax1.grid()\n",
        "ax1.legend(loc=\"upper left\")\n",
        "\n",
        "# Plot revenue on a secondary y-axis\n",
        "ax2 = ax1.twinx()\n",
        "ax2.plot(thresholds, revenues, label=\"Revenue\", color=\"orange\")\n",
        "ax2.set_ylabel(\"Revenue ($)\")\n",
        "ax2.legend(loc=\"upper right\")\n",
        "\n",
        "# Mark the Equal Error Point (EEP) where FP and FN rates intersect\n",
        "equal_error_point = thresholds[np.argmin(np.abs(np.array(false_positive_rates) - np.array(false_negative_rates)))]\n",
        "ax1.axvline(equal_error_point, color=\"red\", linestyle=\"--\", label=\"Equal Error Point (EEP)\")\n",
        "ax1.legend(loc=\"upper left\")\n",
        "\n",
        "plt.show()\n",
        "\n",
        "print(f\"Equal Error Point (EEP) Threshold: {equal_error_point}\")\n"
      ],
      "metadata": {
        "id": "3h4H6WrIF5Jc"
      },
      "execution_count": null,
      "outputs": []
    },
    {
      "cell_type": "markdown",
      "source": [
        "### Predicting with Final Model"
      ],
      "metadata": {
        "id": "KxjpPLPBGest"
      }
    },
    {
      "cell_type": "markdown",
      "source": [
        "This model has an advertising revenue of 12 on the leaderboard"
      ],
      "metadata": {
        "id": "0-pckEhdHpbW"
      }
    },
    {
      "cell_type": "code",
      "source": [
        "\n",
        "# Align test data columns with training data\n",
        "test_data_standardized = test_data_standardized.reindex(columns=X.columns, fill_value=0)\n",
        "\n",
        "# Get probabilities for the positive class (ISBOUND=1)\n",
        "probabilities = rf_model.predict_proba(test_data_standardized)[:, 1]\n",
        "\n",
        "# Apply the EEP threshold\n",
        "threshold = 0.21\n",
        "predictions = (probabilities >= threshold).astype(int)\n",
        "\n",
        "# Convert predictions to a list\n",
        "list_predictions = predictions.tolist()\n",
        "rounded_list_predictions = [int(x) for x in list_predictions]\n",
        "\n",
        "# Output predictions\n",
        "print(\"Predictions:\", rounded_list_predictions)\n",
        "print(\"Number of predictions:\", len(rounded_list_predictions))\n"
      ],
      "metadata": {
        "id": "WkLmY-v5Gd4x"
      },
      "execution_count": null,
      "outputs": []
    }
  ]
}