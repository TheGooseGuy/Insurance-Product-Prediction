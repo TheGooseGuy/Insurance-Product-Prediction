{
  "nbformat": 4,
  "nbformat_minor": 0,
  "metadata": {
    "colab": {
      "provenance": []
    },
    "kernelspec": {
      "name": "python3",
      "display_name": "Python 3"
    },
    "language_info": {
      "name": "python"
    }
  },
  "cells": [
    {
      "cell_type": "markdown",
      "source": [
        "Author: Stephen Tukor, Zikang Ge"
      ],
      "metadata": {
        "id": "16qnOPCL5zeL"
      }
    },
    {
      "cell_type": "code",
      "execution_count": null,
      "metadata": {
        "id": "xgC42sEw1bCJ"
      },
      "outputs": [],
      "source": [
        "import numpy as np\n",
        "import pandas as pd\n",
        "import matplotlib.pyplot as plt\n",
        "import seaborn as sns\n",
        "import re\n",
        "\n",
        "from sklearn.model_selection import train_test_split, cross_val_score\n",
        "from sklearn.linear_model import LogisticRegression\n",
        "from sklearn.metrics import accuracy_score, confusion_matrix, classification_report\n",
        "from sklearn.metrics import roc_curve, roc_auc_score, f1_score, precision_score, recall_score, precision_recall_curve\n",
        "from sklearn.preprocessing import StandardScaler\n",
        "from statsmodels.stats.outliers_influence import variance_inflation_factor\n",
        "\n",
        "pd.set_option('display.precision', 2) # number precision for pandas\n",
        "pd.set_option('display.max_rows', 12)\n",
        "pd.set_option('display.float_format', '{:20,.2f}'.format) # get rid of scientific notation\n",
        "plt.style.use('seaborn-v0_8') # pretty matplotlib plots"
      ]
    },
    {
      "cell_type": "code",
      "source": [
        "train_data = pd.read_excel(\"/content/drive/MyDrive/6100 Project2 DATA/Project2_Training.xlsx\") # Read training data set\n",
        "test_data = pd.read_excel(\"/content/drive/MyDrive/6100 Project2 DATA/Project2_Test.xlsx\") # Read testing data set"
      ],
      "metadata": {
        "id": "4t5V30gK1oWb"
      },
      "execution_count": null,
      "outputs": []
    },
    {
      "cell_type": "markdown",
      "source": [
        "# Data Pre-processing"
      ],
      "metadata": {
        "id": "B_MBILl_2MzN"
      }
    },
    {
      "cell_type": "code",
      "source": [
        "# Rename test data columns to match train data\n",
        "test_data.rename(columns={\n",
        "    'ANNUALKM': 'ANNUAL_KM',\n",
        "    'COMMUTEDISTANCE': 'COMMUTE_DISTANCE',\n",
        "    'MARKINGSYSTEM': 'MARKING_SYSTEM',\n",
        "    'TRACKINGSYSTEM': 'TRACKING_SYSTEM',\n",
        "    'VEHICLEOWNERSHIP': 'VEHICLE_OWNERSHIP',\n",
        "    'VEHICLEVALUE': 'VEHICLE_VALUE',\n",
        "    'YEAROFBIRTH': 'YEAR_OF_BIRTH',\n",
        "    'POSTALCODE': 'POSTAL_CODE',\n",
        "    'AREACODE': 'AREA_CODE',\n",
        "    'YEARSLICENSED': 'YEARS_LICENSED',\n",
        "    'YEARSASPRINCIPALDRIVER': 'YEARS_AS_PRINCIPAL_DRIVER',\n",
        "    'MULTIPRODUCT': 'MULTI_PRODUCT',\n",
        "    'MARITALSTATUS': 'MARITAL_STATUS',\n",
        "    'CONVICTIONCOUNTMINOR3YRS': 'CONVICTION_COUNT_MINOR_3YRS',\n",
        "    'CONVICTIONCOUNTMAJOR3YRS': 'CONVICTION_COUNT_MAJOR_3YRS',\n",
        "    'CONVICTIONCOUNTCRIMINAL3YRS': 'CONVICTION_COUNT_CRIMINAL_3YRS',\n",
        "    'ASSIGNEDLOSSESPD5YRS': 'ASSIGNED_LOSSES_PD_5YRS',\n",
        "    'SUSPENSIONCOUNT': 'SUSPENSION_COUNT',}, inplace=True)"
      ],
      "metadata": {
        "id": "xzKxijOZGptC"
      },
      "execution_count": null,
      "outputs": []
    },
    {
      "cell_type": "code",
      "source": [
        "# Check data type of each variable\n",
        "print(train_data.dtypes)"
      ],
      "metadata": {
        "colab": {
          "base_uri": "https://localhost:8080/"
        },
        "id": "fCZ9E1MW4dTy",
        "outputId": "f0d3dcea-01c3-486c-80f9-39257d609622"
      },
      "execution_count": null,
      "outputs": [
        {
          "output_type": "stream",
          "name": "stdout",
          "text": [
            "QUOTEDATE                         datetime64[ns]\n",
            "VEHICLEYEAR                                int64\n",
            "VEHICLEMAKE                               object\n",
            "VEHICLEMODEL                              object\n",
            "ANNUAL_KM                                float64\n",
            "COMMUTE_DISTANCE                         float64\n",
            "MARKING_SYSTEM                            object\n",
            "TRACKING_SYSTEM                           object\n",
            "VEHICLE_OWNERSHIP                         object\n",
            "VEHICLE_VALUE                            float64\n",
            "VEHICLEUSE                                object\n",
            "GENDER                                    object\n",
            "YEAR_OF_BIRTH                              int64\n",
            "POSTAL_CODE                               object\n",
            "AREA_CODE                                 object\n",
            "YEARS_LICENSED                           float64\n",
            "YEARS_AS_PRINCIPAL_DRIVER                float64\n",
            "MULTI_PRODUCT                             object\n",
            "MARITAL_STATUS                            object\n",
            "OCCUPATION                                object\n",
            "CONVICTION_COUNT_MINOR_3YRS                int64\n",
            "CONVICTION_COUNT_MAJOR_3YRS                int64\n",
            "CONVICTION_COUNT_CRIMINAL_3YRS             int64\n",
            "ASSIGNED_LOSSES_PD_5YRS                    int64\n",
            "SUSPENSION_COUNT                           int64\n",
            "IS_BOUND                                   int64\n",
            "dtype: object\n"
          ]
        }
      ]
    },
    {
      "cell_type": "code",
      "source": [
        "# Check for NA values in each column\n",
        "for column in train_data.columns:\n",
        "    if train_data[column].isna().sum() > 0:\n",
        "        print(f\"{column} has {train_data[column].isna().sum()} missing values.\")\n",
        "print(\"\")\n",
        "for column in test_data.columns:\n",
        "    if test_data[column].isna().sum() > 0:\n",
        "        print(f\"{column} has {test_data[column].isna().sum()} missing values.\")"
      ],
      "metadata": {
        "colab": {
          "base_uri": "https://localhost:8080/"
        },
        "id": "65iAyDVq6Yvp",
        "outputId": "e8415bdc-6935-43ad-e2f2-9027a44f8bd0"
      },
      "execution_count": null,
      "outputs": [
        {
          "output_type": "stream",
          "name": "stdout",
          "text": [
            "ANNUAL_KM has 1 missing values.\n",
            "COMMUTE_DISTANCE has 35413 missing values.\n",
            "MARKING_SYSTEM has 101866 missing values.\n",
            "TRACKING_SYSTEM has 101887 missing values.\n",
            "VEHICLE_OWNERSHIP has 76450 missing values.\n",
            "VEHICLE_VALUE has 64673 missing values.\n",
            "GENDER has 5 missing values.\n",
            "YEARS_LICENSED has 8 missing values.\n",
            "YEARS_AS_PRINCIPAL_DRIVER has 101279 missing values.\n",
            "OCCUPATION has 1 missing values.\n",
            "\n",
            "COMMUTE_DISTANCE has 5191 missing values.\n",
            "MARKING_SYSTEM has 15095 missing values.\n",
            "TRACKING_SYSTEM has 15112 missing values.\n",
            "VEHICLE_OWNERSHIP has 11500 missing values.\n",
            "VEHICLE_VALUE has 10159 missing values.\n",
            "YEARS_LICENSED has 3 missing values.\n",
            "YEARS_AS_PRINCIPAL_DRIVER has 14946 missing values.\n"
          ]
        }
      ]
    },
    {
      "cell_type": "markdown",
      "source": [
        "## Data Cleaning"
      ],
      "metadata": {
        "id": "ZMkaFryG6u5K"
      }
    },
    {
      "cell_type": "code",
      "source": [
        "# Combine train data and test data, will split them in the end\n",
        "train_data['is_train'] = 1\n",
        "test_data['is_train'] = 0\n",
        "\n",
        "combined_data = pd.concat([train_data, test_data], ignore_index=True)"
      ],
      "metadata": {
        "id": "lOVTvU1yLrYr"
      },
      "execution_count": null,
      "outputs": []
    },
    {
      "cell_type": "code",
      "source": [
        "# QUOTEDATE\n",
        "combined_data['QUOTEDATE'] = pd.to_datetime(combined_data['QUOTEDATE'])\n",
        "combined_data['Quote_Month'] = combined_data['QUOTEDATE'].dt.month\n",
        "\n",
        "combined_data = pd.get_dummies(combined_data, columns=['Quote_Month'], prefix='Month')"
      ],
      "metadata": {
        "id": "-Z-HzHTe5ocm"
      },
      "execution_count": null,
      "outputs": []
    },
    {
      "cell_type": "markdown",
      "source": [
        "This will drop the `QUOTEDATE` Column and change it into 12 columns, each one represents a month, I'm trying to find the pattern among months since the 100k rows of data are all within a year.\n",
        "\n",
        "For now, the columns \"Month_1\", \"Month_2\", ..., \"Month_12\" are all booleans, I will convert them to 0s and 1s later."
      ],
      "metadata": {
        "id": "VUqiX68B7kLV"
      }
    },
    {
      "cell_type": "code",
      "source": [
        "# VEHICLEYEAR\n",
        "\n",
        "# Group by vehicle age brackets\n",
        "def vehicle_age_group(year):\n",
        "    if year < 1980:\n",
        "        return 'Vintage'\n",
        "    elif year < 2000:\n",
        "        return 'Old'\n",
        "    else:\n",
        "        return 'Modern'\n",
        "\n",
        "combined_data['Vehicle_Age_Group'] = combined_data['VEHICLEYEAR'].apply(vehicle_age_group)\n",
        "combined_data = pd.get_dummies(combined_data, columns=['Vehicle_Age_Group'], prefix='Age')\n",
        "\n",
        "# One-Hot Encoding for decades\n",
        "combined_data['Vehicle_Decade'] = (combined_data['VEHICLEYEAR'] // 10) * 10\n",
        "combined_data = pd.get_dummies(combined_data, columns=['Vehicle_Decade'], prefix='Decade')"
      ],
      "metadata": {
        "id": "JmnXihD_7IiR"
      },
      "execution_count": null,
      "outputs": []
    },
    {
      "cell_type": "markdown",
      "source": [
        "This will categorize the column \"VEHICLEYEAR\" into three categoreis, then one-hot encode them. And then I categorize the original columns to decades, still one-hot encode them, trying to find patterns between decades."
      ],
      "metadata": {
        "id": "ulJM10Rt-2Mb"
      }
    },
    {
      "cell_type": "code",
      "source": [
        "# VEHICLEMAKE\n",
        "luxury_brands = ['BENZ', 'BMW', 'AUDI', 'BENTLEY', 'LEXUS', 'ROLLS ROYCE', 'ASTON MARTIN', 'CADILLAC', 'LAND ROVER', 'PORSCHE', 'ACURA', 'FERRARI', 'JAGUAR', 'LAMBORGHINI', 'TESLA', 'ALFA ROMEO', 'INFINITI', 'LINCOLN', 'MASERATI', 'GENESIS', 'VOLVO', 'BUGATTI', 'MAYBACH', 'MCLAREN']\n",
        "\n",
        "luxury_pattern = re.compile('|'.join(luxury_brands), re.IGNORECASE)\n",
        "\n",
        "# Apply the regex to categorize as 'Luxury' or 'Non-Luxury'\n",
        "combined_data['car_category'] = combined_data['VEHICLEMAKE'].apply(\n",
        "    lambda x: 'Luxury' if luxury_pattern.search(x) else 'Non-Luxury'\n",
        ")\n",
        "\n",
        "# Convert the 'car_category' column into dummy variables\n",
        "combined_data = pd.get_dummies(combined_data, columns=['car_category'], prefix='car')"
      ],
      "metadata": {
        "id": "3DgIW_5Q_0Hf"
      },
      "execution_count": null,
      "outputs": []
    },
    {
      "cell_type": "code",
      "source": [
        "# ANNUAL_KM\n",
        "combined_data = combined_data[~combined_data['ANNUAL_KM'].isna()]"
      ],
      "metadata": {
        "id": "QYYyLjb5FCLi"
      },
      "execution_count": null,
      "outputs": []
    },
    {
      "cell_type": "code",
      "source": [
        "# COMMUTE_DISTANCE\n",
        "filtered_commute_distance = combined_data[combined_data['COMMUTE_DISTANCE'] < 120]['COMMUTE_DISTANCE']\n",
        "\n",
        "median_commute_distance = filtered_commute_distance.median()\n",
        "combined_data['COMMUTE_DISTANCE'] = combined_data['COMMUTE_DISTANCE'].fillna(median_commute_distance)"
      ],
      "metadata": {
        "id": "Prd99VzZLHg7"
      },
      "execution_count": null,
      "outputs": []
    },
    {
      "cell_type": "code",
      "source": [
        "# MARKING_SYSTEM\n",
        "combined_data['MARKING_SYSTEM'].fillna(\"None\", inplace=True)\n",
        "\n",
        "combined_data = pd.get_dummies(combined_data, columns=['MARKING_SYSTEM'], prefix='Marking')"
      ],
      "metadata": {
        "colab": {
          "base_uri": "https://localhost:8080/"
        },
        "collapsed": true,
        "id": "iW7JWNSTOG1d",
        "outputId": "1c0a4b96-3c3a-4279-d2bb-5faafbcd0944"
      },
      "execution_count": null,
      "outputs": [
        {
          "output_type": "stream",
          "name": "stderr",
          "text": [
            "<ipython-input-208-219f83f78459>:2: FutureWarning: A value is trying to be set on a copy of a DataFrame or Series through chained assignment using an inplace method.\n",
            "The behavior will change in pandas 3.0. This inplace method will never work because the intermediate object on which we are setting values always behaves as a copy.\n",
            "\n",
            "For example, when doing 'df[col].method(value, inplace=True)', try using 'df.method({col: value}, inplace=True)' or df[col] = df[col].method(value) instead, to perform the operation inplace on the original object.\n",
            "\n",
            "\n",
            "  combined_data['MARKING_SYSTEM'].fillna(\"None\", inplace=True)\n"
          ]
        }
      ]
    },
    {
      "cell_type": "code",
      "source": [
        "# TRACKING_SYSTEM\n",
        "combined_data['TRACKING_SYSTEM'].fillna(\"None\", inplace=True)\n",
        "\n",
        "combined_data = pd.get_dummies(combined_data, columns=['TRACKING_SYSTEM'], prefix='Tracking')"
      ],
      "metadata": {
        "colab": {
          "base_uri": "https://localhost:8080/"
        },
        "collapsed": true,
        "id": "7HNhbwS0Oofr",
        "outputId": "305f8ad9-3703-42ee-ff18-a621de0868a7"
      },
      "execution_count": null,
      "outputs": [
        {
          "output_type": "stream",
          "name": "stderr",
          "text": [
            "<ipython-input-209-60bb88367a75>:2: FutureWarning: A value is trying to be set on a copy of a DataFrame or Series through chained assignment using an inplace method.\n",
            "The behavior will change in pandas 3.0. This inplace method will never work because the intermediate object on which we are setting values always behaves as a copy.\n",
            "\n",
            "For example, when doing 'df[col].method(value, inplace=True)', try using 'df.method({col: value}, inplace=True)' or df[col] = df[col].method(value) instead, to perform the operation inplace on the original object.\n",
            "\n",
            "\n",
            "  combined_data['TRACKING_SYSTEM'].fillna(\"None\", inplace=True)\n"
          ]
        }
      ]
    },
    {
      "cell_type": "code",
      "source": [
        "# VEHICLE_OWNERSHIP\n",
        "combined_data['VEHICLE_OWNERSHIP'].fillna(train_data['VEHICLE_OWNERSHIP'].mode()[0], inplace=True)\n",
        "\n",
        "combined_data = pd.get_dummies(combined_data, columns=['VEHICLE_OWNERSHIP'], prefix='Marking')"
      ],
      "metadata": {
        "colab": {
          "base_uri": "https://localhost:8080/"
        },
        "collapsed": true,
        "id": "JbvctpC9O-h2",
        "outputId": "edc13809-705a-4c9c-e44e-03bc7e080c9c"
      },
      "execution_count": null,
      "outputs": [
        {
          "output_type": "stream",
          "name": "stderr",
          "text": [
            "<ipython-input-210-e134d4629409>:2: FutureWarning: A value is trying to be set on a copy of a DataFrame or Series through chained assignment using an inplace method.\n",
            "The behavior will change in pandas 3.0. This inplace method will never work because the intermediate object on which we are setting values always behaves as a copy.\n",
            "\n",
            "For example, when doing 'df[col].method(value, inplace=True)', try using 'df.method({col: value}, inplace=True)' or df[col] = df[col].method(value) instead, to perform the operation inplace on the original object.\n",
            "\n",
            "\n",
            "  combined_data['VEHICLE_OWNERSHIP'].fillna(train_data['VEHICLE_OWNERSHIP'].mode()[0], inplace=True)\n"
          ]
        }
      ]
    },
    {
      "cell_type": "code",
      "source": [
        "# VEHICLE_VALUE\n",
        "mean_vehicle_value = combined_data[combined_data[\"VEHICLE_VALUE\"]>5000][\"VEHICLE_VALUE\"].mean()\n",
        "combined_data[\"VEHICLE_VALUE\"].fillna(mean_vehicle_value, inplace=True)\n",
        "combined_data.loc[combined_data[\"VEHICLE_VALUE\"] < 5000, \"VEHICLE_VALUE\"] = mean_vehicle_value"
      ],
      "metadata": {
        "colab": {
          "base_uri": "https://localhost:8080/"
        },
        "collapsed": true,
        "id": "Y4apk-FD8vDW",
        "outputId": "2979e4f8-5401-4d81-a6a1-3c6ab027c577"
      },
      "execution_count": null,
      "outputs": [
        {
          "output_type": "stream",
          "name": "stderr",
          "text": [
            "<ipython-input-211-3dfb88927184>:3: FutureWarning: A value is trying to be set on a copy of a DataFrame or Series through chained assignment using an inplace method.\n",
            "The behavior will change in pandas 3.0. This inplace method will never work because the intermediate object on which we are setting values always behaves as a copy.\n",
            "\n",
            "For example, when doing 'df[col].method(value, inplace=True)', try using 'df.method({col: value}, inplace=True)' or df[col] = df[col].method(value) instead, to perform the operation inplace on the original object.\n",
            "\n",
            "\n",
            "  combined_data[\"VEHICLE_VALUE\"].fillna(mean_vehicle_value, inplace=True)\n"
          ]
        }
      ]
    },
    {
      "cell_type": "code",
      "source": [
        "# VEHICLEUSE\n",
        "combined_data = pd.get_dummies(combined_data, columns=['VEHICLEUSE'], prefix='VEHICLEUSE')"
      ],
      "metadata": {
        "id": "iHgDay1PCeAR"
      },
      "execution_count": null,
      "outputs": []
    },
    {
      "cell_type": "code",
      "source": [
        "# GENDER\n",
        "combined_data['GENDER'].fillna(combined_data['GENDER'].mode()[0], inplace=True)\n",
        "combined_data = pd.get_dummies(combined_data, columns=['GENDER'], prefix='GENDER')"
      ],
      "metadata": {
        "collapsed": true,
        "colab": {
          "base_uri": "https://localhost:8080/"
        },
        "id": "n7hbh7zxNfrt",
        "outputId": "c17b27fa-1323-4759-af42-2f5e5d12695d"
      },
      "execution_count": null,
      "outputs": [
        {
          "output_type": "stream",
          "name": "stderr",
          "text": [
            "<ipython-input-213-be00d792cc21>:2: FutureWarning: A value is trying to be set on a copy of a DataFrame or Series through chained assignment using an inplace method.\n",
            "The behavior will change in pandas 3.0. This inplace method will never work because the intermediate object on which we are setting values always behaves as a copy.\n",
            "\n",
            "For example, when doing 'df[col].method(value, inplace=True)', try using 'df.method({col: value}, inplace=True)' or df[col] = df[col].method(value) instead, to perform the operation inplace on the original object.\n",
            "\n",
            "\n",
            "  combined_data['GENDER'].fillna(combined_data['GENDER'].mode()[0], inplace=True)\n"
          ]
        }
      ]
    },
    {
      "cell_type": "code",
      "source": [
        "# YEAR_OF_BIRTH\n",
        "combined_data['YEAR_OF_BIRTH'] = (combined_data['YEAR_OF_BIRTH'] // 10) * 10\n",
        "combined_data = pd.get_dummies(combined_data, columns=['YEAR_OF_BIRTH'], prefix='Year_Birth_Decade')"
      ],
      "metadata": {
        "id": "cBOySHTqDhEY"
      },
      "execution_count": null,
      "outputs": []
    },
    {
      "cell_type": "code",
      "source": [
        "# YEARS_LICENSED\n",
        "mean_years_licensed = combined_data[\"YEARS_LICENSED\"].mean()\n",
        "combined_data[\"YEARS_LICENSED\"].fillna(mean_years_licensed, inplace=True)"
      ],
      "metadata": {
        "colab": {
          "base_uri": "https://localhost:8080/"
        },
        "collapsed": true,
        "id": "AURGCiL2D9mA",
        "outputId": "4fd8e6c2-3976-448d-b13a-d735472dccfc"
      },
      "execution_count": null,
      "outputs": [
        {
          "output_type": "stream",
          "name": "stderr",
          "text": [
            "<ipython-input-215-bb567306eb84>:3: FutureWarning: A value is trying to be set on a copy of a DataFrame or Series through chained assignment using an inplace method.\n",
            "The behavior will change in pandas 3.0. This inplace method will never work because the intermediate object on which we are setting values always behaves as a copy.\n",
            "\n",
            "For example, when doing 'df[col].method(value, inplace=True)', try using 'df.method({col: value}, inplace=True)' or df[col] = df[col].method(value) instead, to perform the operation inplace on the original object.\n",
            "\n",
            "\n",
            "  combined_data[\"YEARS_LICENSED\"].fillna(mean_years_licensed, inplace=True)\n"
          ]
        }
      ]
    },
    {
      "cell_type": "code",
      "source": [
        "# MULTI_PRODUCT, MARITAL_STATUS\n",
        "combined_data = pd.get_dummies(combined_data, columns=['MULTI_PRODUCT', 'MARITAL_STATUS'], prefix='MULTI_PRODUCT')"
      ],
      "metadata": {
        "id": "iGyCto1QFByc"
      },
      "execution_count": null,
      "outputs": []
    },
    {
      "cell_type": "code",
      "source": [
        "# OCCUPATION\n",
        "combined_data['OCCUPATION'].fillna(\"Not Known\", inplace=True)\n",
        "combined_data = pd.get_dummies(combined_data, columns=['OCCUPATION'], prefix='OCCUPATION')"
      ],
      "metadata": {
        "colab": {
          "base_uri": "https://localhost:8080/"
        },
        "collapsed": true,
        "id": "dLqvQl6tF-X2",
        "outputId": "f5ade85f-1efd-4984-bd3f-5911dc3249aa"
      },
      "execution_count": null,
      "outputs": [
        {
          "output_type": "stream",
          "name": "stderr",
          "text": [
            "<ipython-input-217-4dc913ac1355>:2: FutureWarning: A value is trying to be set on a copy of a DataFrame or Series through chained assignment using an inplace method.\n",
            "The behavior will change in pandas 3.0. This inplace method will never work because the intermediate object on which we are setting values always behaves as a copy.\n",
            "\n",
            "For example, when doing 'df[col].method(value, inplace=True)', try using 'df.method({col: value}, inplace=True)' or df[col] = df[col].method(value) instead, to perform the operation inplace on the original object.\n",
            "\n",
            "\n",
            "  combined_data['OCCUPATION'].fillna(\"Not Known\", inplace=True)\n"
          ]
        }
      ]
    },
    {
      "cell_type": "code",
      "source": [
        "# Replace Bools with 0s and 1s\n",
        "for col in combined_data.columns:\n",
        "    if isinstance(combined_data[col], pd.Series) and combined_data[col].dtype == 'bool':\n",
        "        combined_data[col] = combined_data[col].astype(int)"
      ],
      "metadata": {
        "id": "XZ58XOhoIb_K"
      },
      "execution_count": null,
      "outputs": []
    },
    {
      "cell_type": "code",
      "source": [
        "# Split train data and test data\n",
        "train_data = combined_data[combined_data['is_train'] == 1].drop(columns=['is_train'])\n",
        "test_data = combined_data[combined_data['is_train'] == 0].drop(columns=['is_train', 'IS_BOUND'])"
      ],
      "metadata": {
        "id": "-b4lIs1CN4dH"
      },
      "execution_count": null,
      "outputs": []
    },
    {
      "cell_type": "markdown",
      "source": [
        "## Standardization"
      ],
      "metadata": {
        "id": "ubq582POHB3H"
      }
    },
    {
      "cell_type": "code",
      "source": [
        "scaler = StandardScaler()\n",
        "\n",
        "train_data_standardized = scaler.fit_transform(train_data.drop(columns=['IS_BOUND', 'QUOTEDATE', 'VEHICLEMAKE', 'VEHICLEMODEL', 'POSTAL_CODE', 'AREA_CODE', 'YEARS_AS_PRINCIPAL_DRIVER']))\n",
        "train_data_standardized = pd.DataFrame(train_data_standardized, columns=train_data.drop(columns=['IS_BOUND', 'QUOTEDATE', 'VEHICLEMAKE', 'VEHICLEMODEL', 'POSTAL_CODE', 'AREA_CODE', 'YEARS_AS_PRINCIPAL_DRIVER']).columns)\n",
        "train_data_standardized['IS_BOUND'] = train_data['IS_BOUND'].values  # Reattach \"IS_BOUND\" column\n",
        "\n",
        "test_data_standardized = scaler.transform(test_data.drop(columns=['QUOTEDATE', 'VEHICLEMAKE', 'VEHICLEMODEL', 'POSTAL_CODE', 'AREA_CODE', 'YEARS_AS_PRINCIPAL_DRIVER']))\n",
        "test_data_standardized = pd.DataFrame(test_data_standardized, columns=test_data.drop(columns=['QUOTEDATE', 'VEHICLEMAKE', 'VEHICLEMODEL', 'POSTAL_CODE', 'AREA_CODE', 'YEARS_AS_PRINCIPAL_DRIVER']).columns)\n"
      ],
      "metadata": {
        "id": "e4RlYDFEHD0U"
      },
      "execution_count": null,
      "outputs": []
    },
    {
      "cell_type": "markdown",
      "source": [
        "# Modelling Method 1 - Logistic Regression"
      ],
      "metadata": {
        "id": "B29TrGWC2aQT"
      }
    },
    {
      "cell_type": "markdown",
      "source": [
        "## Logistic Regression 1"
      ],
      "metadata": {
        "id": "ETxYIwdOUZq5"
      }
    },
    {
      "cell_type": "code",
      "source": [
        "X = train_data_standardized.drop(columns=['IS_BOUND'])\n",
        "y = train_data_standardized['IS_BOUND']\n",
        "\n",
        "X_train, X_test, y_train, y_test = train_test_split(X, y, test_size=0.2, random_state=64)\n",
        "\n",
        "model = LogisticRegression(class_weight=\"balanced\", random_state=89, max_iter=1000)\n",
        "model.fit(X_train, y_train)\n",
        "\n",
        "y_pred = model.predict(X_test) # Prediction\n",
        "\n",
        "# Evaluate the model\n",
        "print(\"Accuracy:\", accuracy_score(y_test, y_pred))\n",
        "print(\"Confusion Matrix:\\n\", confusion_matrix(y_test, y_pred))\n",
        "print(\"Classification Report:\\n\", classification_report(y_test, y_pred))\n",
        "\n",
        "y_proba = model.predict_proba(X_test)[:, 1] # Predicted Probabilities\n",
        "\n",
        "# Calculate ROC curve values: FPR, TPR, and threshold values\n",
        "fpr, tpr, thresholds = roc_curve(y_test, y_proba)\n",
        "# Calculate AUC (Area Under the Curve)\n",
        "auc_score = roc_auc_score(y_test, y_proba)\n",
        "print(\"AUC-ROC Score:\", auc_score)\n",
        "# Calculate F1 Score\n",
        "f1 = f1_score(y_test, y_pred)\n",
        "print(\"F1 Score:\", f1)\n",
        "\n",
        "# Plot the ROC curve\n",
        "plt.figure(figsize=(8, 6))\n",
        "plt.plot(fpr, tpr, label=f\"Logistic Regression (AUC = {auc_score:.4f})\")\n",
        "plt.plot([0, 1], [0, 1], 'k--', label=\"Random Guess\")  # Diagonal line for random guess\n",
        "plt.xlabel(\"False Positive Rate\")\n",
        "plt.ylabel(\"True Positive Rate\")\n",
        "plt.title(\"ROC Curve\")\n",
        "plt.legend()\n",
        "plt.show()"
      ],
      "metadata": {
        "colab": {
          "base_uri": "https://localhost:8080/",
          "height": 868
        },
        "id": "S5LJdEZ_2eAZ",
        "outputId": "c2d04698-6f28-4923-833f-c8e3a596294e"
      },
      "execution_count": null,
      "outputs": [
        {
          "output_type": "stream",
          "name": "stdout",
          "text": [
            "Accuracy: 0.5608008636765139\n",
            "Confusion Matrix:\n",
            " [[8728 7268]\n",
            " [1682 2700]]\n",
            "Classification Report:\n",
            "               precision    recall  f1-score   support\n",
            "\n",
            "         0.0       0.84      0.55      0.66     15996\n",
            "         1.0       0.27      0.62      0.38      4382\n",
            "\n",
            "    accuracy                           0.56     20378\n",
            "   macro avg       0.55      0.58      0.52     20378\n",
            "weighted avg       0.72      0.56      0.60     20378\n",
            "\n",
            "AUC-ROC Score: 0.6140633458227633\n",
            "F1 Score: 0.37630662020905925\n"
          ]
        },
        {
          "output_type": "display_data",
          "data": {
            "text/plain": [
              "<Figure size 800x600 with 1 Axes>"
            ],
            "image/png": "[encoded data removed]"
          },
          "metadata": {}
        }
      ]
    },
    {
      "cell_type": "markdown",
      "source": [
        "## Model Tuning"
      ],
      "metadata": {
        "id": "o8WweUh2Uew5"
      }
    },
    {
      "cell_type": "code",
      "source": [
        "def log_reg(X, y):\n",
        "    X_train, X_test, y_train, y_test = train_test_split(X, y, test_size=0.2, random_state=64)\n",
        "    model = LogisticRegression(class_weight=\"balanced\", random_state=89, max_iter=1000)\n",
        "    model.fit(X_train, y_train)\n",
        "    y_pred = model.predict(X_test)\n",
        "    y_proba = model.predict_proba(X_test)[:, 1]\n",
        "\n",
        "\n",
        "    matrix = confusion_matrix(y_test, y_pred)\n",
        "    accuracyScore = accuracy_score(y_test, y_pred)\n",
        "    auc_score = roc_auc_score(y_test, y_proba)\n",
        "    f1 = f1_score(y_test, y_pred)\n",
        "    TN, FP = matrix[0]\n",
        "    FN, TP = matrix[1]\n",
        "    profit = TP * 5.5 + (FP + TP) * -1\n",
        "\n",
        "    return accuracyScore, auc_score, f1, profit"
      ],
      "metadata": {
        "id": "PHhTkJBRYseL"
      },
      "execution_count": null,
      "outputs": []
    },
    {
      "cell_type": "markdown",
      "source": [
        "### Forward Selection"
      ],
      "metadata": {
        "id": "ruCtYuNIgedf"
      }
    },
    {
      "cell_type": "code",
      "source": [
        "X = train_data_standardized.drop(columns=['IS_BOUND'])\n",
        "y = train_data_standardized['IS_BOUND']\n",
        "selected_features = []\n",
        "remaining_features = X.columns.tolist()\n",
        "best_auc = 0.5\n",
        "\n",
        "while remaining_features:\n",
        "    best_feature = None\n",
        "    for feature in remaining_features:\n",
        "        # Create a model with the current selected features plus the new candidate\n",
        "        model = LogisticRegression()\n",
        "        current_features = selected_features + [feature]\n",
        "\n",
        "        # Evaluate model's precision using cross-validation\n",
        "        accuracyScore, auc_score, f1, profit = log_reg(X[current_features], y)\n",
        "\n",
        "        # Check if this precision is the best we've seen\n",
        "        if auc_score > best_auc:\n",
        "            best_auc = auc_score\n",
        "            best_feature = feature\n",
        "\n",
        "    if best_feature:\n",
        "        selected_features.append(best_feature)\n",
        "        remaining_features.remove(best_feature)\n",
        "        print(f\"Added feature: {best_feature} with auc: {auc_score}\")\n",
        "    else:\n",
        "        break  # No more features improve precision\n",
        "\n",
        "print(\"Selected features:\", selected_features)"
      ],
      "metadata": {
        "colab": {
          "base_uri": "https://localhost:8080/"
        },
        "id": "1i2G-8_ighMf",
        "outputId": "31b6d9a4-7505-4180-b8e3-3062190f1f32"
      },
      "execution_count": null,
      "outputs": [
        {
          "output_type": "stream",
          "name": "stdout",
          "text": [
            "Added feature: MULTI_PRODUCT_No with auc: 0.5007204562436821\n",
            "Added feature: Year_Birth_Decade_1980 with auc: 0.565485164079701\n",
            "Added feature: VEHICLEYEAR with auc: 0.5894716633288857\n",
            "Added feature: Year_Birth_Decade_1990 with auc: 0.5966262146892269\n",
            "Added feature: Year_Birth_Decade_1970 with auc: 0.6023831166029755\n",
            "Added feature: YEARS_LICENSED with auc: 0.6040459581463142\n",
            "Added feature: OCCUPATION_Not Known with auc: 0.6091909216464317\n",
            "Added feature: Year_Birth_Decade_9990 with auc: 0.6103825491402517\n",
            "Added feature: Year_Birth_Decade_1940 with auc: 0.6112071434106816\n",
            "Added feature: OCCUPATION_Office/Stores with auc: 0.6118204300048083\n",
            "Added feature: MULTI_PRODUCT_Separated with auc: 0.612330605757327\n",
            "Added feature: VEHICLEUSE_Pleasure with auc: 0.6128239756196465\n",
            "Added feature: Year_Birth_Decade_1930 with auc: 0.6132490876027998\n",
            "Added feature: CONVICTION_COUNT_CRIMINAL_3YRS with auc: 0.6137072763740913\n",
            "Added feature: VEHICLEUSE_Farm Pleasure with auc: 0.6140950672971757\n",
            "Added feature: OCCUPATION_Military with auc: 0.6144558732106578\n",
            "Added feature: Decade_1960 with auc: 0.6148381572800776\n",
            "Added feature: CONVICTION_COUNT_MAJOR_3YRS with auc: 0.6151615636679595\n",
            "Added feature: VEHICLE_VALUE with auc: 0.6154588125009346\n",
            "Added feature: MULTI_PRODUCT_Single with auc: 0.615749562961256\n",
            "Added feature: Month_1 with auc: 0.6160449500211658\n",
            "Added feature: ASSIGNED_LOSSES_PD_5YRS with auc: 0.616173390962985\n",
            "Added feature: Year_Birth_Decade_1960 with auc: 0.6163135304022263\n",
            "Added feature: car_Non-Luxury with auc: 0.616432783743631\n",
            "Added feature: OCCUPATION_Unemployed with auc: 0.6165596910409711\n",
            "Added feature: Month_12 with auc: 0.6165876818360226\n",
            "Added feature: VEHICLEUSE_Courtesy Car with auc: 0.6166908782763925\n",
            "Added feature: OCCUPATION_Insurance with auc: 0.6167951875006634\n",
            "Added feature: Month_11 with auc: 0.6168859364544468\n",
            "Added feature: OCCUPATION_Government  with auc: 0.6169606570401158\n",
            "Added feature: VEHICLEUSE_Police Emergency/Patrol with auc: 0.6170251343073103\n",
            "Added feature: OCCUPATION_Service Work with auc: 0.6170739470011273\n",
            "Added feature: Year_Birth_Decade_2010 with auc: 0.6171217325098047\n",
            "Added feature: Tracking_None with auc: 0.6171663365978418\n",
            "Added feature: OCCUPATION_Tradesman with auc: 0.6172098350352079\n",
            "Added feature: Marking_None with auc: 0.6171575341918547\n",
            "Added feature: Decade_1940 with auc: 0.6171810453183811\n",
            "Added feature: Decade_1990 with auc: 0.6171954687097151\n",
            "Added feature: ANNUAL_KM with auc: 0.6172164118733928\n",
            "Added feature: OCCUPATION_Management/Administration with auc: 0.6172495671270624\n",
            "Added feature: Marking_M - Autolock Marking with auc: 0.617255437775464\n",
            "Added feature: OCCUPATION_Professional/Social with auc: 0.6172629847329472\n",
            "Added feature: OCCUPATION_Labour/Plant with auc: 0.6172741910374901\n",
            "Added feature: GENDER_Unknown with auc: 0.6172831503745403\n",
            "Added feature: Decade_1930 with auc: 0.6172849122823837\n",
            "Added feature: MULTI_PRODUCT_Yes with auc: 0.617283499902817\n",
            "Added feature: car_Luxury with auc: 0.617289663013654\n",
            "Added feature: OCCUPATION_Student with auc: 0.617295455196524\n",
            "Added feature: Marking_Owned with auc: 0.6173022745645335\n",
            "Added feature: OCCUPATION_Retired with auc: 0.6172974881671126\n",
            "Added feature: Month_4 with auc: 0.6172879082390406\n",
            "Selected features: ['MULTI_PRODUCT_No', 'Year_Birth_Decade_1980', 'VEHICLEYEAR', 'Year_Birth_Decade_1990', 'Year_Birth_Decade_1970', 'YEARS_LICENSED', 'OCCUPATION_Not Known', 'Year_Birth_Decade_9990', 'Year_Birth_Decade_1940', 'OCCUPATION_Office/Stores', 'MULTI_PRODUCT_Separated', 'VEHICLEUSE_Pleasure', 'Year_Birth_Decade_1930', 'CONVICTION_COUNT_CRIMINAL_3YRS', 'VEHICLEUSE_Farm Pleasure', 'OCCUPATION_Military', 'Decade_1960', 'CONVICTION_COUNT_MAJOR_3YRS', 'VEHICLE_VALUE', 'MULTI_PRODUCT_Single', 'Month_1', 'ASSIGNED_LOSSES_PD_5YRS', 'Year_Birth_Decade_1960', 'car_Non-Luxury', 'OCCUPATION_Unemployed', 'Month_12', 'VEHICLEUSE_Courtesy Car', 'OCCUPATION_Insurance', 'Month_11', 'OCCUPATION_Government ', 'VEHICLEUSE_Police Emergency/Patrol', 'OCCUPATION_Service Work', 'Year_Birth_Decade_2010', 'Tracking_None', 'OCCUPATION_Tradesman', 'Marking_None', 'Decade_1940', 'Decade_1990', 'ANNUAL_KM', 'OCCUPATION_Management/Administration', 'Marking_M - Autolock Marking', 'OCCUPATION_Professional/Social', 'OCCUPATION_Labour/Plant', 'GENDER_Unknown', 'Decade_1930', 'MULTI_PRODUCT_Yes', 'car_Luxury', 'OCCUPATION_Student', 'Marking_Owned', 'OCCUPATION_Retired', 'Month_4']\n"
          ]
        }
      ]
    },
    {
      "cell_type": "markdown",
      "source": [
        "### Interaction Terms"
      ],
      "metadata": {
        "id": "B4NgxhO4a2R-"
      }
    },
    {
      "cell_type": "code",
      "source": [
        "X_interact = train_data_standardized[selected_features]\n",
        "y = train_data_standardized['IS_BOUND']\n",
        "highest_auc = 0.6141\n",
        "for i in X_interact.columns:\n",
        "    for j in X_interact.columns:\n",
        "        joint_feature_name = f'{i}_{j}'\n",
        "        X_temp = X_interact.copy()  # Work on a copy of the best feature set\n",
        "        X_temp[joint_feature_name] = X_interact[i] * X_interact[j]  # Create the joint feature\n",
        "        X_temp.drop(columns=[i, j], inplace=True)  # Remove the original features\n",
        "        accuracyScore, auc_score, f1, profit = log_reg(X_temp, y)\n",
        "\n",
        "        # If the auc improves, keep the joint feature\n",
        "        if auc_score > highest_auc:\n",
        "            highest_auc = auc_score\n",
        "            X_interact[joint_feature_name] = X_temp[i] * X_temp[j]\n",
        "            print(f\"New highest AUC with {joint_feature_name}: {highest_auc}\")\n",
        "        else:\n",
        "            print(f\"No improvement with {joint_feature_name}, skipping.\")\n",
        "            X_temp.drop(columns=[joint_feature_name], inplace=True)  # Remove the joint feature\n",
        "\n",
        "log_reg(X_interact, Y)"
      ],
      "metadata": {
        "colab": {
          "base_uri": "https://localhost:8080/",
          "height": 578
        },
        "id": "GIDfmH_0a73K",
        "outputId": "0c4ed087-2315-49d6-ee52-9ca28fcd21f9"
      },
      "execution_count": null,
      "outputs": [
        {
          "output_type": "error",
          "ename": "KeyError",
          "evalue": "'MULTI_PRODUCT_No'",
          "traceback": [
            "\u001b[0;31m---------------------------------------------------------------------------\u001b[0m",
            "\u001b[0;31mKeyError\u001b[0m                                  Traceback (most recent call last)",
            "\u001b[0;32m/usr/local/lib/python3.10/dist-packages/pandas/core/indexes/base.py\u001b[0m in \u001b[0;36mget_loc\u001b[0;34m(self, key)\u001b[0m\n\u001b[1;32m   3804\u001b[0m         \u001b[0;32mtry\u001b[0m\u001b[0;34m:\u001b[0m\u001b[0;34m\u001b[0m\u001b[0;34m\u001b[0m\u001b[0m\n\u001b[0;32m-> 3805\u001b[0;31m             \u001b[0;32mreturn\u001b[0m \u001b[0mself\u001b[0m\u001b[0;34m.\u001b[0m\u001b[0m_engine\u001b[0m\u001b[0;34m.\u001b[0m\u001b[0mget_loc\u001b[0m\u001b[0;34m(\u001b[0m\u001b[0mcasted_key\u001b[0m\u001b[0;34m)\u001b[0m\u001b[0;34m\u001b[0m\u001b[0;34m\u001b[0m\u001b[0m\n\u001b[0m\u001b[1;32m   3806\u001b[0m         \u001b[0;32mexcept\u001b[0m \u001b[0mKeyError\u001b[0m \u001b[0;32mas\u001b[0m \u001b[0merr\u001b[0m\u001b[0;34m:\u001b[0m\u001b[0;34m\u001b[0m\u001b[0;34m\u001b[0m\u001b[0m\n",
            "\u001b[0;32mindex.pyx\u001b[0m in \u001b[0;36mpandas._libs.index.IndexEngine.get_loc\u001b[0;34m()\u001b[0m\n",
            "\u001b[0;32mindex.pyx\u001b[0m in \u001b[0;36mpandas._libs.index.IndexEngine.get_loc\u001b[0;34m()\u001b[0m\n",
            "\u001b[0;32mpandas/_libs/hashtable_class_helper.pxi\u001b[0m in \u001b[0;36mpandas._libs.hashtable.PyObjectHashTable.get_item\u001b[0;34m()\u001b[0m\n",
            "\u001b[0;32mpandas/_libs/hashtable_class_helper.pxi\u001b[0m in \u001b[0;36mpandas._libs.hashtable.PyObjectHashTable.get_item\u001b[0;34m()\u001b[0m\n",
            "\u001b[0;31mKeyError\u001b[0m: 'MULTI_PRODUCT_No'",
            "\nThe above exception was the direct cause of the following exception:\n",
            "\u001b[0;31mKeyError\u001b[0m                                  Traceback (most recent call last)",
            "\u001b[0;32m<ipython-input-234-d2af289cc920>\u001b[0m in \u001b[0;36m<cell line: 4>\u001b[0;34m()\u001b[0m\n\u001b[1;32m     13\u001b[0m         \u001b[0;32mif\u001b[0m \u001b[0mauc_score\u001b[0m \u001b[0;34m>\u001b[0m \u001b[0mhighest_auc\u001b[0m\u001b[0;34m:\u001b[0m\u001b[0;34m\u001b[0m\u001b[0;34m\u001b[0m\u001b[0m\n\u001b[1;32m     14\u001b[0m             \u001b[0mhighest_auc\u001b[0m \u001b[0;34m=\u001b[0m \u001b[0mauc_score\u001b[0m\u001b[0;34m\u001b[0m\u001b[0;34m\u001b[0m\u001b[0m\n\u001b[0;32m---> 15\u001b[0;31m             \u001b[0mX_interact\u001b[0m\u001b[0;34m[\u001b[0m\u001b[0mjoint_feature_name\u001b[0m\u001b[0;34m]\u001b[0m \u001b[0;34m=\u001b[0m \u001b[0mX_temp\u001b[0m\u001b[0;34m[\u001b[0m\u001b[0mi\u001b[0m\u001b[0;34m]\u001b[0m \u001b[0;34m*\u001b[0m \u001b[0mX_temp\u001b[0m\u001b[0;34m[\u001b[0m\u001b[0mj\u001b[0m\u001b[0;34m]\u001b[0m\u001b[0;34m\u001b[0m\u001b[0;34m\u001b[0m\u001b[0m\n\u001b[0m\u001b[1;32m     16\u001b[0m             \u001b[0mprint\u001b[0m\u001b[0;34m(\u001b[0m\u001b[0;34mf\"New highest AUC with {joint_feature_name}: {highest_auc}\"\u001b[0m\u001b[0;34m)\u001b[0m\u001b[0;34m\u001b[0m\u001b[0;34m\u001b[0m\u001b[0m\n\u001b[1;32m     17\u001b[0m         \u001b[0;32melse\u001b[0m\u001b[0;34m:\u001b[0m\u001b[0;34m\u001b[0m\u001b[0;34m\u001b[0m\u001b[0m\n",
            "\u001b[0;32m/usr/local/lib/python3.10/dist-packages/pandas/core/frame.py\u001b[0m in \u001b[0;36m__getitem__\u001b[0;34m(self, key)\u001b[0m\n\u001b[1;32m   4100\u001b[0m             \u001b[0;32mif\u001b[0m \u001b[0mself\u001b[0m\u001b[0;34m.\u001b[0m\u001b[0mcolumns\u001b[0m\u001b[0;34m.\u001b[0m\u001b[0mnlevels\u001b[0m \u001b[0;34m>\u001b[0m \u001b[0;36m1\u001b[0m\u001b[0;34m:\u001b[0m\u001b[0;34m\u001b[0m\u001b[0;34m\u001b[0m\u001b[0m\n\u001b[1;32m   4101\u001b[0m                 \u001b[0;32mreturn\u001b[0m \u001b[0mself\u001b[0m\u001b[0;34m.\u001b[0m\u001b[0m_getitem_multilevel\u001b[0m\u001b[0;34m(\u001b[0m\u001b[0mkey\u001b[0m\u001b[0;34m)\u001b[0m\u001b[0;34m\u001b[0m\u001b[0;34m\u001b[0m\u001b[0m\n\u001b[0;32m-> 4102\u001b[0;31m             \u001b[0mindexer\u001b[0m \u001b[0;34m=\u001b[0m \u001b[0mself\u001b[0m\u001b[0;34m.\u001b[0m\u001b[0mcolumns\u001b[0m\u001b[0;34m.\u001b[0m\u001b[0mget_loc\u001b[0m\u001b[0;34m(\u001b[0m\u001b[0mkey\u001b[0m\u001b[0;34m)\u001b[0m\u001b[0;34m\u001b[0m\u001b[0;34m\u001b[0m\u001b[0m\n\u001b[0m\u001b[1;32m   4103\u001b[0m             \u001b[0;32mif\u001b[0m \u001b[0mis_integer\u001b[0m\u001b[0;34m(\u001b[0m\u001b[0mindexer\u001b[0m\u001b[0;34m)\u001b[0m\u001b[0;34m:\u001b[0m\u001b[0;34m\u001b[0m\u001b[0;34m\u001b[0m\u001b[0m\n\u001b[1;32m   4104\u001b[0m                 \u001b[0mindexer\u001b[0m \u001b[0;34m=\u001b[0m \u001b[0;34m[\u001b[0m\u001b[0mindexer\u001b[0m\u001b[0;34m]\u001b[0m\u001b[0;34m\u001b[0m\u001b[0;34m\u001b[0m\u001b[0m\n",
            "\u001b[0;32m/usr/local/lib/python3.10/dist-packages/pandas/core/indexes/base.py\u001b[0m in \u001b[0;36mget_loc\u001b[0;34m(self, key)\u001b[0m\n\u001b[1;32m   3810\u001b[0m             ):\n\u001b[1;32m   3811\u001b[0m                 \u001b[0;32mraise\u001b[0m \u001b[0mInvalidIndexError\u001b[0m\u001b[0;34m(\u001b[0m\u001b[0mkey\u001b[0m\u001b[0;34m)\u001b[0m\u001b[0;34m\u001b[0m\u001b[0;34m\u001b[0m\u001b[0m\n\u001b[0;32m-> 3812\u001b[0;31m             \u001b[0;32mraise\u001b[0m \u001b[0mKeyError\u001b[0m\u001b[0;34m(\u001b[0m\u001b[0mkey\u001b[0m\u001b[0;34m)\u001b[0m \u001b[0;32mfrom\u001b[0m \u001b[0merr\u001b[0m\u001b[0;34m\u001b[0m\u001b[0;34m\u001b[0m\u001b[0m\n\u001b[0m\u001b[1;32m   3813\u001b[0m         \u001b[0;32mexcept\u001b[0m \u001b[0mTypeError\u001b[0m\u001b[0;34m:\u001b[0m\u001b[0;34m\u001b[0m\u001b[0;34m\u001b[0m\u001b[0m\n\u001b[1;32m   3814\u001b[0m             \u001b[0;31m# If we have a listlike key, _check_indexing_error will raise\u001b[0m\u001b[0;34m\u001b[0m\u001b[0;34m\u001b[0m\u001b[0m\n",
            "\u001b[0;31mKeyError\u001b[0m: 'MULTI_PRODUCT_No'"
          ]
        }
      ]
    },
    {
      "cell_type": "code",
      "source": [],
      "metadata": {
        "id": "0cbeiG2mgdV5"
      },
      "execution_count": null,
      "outputs": []
    },
    {
      "cell_type": "markdown",
      "source": [
        "### Threshold"
      ],
      "metadata": {
        "id": "kioDm_SxChQT"
      }
    },
    {
      "cell_type": "code",
      "source": [
        "X = X_interact\n",
        "y = train_data_standardized['IS_BOUND']\n",
        "\n",
        "X_train, X_test, y_train, y_test = train_test_split(X, y, test_size=0.2, random_state=64)\n",
        "\n",
        "model = LogisticRegression(class_weight=\"balanced\", random_state=89, max_iter=1000)\n",
        "model.fit(X_train, y_train)\n",
        "\n",
        "y_pred = model.predict(X_test) # Prediction\n",
        "\n",
        "# Evaluate the model\n",
        "print(\"Accuracy:\", accuracy_score(y_test, y_pred))\n",
        "print(\"Confusion Matrix:\\n\", confusion_matrix(y_test, y_pred))\n",
        "print(\"Classification Report:\\n\", classification_report(y_test, y_pred))\n",
        "\n",
        "y_proba = model.predict_proba(X_test)[:, 1] # Predicted Probabilities\n",
        "\n",
        "\n",
        "precision, recall, thresholds = precision_recall_curve(y_test, y_proba)\n",
        "plt.plot(thresholds, precision[:-1], 'b-', label='Precision')\n",
        "plt.plot(thresholds, recall[:-1], 'g-', label='Recall')\n",
        "plt.xlabel('Threshold')\n",
        "plt.ylabel('Score')\n",
        "plt.title('Precision-Recall vs Threshold')\n",
        "plt.legend(loc='best')\n",
        "plt.show()"
      ],
      "metadata": {
        "colab": {
          "base_uri": "https://localhost:8080/",
          "height": 492
        },
        "id": "LOguSNVmECK6",
        "outputId": "4265d988-68d0-479b-a27c-48f040e45a6e"
      },
      "execution_count": null,
      "outputs": [
        {
          "output_type": "display_data",
          "data": {
            "text/plain": [
              "<Figure size 640x480 with 1 Axes>"
            ],
            "image/png": "[encoded data removed]"
          },
          "metadata": {}
        }
      ]
    },
    {
      "cell_type": "code",
      "source": [
        "# Profit for true positives(TP): +5.5\n",
        "# Cost for predicting a positive(1): -1\n",
        "\n",
        "\n",
        "y_pred_prob = model.predict_proba(X_test)[:, 1]\n",
        "thresholds = np.arange(0.4, 0.5, 0.01)  # Adjust granularity if needed\n",
        "\n",
        "#Evaluate performance at each threshold\n",
        "for threshold in thresholds:\n",
        "    # Predict class labels based on the threshold\n",
        "    y_pred_custom = (y_pred_prob >= threshold).astype(int)\n",
        "\n",
        "    # Calculate metrics\n",
        "    precision = precision_score(y_test, y_pred_custom)\n",
        "    recall = recall_score(y_test, y_pred_custom)\n",
        "    f1 = f1_score(y_test, y_pred_custom)\n",
        "    auc = roc_auc_score(y_test, y_pred_custom)  # AUC remains the same, independent of threshold\n",
        "\n",
        "    matrix = confusion_matrix(y_test, y_pred_custom)\n",
        "    TN, FP = matrix[0]\n",
        "    FN, TP = matrix[1]\n",
        "    profit = TP * 5.5 + (FP + TP) * -1\n",
        "    # Print or store the metrics for each threshold\n",
        "    print(f\"Threshold: {threshold:.2f}\")\n",
        "    print(f\"Precision: {precision:.3f}, Recall: {recall:.3f}, F1-Score: {f1:.3f}, AUC-ROC: {auc:.3f}\")\n",
        "    print(\"Confusion Matrix:\\n\", confusion_matrix(y_test, y_pred_custom))\n",
        "    print(f\"Total Profit: {profit}\")\n",
        "    print(\"-\" * 30)"
      ],
      "metadata": {
        "colab": {
          "base_uri": "https://localhost:8080/"
        },
        "id": "flcfrs-mCgpG",
        "outputId": "f7c04f36-db5f-4a86-e4ad-b7e16766aae4"
      },
      "execution_count": null,
      "outputs": [
        {
          "output_type": "stream",
          "name": "stdout",
          "text": [
            "Threshold: 0.40\n",
            "Precision: 0.238, Recall: 0.894, F1-Score: 0.375, AUC-ROC: 0.554\n",
            "Confusion Matrix:\n",
            " [[ 3418 12578]\n",
            " [  463  3919]]\n",
            "Total Profit: 5057.5\n",
            "------------------------------\n",
            "Threshold: 0.41\n",
            "Precision: 0.241, Recall: 0.875, F1-Score: 0.378, AUC-ROC: 0.561\n",
            "Confusion Matrix:\n",
            " [[ 3938 12058]\n",
            " [  547  3835]]\n",
            "Total Profit: 5199.5\n",
            "------------------------------\n",
            "Threshold: 0.42\n",
            "Precision: 0.246, Recall: 0.854, F1-Score: 0.381, AUC-ROC: 0.568\n",
            "Confusion Matrix:\n",
            " [[ 4501 11495]\n",
            " [  641  3741]]\n",
            "Total Profit: 5339.5\n",
            "------------------------------\n",
            "Threshold: 0.43\n",
            "Precision: 0.249, Recall: 0.831, F1-Score: 0.383, AUC-ROC: 0.573\n",
            "Confusion Matrix:\n",
            " [[ 5020 10976]\n",
            " [  739  3643]]\n",
            "Total Profit: 5417.5\n",
            "------------------------------\n",
            "Threshold: 0.44\n",
            "Precision: 0.254, Recall: 0.809, F1-Score: 0.386, AUC-ROC: 0.579\n",
            "Confusion Matrix:\n",
            " [[ 5566 10430]\n",
            " [  835  3547]]\n",
            "Total Profit: 5531.5\n",
            "------------------------------\n",
            "Threshold: 0.45\n",
            "Precision: 0.256, Recall: 0.780, F1-Score: 0.386, AUC-ROC: 0.580\n",
            "Confusion Matrix:\n",
            " [[6072 9924]\n",
            " [ 966 3416]]\n",
            "Total Profit: 5448.0\n",
            "------------------------------\n",
            "Threshold: 0.46\n",
            "Precision: 0.259, Recall: 0.751, F1-Score: 0.385, AUC-ROC: 0.582\n",
            "Confusion Matrix:\n",
            " [[6586 9410]\n",
            " [1089 3293]]\n",
            "Total Profit: 5408.5\n",
            "------------------------------\n",
            "Threshold: 0.47\n",
            "Precision: 0.262, Recall: 0.721, F1-Score: 0.384, AUC-ROC: 0.582\n",
            "Confusion Matrix:\n",
            " [[7088 8908]\n",
            " [1223 3159]]\n",
            "Total Profit: 5307.5\n",
            "------------------------------\n",
            "Threshold: 0.48\n",
            "Precision: 0.264, Recall: 0.686, F1-Score: 0.382, AUC-ROC: 0.582\n",
            "Confusion Matrix:\n",
            " [[7639 8357]\n",
            " [1377 3005]]\n",
            "Total Profit: 5165.5\n",
            "------------------------------\n",
            "Threshold: 0.49\n",
            "Precision: 0.267, Recall: 0.653, F1-Score: 0.379, AUC-ROC: 0.581\n",
            "Confusion Matrix:\n",
            " [[8139 7857]\n",
            " [1520 2862]]\n",
            "Total Profit: 5022.0\n",
            "------------------------------\n"
          ]
        }
      ]
    }
  ]
}